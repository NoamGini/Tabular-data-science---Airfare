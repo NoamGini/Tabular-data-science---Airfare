{
 "cells": [
  {
   "cell_type": "markdown",
   "id": "37aa7f61-5658-441e-93d6-5a50c79159cb",
   "metadata": {},
   "source": [
    "# Basic pipeline"
   ]
  },
  {
   "cell_type": "markdown",
   "id": "7958b4a4-6382-4f63-81f1-80e6750e5cd9",
   "metadata": {},
   "source": [
    "**Noam Gini 208375642  \n",
    "Shai Fisher 315150342**"
   ]
  },
  {
   "cell_type": "markdown",
   "id": "5ae45b29-d84e-4e34-ae77-4ec2a583d846",
   "metadata": {},
   "source": [
    "## Flight fares predictions using the following dataset: [Filght fares](https://www.kaggle.com/datasets/yashdharme36/airfare-ml-predicting-flight-fares)"
   ]
  },
  {
   "cell_type": "markdown",
   "id": "d5ac7f92-02dd-41d4-a81a-2e7e53e29f92",
   "metadata": {},
   "source": [
    "### Imports of relevant packages"
   ]
  },
  {
   "cell_type": "code",
   "execution_count": 41,
   "id": "9c2865dd-d9d0-437d-bc7f-a581b0bb6747",
   "metadata": {},
   "outputs": [],
   "source": [
    "#data processing\n",
    "import pandas as pd\n",
    "import numpy as np\n",
    "\n",
    "#data visualizations\n",
    "import seaborn as sns\n",
    "import matplotlib.pyplot as plt\n",
    "%matplotlib inline\n",
    "\n",
    "#Machine learning library\n",
    "import sklearn"
   ]
  },
  {
   "cell_type": "markdown",
   "id": "33dfe62e-5e34-400b-b0c5-829aca3bbb89",
   "metadata": {},
   "source": [
    "## Introducing the Flight fares dataset - Exploratory Data Analysis (EDA)"
   ]
  },
  {
   "cell_type": "code",
   "execution_count": 42,
   "id": "693b6e52-a37b-4621-bf05-ed31dfe9829f",
   "metadata": {},
   "outputs": [],
   "source": [
    "dtf = pd.read_csv(\"./data/data_airfare.csv\")"
   ]
  },
  {
   "cell_type": "code",
   "execution_count": 43,
   "id": "4f4ca59e-1a86-4380-9efb-dea46a5268e3",
   "metadata": {},
   "outputs": [],
   "source": [
    "numeric_columns = dtf.dtypes[(dtf.dtypes==\"float64\") | (dtf.dtypes==\"int64\")].index.tolist()\n",
    "categorical_columns = [c for c in dtf.columns if c not in numeric_columns]"
   ]
  },
  {
   "cell_type": "code",
   "execution_count": 44,
   "id": "a6fcce0f-7c49-4373-8974-0bc3f090877b",
   "metadata": {},
   "outputs": [],
   "source": [
    "cols = [\"Date_of_journey\",\"Journey_day\",\"Airline\",\"Flight_code\",\"Class\",\n",
    "        \"Source\",\"Departure\",\"Total_stops\",\"Arrival\",\"Destination\",\n",
    "        \"Duration_in_hours\", \"Days_left\", \"Fare\"]\n",
    "dtf = dtf[cols]"
   ]
  },
  {
   "cell_type": "markdown",
   "id": "50342f90-2104-4463-9d23-f60faca3764b",
   "metadata": {},
   "source": [
    "**Let's take a look at the data**"
   ]
  },
  {
   "cell_type": "code",
   "execution_count": 45,
   "id": "96a048e3-750b-4f7d-9695-4d3b1ec55ae0",
   "metadata": {},
   "outputs": [
    {
     "data": {
      "text/html": [
       "<div>\n",
       "<style scoped>\n",
       "    .dataframe tbody tr th:only-of-type {\n",
       "        vertical-align: middle;\n",
       "    }\n",
       "\n",
       "    .dataframe tbody tr th {\n",
       "        vertical-align: top;\n",
       "    }\n",
       "\n",
       "    .dataframe thead th {\n",
       "        text-align: right;\n",
       "    }\n",
       "</style>\n",
       "<table border=\"1\" class=\"dataframe\">\n",
       "  <thead>\n",
       "    <tr style=\"text-align: right;\">\n",
       "      <th></th>\n",
       "      <th>Date_of_journey</th>\n",
       "      <th>Journey_day</th>\n",
       "      <th>Airline</th>\n",
       "      <th>Flight_code</th>\n",
       "      <th>Class</th>\n",
       "      <th>Source</th>\n",
       "      <th>Departure</th>\n",
       "      <th>Total_stops</th>\n",
       "      <th>Arrival</th>\n",
       "      <th>Destination</th>\n",
       "      <th>Duration_in_hours</th>\n",
       "      <th>Days_left</th>\n",
       "      <th>Fare</th>\n",
       "    </tr>\n",
       "  </thead>\n",
       "  <tbody>\n",
       "    <tr>\n",
       "      <th>0</th>\n",
       "      <td>2023-01-16</td>\n",
       "      <td>Monday</td>\n",
       "      <td>SpiceJet</td>\n",
       "      <td>SG-8169</td>\n",
       "      <td>Economy</td>\n",
       "      <td>Delhi</td>\n",
       "      <td>After 6 PM</td>\n",
       "      <td>non-stop</td>\n",
       "      <td>After 6 PM</td>\n",
       "      <td>Mumbai</td>\n",
       "      <td>2.0833</td>\n",
       "      <td>1</td>\n",
       "      <td>5335</td>\n",
       "    </tr>\n",
       "    <tr>\n",
       "      <th>1</th>\n",
       "      <td>2023-01-16</td>\n",
       "      <td>Monday</td>\n",
       "      <td>Indigo</td>\n",
       "      <td>6E-2519</td>\n",
       "      <td>Economy</td>\n",
       "      <td>Delhi</td>\n",
       "      <td>After 6 PM</td>\n",
       "      <td>non-stop</td>\n",
       "      <td>Before 6 AM</td>\n",
       "      <td>Mumbai</td>\n",
       "      <td>2.3333</td>\n",
       "      <td>1</td>\n",
       "      <td>5899</td>\n",
       "    </tr>\n",
       "    <tr>\n",
       "      <th>2</th>\n",
       "      <td>2023-01-16</td>\n",
       "      <td>Monday</td>\n",
       "      <td>GO FIRST</td>\n",
       "      <td>G8-354</td>\n",
       "      <td>Economy</td>\n",
       "      <td>Delhi</td>\n",
       "      <td>After 6 PM</td>\n",
       "      <td>non-stop</td>\n",
       "      <td>Before 6 AM</td>\n",
       "      <td>Mumbai</td>\n",
       "      <td>2.1667</td>\n",
       "      <td>1</td>\n",
       "      <td>5801</td>\n",
       "    </tr>\n",
       "    <tr>\n",
       "      <th>3</th>\n",
       "      <td>2023-01-16</td>\n",
       "      <td>Monday</td>\n",
       "      <td>SpiceJet</td>\n",
       "      <td>SG-8709</td>\n",
       "      <td>Economy</td>\n",
       "      <td>Delhi</td>\n",
       "      <td>After 6 PM</td>\n",
       "      <td>non-stop</td>\n",
       "      <td>After 6 PM</td>\n",
       "      <td>Mumbai</td>\n",
       "      <td>2.0833</td>\n",
       "      <td>1</td>\n",
       "      <td>5794</td>\n",
       "    </tr>\n",
       "    <tr>\n",
       "      <th>4</th>\n",
       "      <td>2023-01-16</td>\n",
       "      <td>Monday</td>\n",
       "      <td>Air India</td>\n",
       "      <td>AI-805</td>\n",
       "      <td>Economy</td>\n",
       "      <td>Delhi</td>\n",
       "      <td>After 6 PM</td>\n",
       "      <td>non-stop</td>\n",
       "      <td>After 6 PM</td>\n",
       "      <td>Mumbai</td>\n",
       "      <td>2.1667</td>\n",
       "      <td>1</td>\n",
       "      <td>5955</td>\n",
       "    </tr>\n",
       "  </tbody>\n",
       "</table>\n",
       "</div>"
      ],
      "text/plain": [
       "  Date_of_journey Journey_day    Airline Flight_code    Class Source  \\\n",
       "0      2023-01-16      Monday   SpiceJet     SG-8169  Economy  Delhi   \n",
       "1      2023-01-16      Monday     Indigo     6E-2519  Economy  Delhi   \n",
       "2      2023-01-16      Monday   GO FIRST      G8-354  Economy  Delhi   \n",
       "3      2023-01-16      Monday   SpiceJet     SG-8709  Economy  Delhi   \n",
       "4      2023-01-16      Monday  Air India      AI-805  Economy  Delhi   \n",
       "\n",
       "    Departure Total_stops      Arrival Destination  Duration_in_hours  \\\n",
       "0  After 6 PM    non-stop   After 6 PM      Mumbai             2.0833   \n",
       "1  After 6 PM    non-stop  Before 6 AM      Mumbai             2.3333   \n",
       "2  After 6 PM    non-stop  Before 6 AM      Mumbai             2.1667   \n",
       "3  After 6 PM    non-stop   After 6 PM      Mumbai             2.0833   \n",
       "4  After 6 PM    non-stop   After 6 PM      Mumbai             2.1667   \n",
       "\n",
       "   Days_left  Fare  \n",
       "0          1  5335  \n",
       "1          1  5899  \n",
       "2          1  5801  \n",
       "3          1  5794  \n",
       "4          1  5955  "
      ]
     },
     "execution_count": 45,
     "metadata": {},
     "output_type": "execute_result"
    }
   ],
   "source": [
    "dtf.head()"
   ]
  },
  {
   "cell_type": "code",
   "execution_count": 46,
   "id": "71e87cce-67e5-41ad-95ba-7764a209a99d",
   "metadata": {},
   "outputs": [
    {
     "data": {
      "text/html": [
       "<div>\n",
       "<style scoped>\n",
       "    .dataframe tbody tr th:only-of-type {\n",
       "        vertical-align: middle;\n",
       "    }\n",
       "\n",
       "    .dataframe tbody tr th {\n",
       "        vertical-align: top;\n",
       "    }\n",
       "\n",
       "    .dataframe thead th {\n",
       "        text-align: right;\n",
       "    }\n",
       "</style>\n",
       "<table border=\"1\" class=\"dataframe\">\n",
       "  <thead>\n",
       "    <tr style=\"text-align: right;\">\n",
       "      <th></th>\n",
       "      <th>Duration_in_hours</th>\n",
       "      <th>Days_left</th>\n",
       "      <th>Fare</th>\n",
       "    </tr>\n",
       "  </thead>\n",
       "  <tbody>\n",
       "    <tr>\n",
       "      <th>count</th>\n",
       "      <td>452088.000000</td>\n",
       "      <td>452088.000000</td>\n",
       "      <td>452088.000000</td>\n",
       "    </tr>\n",
       "    <tr>\n",
       "      <th>mean</th>\n",
       "      <td>12.349222</td>\n",
       "      <td>25.627902</td>\n",
       "      <td>22840.100890</td>\n",
       "    </tr>\n",
       "    <tr>\n",
       "      <th>std</th>\n",
       "      <td>7.431478</td>\n",
       "      <td>14.300846</td>\n",
       "      <td>20307.963002</td>\n",
       "    </tr>\n",
       "    <tr>\n",
       "      <th>min</th>\n",
       "      <td>0.750000</td>\n",
       "      <td>1.000000</td>\n",
       "      <td>1307.000000</td>\n",
       "    </tr>\n",
       "    <tr>\n",
       "      <th>25%</th>\n",
       "      <td>6.583300</td>\n",
       "      <td>13.000000</td>\n",
       "      <td>8762.750000</td>\n",
       "    </tr>\n",
       "    <tr>\n",
       "      <th>50%</th>\n",
       "      <td>11.333300</td>\n",
       "      <td>26.000000</td>\n",
       "      <td>13407.000000</td>\n",
       "    </tr>\n",
       "    <tr>\n",
       "      <th>75%</th>\n",
       "      <td>16.500000</td>\n",
       "      <td>38.000000</td>\n",
       "      <td>35587.000000</td>\n",
       "    </tr>\n",
       "    <tr>\n",
       "      <th>max</th>\n",
       "      <td>43.583300</td>\n",
       "      <td>50.000000</td>\n",
       "      <td>143019.000000</td>\n",
       "    </tr>\n",
       "  </tbody>\n",
       "</table>\n",
       "</div>"
      ],
      "text/plain": [
       "       Duration_in_hours      Days_left           Fare\n",
       "count      452088.000000  452088.000000  452088.000000\n",
       "mean           12.349222      25.627902   22840.100890\n",
       "std             7.431478      14.300846   20307.963002\n",
       "min             0.750000       1.000000    1307.000000\n",
       "25%             6.583300      13.000000    8762.750000\n",
       "50%            11.333300      26.000000   13407.000000\n",
       "75%            16.500000      38.000000   35587.000000\n",
       "max            43.583300      50.000000  143019.000000"
      ]
     },
     "execution_count": 46,
     "metadata": {},
     "output_type": "execute_result"
    }
   ],
   "source": [
    "dtf.describe()"
   ]
  },
  {
   "cell_type": "markdown",
   "id": "8acec992-605d-4b82-a972-46d5e54e65d3",
   "metadata": {},
   "source": [
    "**Note:** The Fare of the flight tickets is in INR  \n",
    "**1 USD = 82.78 INR**"
   ]
  },
  {
   "cell_type": "markdown",
   "id": "e2edda10-feea-4223-9962-9da58ee55d0e",
   "metadata": {},
   "source": [
    "**Examining the target feature - \"Fare\" Using Histogram, a KDE plot, and a Box plot**"
   ]
  },
  {
   "cell_type": "code",
   "execution_count": 47,
   "id": "0b36a525-2589-445b-ab91-7565b06e3d38",
   "metadata": {},
   "outputs": [
    {
     "data": {
      "image/png": "[encoded data removed]",
      "text/plain": [
       "<Figure size 640x480 with 1 Axes>"
      ]
     },
     "metadata": {},
     "output_type": "display_data"
    }
   ],
   "source": [
    "dtf.Fare.hist(label = 'Number of flights')\n",
    "\n",
    "# Add labels to the x and y axes\n",
    "plt.xlabel('Fare')\n",
    "plt.ylabel('Number of flights')\n",
    "\n",
    "# Add legend\n",
    "plt.legend()\n",
    "\n",
    "# Show the plot\n",
    "plt.show()\n",
    "\n"
   ]
  },
  {
   "cell_type": "markdown",
   "id": "a96dac59-6ff6-4575-a85c-fef2b0acea52",
   "metadata": {},
   "source": [
    "Exploring the tickets fare:\n",
    "From the description table above the histogram, we learn that the minimum ticket fare is 1,307 INR and maximum is 143,019 INR. There exists a difference in mean and median values as well.  \n",
    "Now let's visualize the fare column using a kde plot and a box plot."
   ]
  },
  {
   "cell_type": "code",
   "execution_count": 48,
   "id": "d2b5b799-bee2-49b4-a5b7-642c7f75c858",
   "metadata": {},
   "outputs": [
    {
     "data": {
      "text/plain": [
       "<Axes: xlabel='Fare', ylabel='Density'>"
      ]
     },
     "execution_count": 48,
     "metadata": {},
     "output_type": "execute_result"
    },
    {
     "data": {
      "image/png": "[encoded data removed]",
      "text/plain": [
       "<Figure size 640x480 with 1 Axes>"
      ]
     },
     "metadata": {},
     "output_type": "display_data"
    }
   ],
   "source": [
    "sns.kdeplot(dtf.Fare)"
   ]
  },
  {
   "cell_type": "markdown",
   "id": "14876d08-c873-47b6-85e3-53d490b20a0b",
   "metadata": {},
   "source": [
    "We can see that the data may contains outliers."
   ]
  },
  {
   "cell_type": "markdown",
   "id": "1dd7a8da-a940-430c-84da-62dd39daaace",
   "metadata": {},
   "source": [
    "Let's examine the outliers"
   ]
  },
  {
   "cell_type": "code",
   "execution_count": 49,
   "id": "f3a9f140-293b-4ee0-a23d-8b309383fd90",
   "metadata": {},
   "outputs": [
    {
     "data": {
      "text/plain": [
       "<Axes: xlabel='Fare'>"
      ]
     },
     "execution_count": 49,
     "metadata": {},
     "output_type": "execute_result"
    },
    {
     "data": {
      "image/png": "[encoded data removed]",
      "text/plain": [
       "<Figure size 640x480 with 1 Axes>"
      ]
     },
     "metadata": {},
     "output_type": "display_data"
    }
   ],
   "source": [
    "sns.boxplot(dtf.Fare, orient=\"h\")"
   ]
  },
  {
   "cell_type": "markdown",
   "id": "be6f606d-613b-4cd5-915b-9ef4fe883067",
   "metadata": {},
   "source": [
    "A Fare outlier is acceptable because there are different ticket classes - Economy, Premium Economy, Business and First class.\n",
    "Even though the mean is around 20000, we can see that the median is approximately 14000.\n",
    "In the KDE plot, we can see that the dispersion seems to be composed by two gaussian curves.\n",
    "The first one - From 1,000 to 30,000 there is one peak, corresponding to the cheap tickets \n",
    "The second one - A peak from 40,000 to 80,000 corresponding to the expensive classes tickets.\n",
    "We have decided not to remove the fare outliers for now."
   ]
  },
  {
   "cell_type": "markdown",
   "id": "772cecdc-fa16-41e8-8d23-4acc822cc18e",
   "metadata": {},
   "source": [
    "## Cleaning and Preprocessing"
   ]
  },
  {
   "cell_type": "markdown",
   "id": "f99c834d-b3c5-44fe-a286-006948139f83",
   "metadata": {},
   "source": [
    "We will make sure that there are no null values in our data"
   ]
  },
  {
   "cell_type": "code",
   "execution_count": 50,
   "id": "efc20a0d-b005-4629-9d8d-59b32431a008",
   "metadata": {},
   "outputs": [
    {
     "data": {
      "text/plain": [
       "Date_of_journey      0\n",
       "Journey_day          0\n",
       "Airline              0\n",
       "Flight_code          0\n",
       "Class                0\n",
       "Source               0\n",
       "Departure            0\n",
       "Total_stops          0\n",
       "Arrival              0\n",
       "Destination          0\n",
       "Duration_in_hours    0\n",
       "Days_left            0\n",
       "Fare                 0\n",
       "dtype: int64"
      ]
     },
     "execution_count": 50,
     "metadata": {},
     "output_type": "execute_result"
    }
   ],
   "source": [
    "dtf.isnull().sum()"
   ]
  },
  {
   "cell_type": "markdown",
   "id": "c4d711c6-d518-4267-b083-fb897a13a1f3",
   "metadata": {},
   "source": [
    "There are no missing values in our dataset."
   ]
  },
  {
   "cell_type": "markdown",
   "id": "3f608f21-294f-45fe-9486-4e960f6165fa",
   "metadata": {},
   "source": [
    "Now we will check for duplicates in our data"
   ]
  },
  {
   "cell_type": "code",
   "execution_count": 51,
   "id": "0a320011-166e-4124-a052-25d37cb763b4",
   "metadata": {},
   "outputs": [
    {
     "data": {
      "text/plain": [
       "6722"
      ]
     },
     "execution_count": 51,
     "metadata": {},
     "output_type": "execute_result"
    }
   ],
   "source": [
    "dtf.duplicated().sum()"
   ]
  },
  {
   "cell_type": "markdown",
   "id": "03fb094e-bf4e-47f9-b7de-2abb1c3d1619",
   "metadata": {},
   "source": [
    "There are 6722 duplicated rows, So let's remove them."
   ]
  },
  {
   "cell_type": "code",
   "execution_count": 52,
   "id": "f23c865a-2767-479e-b253-14d749885c6f",
   "metadata": {},
   "outputs": [],
   "source": [
    "dtf = dtf.drop_duplicates()"
   ]
  },
  {
   "cell_type": "code",
   "execution_count": 53,
   "id": "2bad04cc-6a37-4925-8d3d-2783b980f69b",
   "metadata": {},
   "outputs": [
    {
     "data": {
      "text/plain": [
       "0"
      ]
     },
     "execution_count": 53,
     "metadata": {},
     "output_type": "execute_result"
    }
   ],
   "source": [
    "#check that the duplicates are gone\n",
    "dtf.duplicated().sum()"
   ]
  },
  {
   "cell_type": "markdown",
   "id": "bfc1c059-841c-43b7-83c6-9a756caa5944",
   "metadata": {},
   "source": [
    "We will change the 'Days_left' to a more indicitive name"
   ]
  },
  {
   "cell_type": "code",
   "execution_count": 54,
   "id": "929d7e8f-beea-42d4-91f9-2c8a30fd531c",
   "metadata": {},
   "outputs": [],
   "source": [
    "# Change the column  from 'Days_left' to 'Advance_purchase_days' for clearity\n",
    "dtf.rename(columns={'Days_left': 'Advance_days'}, inplace=True)"
   ]
  },
  {
   "cell_type": "markdown",
   "id": "bec49ac9-d6b6-40b3-97d9-34703f39c08e",
   "metadata": {},
   "source": [
    "We will check the format and uniqueness of the 'Arrival' and 'Departure' values"
   ]
  },
  {
   "cell_type": "code",
   "execution_count": 55,
   "id": "ccecedf1-30af-402a-afd7-24f3c5774fda",
   "metadata": {},
   "outputs": [
    {
     "data": {
      "text/plain": [
       "array(['After 6 PM', 'Before 6 AM', '12 PM - 6 PM', '6 AM - 12 PM'],\n",
       "      dtype=object)"
      ]
     },
     "execution_count": 55,
     "metadata": {},
     "output_type": "execute_result"
    }
   ],
   "source": [
    "dtf['Departure'].unique()"
   ]
  },
  {
   "cell_type": "code",
   "execution_count": 56,
   "id": "96f2888a-7d5f-464a-93d5-aa4fcb7f6177",
   "metadata": {},
   "outputs": [
    {
     "data": {
      "text/plain": [
       "array(['After 6 PM', 'Before 6 AM', '6 AM - 12 PM', '12 PM - 6 PM'],\n",
       "      dtype=object)"
      ]
     },
     "execution_count": 56,
     "metadata": {},
     "output_type": "execute_result"
    }
   ],
   "source": [
    "dtf['Arrival'].unique()"
   ]
  },
  {
   "cell_type": "markdown",
   "id": "a3dd8814-d37d-4c55-ab26-c30738290065",
   "metadata": {},
   "source": [
    "We will change the naming conventions for the 'Arrival' and 'Departure' fields"
   ]
  },
  {
   "cell_type": "code",
   "execution_count": 57,
   "id": "281afb79-2645-4549-9462-8cda7fa4b379",
   "metadata": {},
   "outputs": [
    {
     "data": {
      "text/html": [
       "<div>\n",
       "<style scoped>\n",
       "    .dataframe tbody tr th:only-of-type {\n",
       "        vertical-align: middle;\n",
       "    }\n",
       "\n",
       "    .dataframe tbody tr th {\n",
       "        vertical-align: top;\n",
       "    }\n",
       "\n",
       "    .dataframe thead th {\n",
       "        text-align: right;\n",
       "    }\n",
       "</style>\n",
       "<table border=\"1\" class=\"dataframe\">\n",
       "  <thead>\n",
       "    <tr style=\"text-align: right;\">\n",
       "      <th></th>\n",
       "      <th>Date_of_journey</th>\n",
       "      <th>Journey_day</th>\n",
       "      <th>Airline</th>\n",
       "      <th>Flight_code</th>\n",
       "      <th>Class</th>\n",
       "      <th>Source</th>\n",
       "      <th>Departure</th>\n",
       "      <th>Total_stops</th>\n",
       "      <th>Arrival</th>\n",
       "      <th>Destination</th>\n",
       "      <th>Duration_in_hours</th>\n",
       "      <th>Advance_days</th>\n",
       "      <th>Fare</th>\n",
       "    </tr>\n",
       "  </thead>\n",
       "  <tbody>\n",
       "    <tr>\n",
       "      <th>0</th>\n",
       "      <td>2023-01-16</td>\n",
       "      <td>Monday</td>\n",
       "      <td>SpiceJet</td>\n",
       "      <td>SG-8169</td>\n",
       "      <td>Economy</td>\n",
       "      <td>Delhi</td>\n",
       "      <td>night</td>\n",
       "      <td>non-stop</td>\n",
       "      <td>night</td>\n",
       "      <td>Mumbai</td>\n",
       "      <td>2.0833</td>\n",
       "      <td>1</td>\n",
       "      <td>5335</td>\n",
       "    </tr>\n",
       "    <tr>\n",
       "      <th>1</th>\n",
       "      <td>2023-01-16</td>\n",
       "      <td>Monday</td>\n",
       "      <td>Indigo</td>\n",
       "      <td>6E-2519</td>\n",
       "      <td>Economy</td>\n",
       "      <td>Delhi</td>\n",
       "      <td>night</td>\n",
       "      <td>non-stop</td>\n",
       "      <td>Early morning</td>\n",
       "      <td>Mumbai</td>\n",
       "      <td>2.3333</td>\n",
       "      <td>1</td>\n",
       "      <td>5899</td>\n",
       "    </tr>\n",
       "    <tr>\n",
       "      <th>2</th>\n",
       "      <td>2023-01-16</td>\n",
       "      <td>Monday</td>\n",
       "      <td>GO FIRST</td>\n",
       "      <td>G8-354</td>\n",
       "      <td>Economy</td>\n",
       "      <td>Delhi</td>\n",
       "      <td>night</td>\n",
       "      <td>non-stop</td>\n",
       "      <td>Early morning</td>\n",
       "      <td>Mumbai</td>\n",
       "      <td>2.1667</td>\n",
       "      <td>1</td>\n",
       "      <td>5801</td>\n",
       "    </tr>\n",
       "    <tr>\n",
       "      <th>3</th>\n",
       "      <td>2023-01-16</td>\n",
       "      <td>Monday</td>\n",
       "      <td>SpiceJet</td>\n",
       "      <td>SG-8709</td>\n",
       "      <td>Economy</td>\n",
       "      <td>Delhi</td>\n",
       "      <td>night</td>\n",
       "      <td>non-stop</td>\n",
       "      <td>night</td>\n",
       "      <td>Mumbai</td>\n",
       "      <td>2.0833</td>\n",
       "      <td>1</td>\n",
       "      <td>5794</td>\n",
       "    </tr>\n",
       "    <tr>\n",
       "      <th>4</th>\n",
       "      <td>2023-01-16</td>\n",
       "      <td>Monday</td>\n",
       "      <td>Air India</td>\n",
       "      <td>AI-805</td>\n",
       "      <td>Economy</td>\n",
       "      <td>Delhi</td>\n",
       "      <td>night</td>\n",
       "      <td>non-stop</td>\n",
       "      <td>night</td>\n",
       "      <td>Mumbai</td>\n",
       "      <td>2.1667</td>\n",
       "      <td>1</td>\n",
       "      <td>5955</td>\n",
       "    </tr>\n",
       "  </tbody>\n",
       "</table>\n",
       "</div>"
      ],
      "text/plain": [
       "  Date_of_journey Journey_day    Airline Flight_code    Class Source  \\\n",
       "0      2023-01-16      Monday   SpiceJet     SG-8169  Economy  Delhi   \n",
       "1      2023-01-16      Monday     Indigo     6E-2519  Economy  Delhi   \n",
       "2      2023-01-16      Monday   GO FIRST      G8-354  Economy  Delhi   \n",
       "3      2023-01-16      Monday   SpiceJet     SG-8709  Economy  Delhi   \n",
       "4      2023-01-16      Monday  Air India      AI-805  Economy  Delhi   \n",
       "\n",
       "  Departure Total_stops        Arrival Destination  Duration_in_hours  \\\n",
       "0     night    non-stop          night      Mumbai             2.0833   \n",
       "1     night    non-stop  Early morning      Mumbai             2.3333   \n",
       "2     night    non-stop  Early morning      Mumbai             2.1667   \n",
       "3     night    non-stop          night      Mumbai             2.0833   \n",
       "4     night    non-stop          night      Mumbai             2.1667   \n",
       "\n",
       "   Advance_days  Fare  \n",
       "0             1  5335  \n",
       "1             1  5899  \n",
       "2             1  5801  \n",
       "3             1  5794  \n",
       "4             1  5955  "
      ]
     },
     "execution_count": 57,
     "metadata": {},
     "output_type": "execute_result"
    }
   ],
   "source": [
    "# Function to map departure time ranges to categories\n",
    "def map_departure_time_range(departure_time):\n",
    "    if 'Before 6 AM' in departure_time:\n",
    "        return 'Early morning'\n",
    "    elif '6 AM - 12 PM' in departure_time:\n",
    "        return 'morning'\n",
    "    elif '12 PM - 6 PM' in departure_time:\n",
    "        return 'noon'\n",
    "    else:\n",
    "        return 'night'\n",
    "\n",
    "# Apply the function to the columns\n",
    "dtf['Departure'] = dtf['Departure'].apply(map_departure_time_range)\n",
    "dtf['Arrival'] = dtf['Arrival'].apply(map_departure_time_range)\n",
    "\n",
    "dtf.head()"
   ]
  },
  {
   "cell_type": "markdown",
   "id": "f0d906e1-f535-4e19-a39b-b3ed112677f5",
   "metadata": {},
   "source": [
    "We will examine the data related to dates"
   ]
  },
  {
   "cell_type": "code",
   "execution_count": 58,
   "id": "0bd25a6e-58a1-49d6-9695-d006375ba407",
   "metadata": {},
   "outputs": [
    {
     "data": {
      "text/plain": [
       "Month\n",
       "1    140370\n",
       "2    251603\n",
       "3     53393\n",
       "dtype: int64"
      ]
     },
     "execution_count": 58,
     "metadata": {},
     "output_type": "execute_result"
    }
   ],
   "source": [
    "# Convert the \"Date_of_journey\" column to datetime format\n",
    "dtf['Date_of_journey'] = pd.to_datetime(dtf['Date_of_journey'])\n",
    "\n",
    "# Extract the month from the dates\n",
    "dtf['Month'] = dtf['Date_of_journey'].dt.month\n",
    "\n",
    "# Group the flights by month and count the number of flights in each month\n",
    "dtf.groupby('Month').size()"
   ]
  },
  {
   "cell_type": "code",
   "execution_count": 59,
   "id": "b18f300b-787e-4712-a9ec-4cb24702cf85",
   "metadata": {},
   "outputs": [
    {
     "data": {
      "image/png": "[encoded data removed]",
      "text/plain": [
       "<Figure size 300x300 with 1 Axes>"
      ]
     },
     "metadata": {},
     "output_type": "display_data"
    }
   ],
   "source": [
    "Month_ = pd.to_datetime(dtf.Date_of_journey.values).month\n",
    "pd.Series(Month_.value_counts(normalize = True).values,index=[\"Feb\",\"Jan\",\"Mar\"]).\\\n",
    "    plot(kind = 'bar', title=\"Flights monthly variations\",  figsize=[3, 3], xlabel = \"Month\", ylabel = \"Relative frequencies\", label = \"Flights precentage\")\n",
    "plt.legend(prop={'size': 6})\n",
    "plt.show()"
   ]
  },
  {
   "cell_type": "markdown",
   "id": "5a0bf143-ce8b-424c-b6af-fd3ed0bf8a18",
   "metadata": {},
   "source": [
    "We can see that Feburary is a busy month in flights, this might be because February often marks the end of winter and the beginning of spring in many parts of India. This transition period might witness increased travel activities due to favorable weather conditions, leading to more flights.\n",
    " "
   ]
  },
  {
   "cell_type": "code",
   "execution_count": 60,
   "id": "ab0dd5bd-a327-4185-924a-8b2a6c82ef15",
   "metadata": {},
   "outputs": [
    {
     "data": {
      "text/plain": [
       "<matplotlib.legend.Legend at 0x2a794cd3a00>"
      ]
     },
     "execution_count": 60,
     "metadata": {},
     "output_type": "execute_result"
    },
    {
     "data": {
      "image/png": "[encoded data removed]",
      "text/plain": [
       "<Figure size 640x480 with 1 Axes>"
      ]
     },
     "metadata": {},
     "output_type": "display_data"
    }
   ],
   "source": [
    "dtf.Journey_day.value_counts(normalize = True, ascending = True).plot(kind=\"bar\",\n",
    " title = \"Relative frequencies\",xlabel = \"Flights daily variations\", label = \"Flights precentage\")\n",
    "plt.legend()\n"
   ]
  },
  {
   "cell_type": "markdown",
   "id": "b79cb775-c7fc-4f41-84e3-59e22f847614",
   "metadata": {},
   "source": [
    "We can see that the precentage of the flights is pretty similar for all the days, except Monday.\n",
    "we would expect that there will be a significant difference between the number of flights during the weekend and the weekdays."
   ]
  },
  {
   "cell_type": "markdown",
   "id": "c484ac99-5b74-47d1-9bab-a70427924ed0",
   "metadata": {},
   "source": [
    "To ensure that our training and test sets accurately represent the daily variations observed in the dataset, where flights are evenly distributed across all seven weekdays, we will employ a stratified split based on this feature during the data partitioning process. This approach will help maintain the proportional representation of each weekday's frequencies in both the training and test sets."
   ]
  },
  {
   "cell_type": "markdown",
   "id": "ddefdcfc-9660-4d1e-a53c-f245794a840b",
   "metadata": {},
   "source": [
    "### Visualization"
   ]
  },
  {
   "cell_type": "markdown",
   "id": "c34c1140-0477-4195-94fb-a3750ae3191c",
   "metadata": {},
   "source": [
    "Now we will take a look at the Histogram for each categorical attribute"
   ]
  },
  {
   "cell_type": "code",
   "execution_count": 61,
   "id": "acc3e126-d59c-4f0b-96c6-1a8f47838979",
   "metadata": {},
   "outputs": [
    {
     "data": {
      "image/png": "[encoded data removed]",
      "text/plain": [
       "<Figure size 1000x2000 with 8 Axes>"
      ]
     },
     "metadata": {},
     "output_type": "display_data"
    }
   ],
   "source": [
    "\n",
    "# Define the names of categorical columns to remove\n",
    "columns_to_remove = [\"Date_of_journey\", \"Flight_code\"]\n",
    "\n",
    "# Define the desired order of categorical columns\n",
    "desired_order = [\"Airline\", \"Departure\", \"Arrival\", \"Total_stops\", \"Journey_day\", \"Source\", \"Destination\", \"Class\"]\n",
    "\n",
    "# Filter categorical columns based on the condition and desired order\n",
    "categorical_columns_filtered = [c for c in desired_order if c not in columns_to_remove]\n",
    "                                \n",
    "n = len(categorical_columns_filtered)\n",
    "cols = 2\n",
    "max_bars = 8\n",
    "\n",
    "rows = (n // cols) + (1 if n % cols != 0 else 0)\n",
    "\n",
    "#generate a figures grid\n",
    "fig, axes = plt.subplots(rows,cols,figsize=(cols*5,rows*5))\n",
    "fig.subplots_adjust(hspace=0.8, wspace=0.5)\n",
    "\n",
    "for i,column in enumerate(categorical_columns_filtered):\n",
    "    #calculate the current place on the grid\n",
    "    r=int(i/cols)\n",
    "    c=i%cols\n",
    "    \n",
    "    #create the \"value counts\" for the first <max_bars> categories\n",
    "    u=min(dtf[column].nunique(),max_bars)\n",
    "    vc = dtf[column].value_counts()[:u]\n",
    "    \n",
    "    # plot a bar chart using Pandas\n",
    "    vc.plot(kind='bar',ax=axes[r,c], xlabel = column, ylabel = \"Fare\", label=\"Fare\")\n",
    "    axes[r, c].legend(prop={'size':7})\n",
    "\n"
   ]
  },
  {
   "cell_type": "markdown",
   "id": "b7b8f922-4820-40b9-85d5-3cd4f74ebb5d",
   "metadata": {},
   "source": [
    "And now for the numeric attributes"
   ]
  },
  {
   "cell_type": "code",
   "execution_count": 62,
   "id": "e9e2f29f-d78b-410a-b614-27c62bf9c402",
   "metadata": {},
   "outputs": [
    {
     "data": {
      "image/png": "[encoded data removed]",
      "text/plain": [
       "<Figure size 640x480 with 1 Axes>"
      ]
     },
     "metadata": {},
     "output_type": "display_data"
    }
   ],
   "source": [
    "dtf.Duration_in_hours.hist(label = \"Fare\")\n",
    "\n",
    "# Add labels to the x and y axes\n",
    "plt.xlabel('Flight Duration')\n",
    "plt.ylabel('Fare')\n",
    "plt.legend()\n",
    "\n",
    "# Show the plot\n",
    "plt.show()"
   ]
  },
  {
   "cell_type": "markdown",
   "id": "f737dd1a-e4a8-48b2-9d4a-b771676855e2",
   "metadata": {},
   "source": [
    "We can see that most expensive flights are around 10 hours."
   ]
  },
  {
   "cell_type": "code",
   "execution_count": 63,
   "id": "64d098bc-706d-4af0-bcde-09e41739bb41",
   "metadata": {},
   "outputs": [
    {
     "data": {
      "image/png": "[encoded data removed]",
      "text/plain": [
       "<Figure size 640x480 with 1 Axes>"
      ]
     },
     "metadata": {},
     "output_type": "display_data"
    }
   ],
   "source": [
    "dtf.Advance_days.hist(label = \"Fare\")\n",
    "\n",
    "# Add labels to the x and y axes\n",
    "plt.xlabel('Advance days Before the flight')\n",
    "plt.ylabel('Fare')\n",
    "plt.legend()\n",
    "\n",
    "# Show the plot\n",
    "plt.show()"
   ]
  },
  {
   "cell_type": "markdown",
   "id": "3ed5903b-7624-4f42-b499-df7e758e5e73",
   "metadata": {},
   "source": [
    "We can see that there is no significant meaning for booking the flight in advance."
   ]
  },
  {
   "cell_type": "markdown",
   "id": "84a0af10-5e66-4660-a462-7d6d3fdbc69f",
   "metadata": {},
   "source": [
    "We will examine the destinations, analyzing the flight frequencies for each part of the day"
   ]
  },
  {
   "cell_type": "code",
   "execution_count": 64,
   "id": "1569b9ec-c5d6-4045-a1d4-b2005ebe0426",
   "metadata": {
    "scrolled": true
   },
   "outputs": [
    {
     "data": {
      "text/plain": [
       "Destination  Arrival      \n",
       "Ahmedabad    night            20133\n",
       "             morning          12197\n",
       "             noon              9773\n",
       "             Early morning      927\n",
       "Bangalore    night            32875\n",
       "             morning          21241\n",
       "             noon             12845\n",
       "             Early morning     4642\n",
       "Chennai      night            26399\n",
       "             morning          16590\n",
       "             noon             10751\n",
       "             Early morning     3320\n",
       "Delhi        night            29925\n",
       "             noon             21786\n",
       "             morning          16890\n",
       "             Early morning     8157\n",
       "Hyderabad    night            24154\n",
       "             noon             17376\n",
       "             morning          15319\n",
       "             Early morning     4926\n",
       "Kolkata      night            26829\n",
       "             morning          16127\n",
       "             noon              8356\n",
       "             Early morning     2153\n",
       "Mumbai       night            36657\n",
       "             noon             19435\n",
       "             morning          19301\n",
       "             Early morning     6282\n",
       "Name: count, dtype: int64"
      ]
     },
     "execution_count": 64,
     "metadata": {},
     "output_type": "execute_result"
    }
   ],
   "source": [
    "data = dtf.groupby(\"Destination\")[\"Arrival\"].value_counts()\n",
    "data.head(28)"
   ]
  },
  {
   "cell_type": "markdown",
   "id": "381ccd0a-cd50-474c-81fb-b6a301e26cf0",
   "metadata": {},
   "source": [
    "Now, let's examine a Violin plot showcasing the fare distribution for each class"
   ]
  },
  {
   "cell_type": "code",
   "execution_count": 65,
   "id": "53886516-9cbb-4e83-9e70-c6baf205d65a",
   "metadata": {},
   "outputs": [
    {
     "data": {
      "image/png": "[encoded data removed]",
      "text/plain": [
       "<Figure size 1200x800 with 1 Axes>"
      ]
     },
     "metadata": {},
     "output_type": "display_data"
    }
   ],
   "source": [
    "# Create the violin plot\n",
    "plt.figure(figsize=(12, 8))\n",
    "sns.violinplot(x='Class', y='Fare', data=dtf)\n",
    "plt.title('Fare Distribution of the flights for each class')\n",
    "plt.xlabel('Class')\n",
    "plt.ylabel('Fare')\n",
    "plt.xticks(rotation=45)\n",
    "plt.show()"
   ]
  },
  {
   "cell_type": "markdown",
   "id": "6063f001-65b5-4ff5-9a9e-73b177f3c98b",
   "metadata": {},
   "source": [
    "Using the Violin plot, we can gain insights into the distribution of flight fares across different class types:\n",
    "- Economy class has an average fare of 10,000 INR, with the majority of listings falling between 5,000 INR and 15,000 INR.\n",
    "- Premium Economy class has an average fare of 15,000 INR, with the majority of listings ranging from 10,000 INR to 20,000 INR.\n",
    "- Business class has an average fare of 50,000 INR, with most listings falling between 40,000 INR and 60,000 INR.\n",
    "- First class has an average fare of 50,000 INR, with the majority of listings between 45,000 INR and 55,000 INR. Additionally, there is another peak around 100,000 INR.\n",
    "  \n",
    "It's evident that Business and First class tickets are more expensive compared to Economy and Premium Economy, as expected."
   ]
  },
  {
   "cell_type": "markdown",
   "id": "62dba8cc-0e61-4608-98ef-239099fc7595",
   "metadata": {},
   "source": [
    "### Examining Correlations to the target feature"
   ]
  },
  {
   "cell_type": "code",
   "execution_count": 66,
   "id": "fe0e853e-df35-4c6e-ab65-40cae30d0b78",
   "metadata": {},
   "outputs": [
    {
     "data": {
      "text/plain": [
       "<Axes: >"
      ]
     },
     "execution_count": 66,
     "metadata": {},
     "output_type": "execute_result"
    },
    {
     "data": {
      "image/png": "[encoded data removed]",
      "text/plain": [
       "<Figure size 1500x200 with 2 Axes>"
      ]
     },
     "metadata": {},
     "output_type": "display_data"
    }
   ],
   "source": [
    "numeric_columns = dtf.dtypes[(dtf.dtypes==\"float64\") | (dtf.dtypes==\"int64\")].index.tolist()\n",
    "numeric_columns = dtf[numeric_columns]\n",
    "dtf_corr = numeric_columns.corr(method=\"pearson\").loc[[\"Fare\"]]\n",
    "fig, ax = plt.subplots(figsize=(15,2))\n",
    "\n",
    "sns.heatmap(dtf_corr, annot=True, fmt='.2f', cmap=\"YlGnBu\", cbar=True, linewidths=0.5,ax=ax)"
   ]
  },
  {
   "cell_type": "markdown",
   "id": "510f95ec-70a9-4574-8d8e-87aada99af06",
   "metadata": {},
   "source": [
    "Weak correlations were observed between fare and flight duration (0.19) as well as advance ticket purchase days (-0.09), suggesting slight trends but not conclusive associations."
   ]
  },
  {
   "cell_type": "code",
   "execution_count": 67,
   "id": "8ce84bad-317c-4034-996a-eef2a3305a05",
   "metadata": {},
   "outputs": [
    {
     "name": "stdout",
     "output_type": "stream",
     "text": [
      "       Date_of_journey Journey_day    Airline Flight_code     Class  \\\n",
      "0           2023-01-16      Monday   SpiceJet     SG-8169   Economy   \n",
      "1           2023-01-16      Monday     Indigo     6E-2519   Economy   \n",
      "2           2023-01-16      Monday   GO FIRST      G8-354   Economy   \n",
      "3           2023-01-16      Monday   SpiceJet     SG-8709   Economy   \n",
      "4           2023-01-16      Monday  Air India      AI-805   Economy   \n",
      "...                ...         ...        ...         ...       ...   \n",
      "452081      2023-03-06      Monday    Vistara      UK-918  Business   \n",
      "452082      2023-03-06      Monday    Vistara      UK-946  Business   \n",
      "452083      2023-03-06      Monday    Vistara      UK-926  Business   \n",
      "452084      2023-03-06      Monday    Vistara      UK-918  Business   \n",
      "452086      2023-03-06      Monday    Vistara      UK-946  Business   \n",
      "\n",
      "           Source      Departure Total_stops        Arrival Destination  \\\n",
      "0           Delhi          night    non-stop          night      Mumbai   \n",
      "1           Delhi          night    non-stop  Early morning      Mumbai   \n",
      "2           Delhi          night    non-stop  Early morning      Mumbai   \n",
      "3           Delhi          night    non-stop          night      Mumbai   \n",
      "4           Delhi          night    non-stop          night      Mumbai   \n",
      "...           ...            ...         ...            ...         ...   \n",
      "452081  Ahmedabad  Early morning      1-stop           noon     Chennai   \n",
      "452082  Ahmedabad        morning      1-stop          night     Chennai   \n",
      "452083  Ahmedabad        morning      1-stop          night     Chennai   \n",
      "452084  Ahmedabad  Early morning      1-stop           noon     Chennai   \n",
      "452086  Ahmedabad        morning      1-stop          night     Chennai   \n",
      "\n",
      "        Duration_in_hours  Advance_days   Fare  Month  \n",
      "0                  2.0833             1   5335      1  \n",
      "1                  2.3333             1   5899      1  \n",
      "2                  2.1667             1   5801      1  \n",
      "3                  2.0833             1   5794      1  \n",
      "4                  2.1667             1   5955      1  \n",
      "...                   ...           ...    ...    ...  \n",
      "452081            11.2500            50  61302      3  \n",
      "452082            11.1667            50  65028      3  \n",
      "452083            13.0833            50  65028      3  \n",
      "452084            11.2500            50  69254      3  \n",
      "452086            11.1667            50  72980      3  \n",
      "\n",
      "[445366 rows x 14 columns]\n"
     ]
    }
   ],
   "source": [
    "# Create a copy of the original DataFrame to preserve original attributes\n",
    "original_dtf = dtf.copy()\n",
    "print(original_dtf)"
   ]
  },
  {
   "cell_type": "markdown",
   "id": "43461fc3-ee01-4510-8ccd-2d2635391cfe",
   "metadata": {},
   "source": [
    "### Converting categorial attributes to numeric values"
   ]
  },
  {
   "cell_type": "code",
   "execution_count": 28,
   "id": "e282a540-a717-453e-b4d0-2fd463e40350",
   "metadata": {},
   "outputs": [],
   "source": [
    "dtf['Date_of_journey'] = pd.to_datetime(dtf['Date_of_journey'])  # Convert to datetime if not already\n",
    "\n",
    "# Find the minimum date in the column as a reference point\n",
    "min_date = dtf['Date_of_journey'].min()\n",
    "\n",
    "# Convert the dates to numeric values representing elapsed time in days\n",
    "dtf['Date_of_journey_numeric'] = (dtf['Date_of_journey'] - min_date).dt.total_seconds() / (24 * 60 * 60)  # Convert seconds to days"
   ]
  },
  {
   "cell_type": "code",
   "execution_count": 29,
   "id": "09495239-7477-48ba-b760-606226cf6110",
   "metadata": {},
   "outputs": [],
   "source": [
    "day_mapping = {\n",
    "    'Sunday': 1,\n",
    "    'Monday': 2,\n",
    "    'Tuesday': 3,\n",
    "    'Wednesday': 4,\n",
    "    'Thursday': 5,\n",
    "    'Friday': 6,\n",
    "    'Saturday': 7\n",
    "}\n",
    "\n",
    "# Map the days of the week to numeric values\n",
    "dtf['Journey_day_numeric'] = dtf['Journey_day'].map(day_mapping)\n"
   ]
  },
  {
   "cell_type": "code",
   "execution_count": 30,
   "id": "98fa7ae7-a875-4b8a-a395-256948aa8589",
   "metadata": {},
   "outputs": [],
   "source": [
    "class_mapping = {\n",
    "    'Economy': 1,\n",
    "    'Premium Economy': 2,\n",
    "    'Business': 3,\n",
    "    'First': 4\n",
    "}\n",
    "\n",
    "# Map the class to numeric values\n",
    "dtf['Class'] = dtf['Class'].map(class_mapping)"
   ]
  },
  {
   "cell_type": "code",
   "execution_count": 31,
   "id": "b979625e-7853-4e6c-b2b0-4a700c224d8b",
   "metadata": {},
   "outputs": [],
   "source": [
    "stop_mapping = {\n",
    "    'non-stop': 0,\n",
    "    '1-stop': 1,\n",
    "    '2+-stop': 2\n",
    "}\n",
    "\n",
    "# Map the total stops to numeric values\n",
    "dtf['Total_stops'] = dtf['Total_stops'].map(stop_mapping)"
   ]
  },
  {
   "cell_type": "markdown",
   "id": "6660d0ef-fd4c-4ede-9858-5b23a729a6cc",
   "metadata": {},
   "source": [
    "**Date_of_journey ----> Date_of_journey_numeric**  \n",
    "Our data is between 16/01/2023 and 06/03/2023 therefore we converted the dates in the following format:  \n",
    "16/01/2023 ----> 0  \n",
    "17/01/2023 ----> 1  \n",
    "&nbsp;&nbsp;&nbsp;&nbsp;&nbsp;&nbsp;&nbsp;&nbsp;.  \n",
    "&nbsp;&nbsp;&nbsp;&nbsp;&nbsp;&nbsp;&nbsp;&nbsp;.  \n",
    "&nbsp;&nbsp;&nbsp;&nbsp;&nbsp;&nbsp;&nbsp;&nbsp;.  \n",
    "06/03/2023 ----> 49  \n",
    "\n",
    "**Journey_day ----> Date_of_journey_numeric**  \n",
    "'Sunday' ----> 1  \n",
    "'Monday' ----> 2  \n",
    "'Tuesday' ----> 3  \n",
    "'Wednesday' ----> 4  \n",
    "'Thursday' ----> 5  \n",
    "'Friday' ----> 6  \n",
    "'Saturday' ----> 7  \n"
   ]
  },
  {
   "cell_type": "markdown",
   "id": "4d3717ab-a845-42bf-8ea3-1cd6404510ff",
   "metadata": {},
   "source": [
    "Converting all the other categorial attributes by a LabelEncoder function"
   ]
  },
  {
   "cell_type": "code",
   "execution_count": 32,
   "id": "47910722-30d5-4593-a6d9-a18cfd33c51b",
   "metadata": {},
   "outputs": [
    {
     "name": "stdout",
     "output_type": "stream",
     "text": [
      "        Airline  Flight_code  Class  Source  Departure  Total_stops  Arrival  \\\n",
      "0             6         1209      1       3          2            0        2   \n",
      "1             5          164      1       3          2            0        0   \n",
      "2             4          942      1       3          2            0        0   \n",
      "3             6         1224      1       3          2            0        2   \n",
      "4             0          852      1       3          2            0        2   \n",
      "...         ...          ...    ...     ...        ...          ...      ...   \n",
      "452081        8         1358      3       0          0            1        3   \n",
      "452082        8         1374      3       0          1            1        2   \n",
      "452083        8         1360      3       0          1            1        2   \n",
      "452084        8         1358      3       0          0            1        3   \n",
      "452086        8         1374      3       0          1            1        2   \n",
      "\n",
      "        Destination  Duration_in_hours  Advance_days   Fare  Month  \\\n",
      "0                 6             2.0833             1   5335      1   \n",
      "1                 6             2.3333             1   5899      1   \n",
      "2                 6             2.1667             1   5801      1   \n",
      "3                 6             2.0833             1   5794      1   \n",
      "4                 6             2.1667             1   5955      1   \n",
      "...             ...                ...           ...    ...    ...   \n",
      "452081            2            11.2500            50  61302      3   \n",
      "452082            2            11.1667            50  65028      3   \n",
      "452083            2            13.0833            50  65028      3   \n",
      "452084            2            11.2500            50  69254      3   \n",
      "452086            2            11.1667            50  72980      3   \n",
      "\n",
      "        Date_of_journey_numeric  Journey_day_numeric  \n",
      "0                           0.0                    2  \n",
      "1                           0.0                    2  \n",
      "2                           0.0                    2  \n",
      "3                           0.0                    2  \n",
      "4                           0.0                    2  \n",
      "...                         ...                  ...  \n",
      "452081                     49.0                    2  \n",
      "452082                     49.0                    2  \n",
      "452083                     49.0                    2  \n",
      "452084                     49.0                    2  \n",
      "452086                     49.0                    2  \n",
      "\n",
      "[445366 rows x 14 columns]\n"
     ]
    }
   ],
   "source": [
    "from sklearn.preprocessing import LabelEncoder\n",
    "# Encode categorical variables\n",
    "label_encoder = LabelEncoder()\n",
    "for col in ['Airline', 'Flight_code', 'Source', 'Departure', 'Arrival', 'Destination']:\n",
    "    dtf[col] = label_encoder.fit_transform(dtf[col])\n",
    "\n",
    "# Drop original datetime columns\n",
    "dtf.drop(columns=['Date_of_journey', 'Journey_day'], inplace=True)\n",
    "\n",
    "print(dtf)\n"
   ]
  },
  {
   "cell_type": "code",
   "execution_count": 33,
   "id": "d471a2f5-52af-473b-b04a-bf340a39ae7b",
   "metadata": {},
   "outputs": [
    {
     "data": {
      "text/plain": [
       "<Axes: >"
      ]
     },
     "execution_count": 33,
     "metadata": {},
     "output_type": "execute_result"
    },
    {
     "data": {
      "image/png": "[encoded data removed]",
      "text/plain": [
       "<Figure size 1500x200 with 2 Axes>"
      ]
     },
     "metadata": {},
     "output_type": "display_data"
    }
   ],
   "source": [
    "columns_checked = [\"Duration_in_hours\",\"Advance_days\"]\n",
    "columns = dtf.dtypes[(dtf.dtypes==\"float64\") | (dtf.dtypes==\"int64\")].index.tolist()\n",
    "columns = [c for c in columns if c not in columns_checked]\n",
    "columns = dtf[columns]\n",
    "dtf_corr = columns.corr(method=\"pearson\").loc[[\"Fare\"]]\n",
    "fig, ax = plt.subplots(figsize=(15,2))\n",
    "\n",
    "sns.heatmap(dtf_corr, annot=True, fmt='.2f', cmap=\"YlGnBu\", cbar=True, linewidths=0.5,ax=ax)"
   ]
  },
  {
   "cell_type": "markdown",
   "id": "c5ebd27e-fd08-49c9-89de-6ea73aee0451",
   "metadata": {},
   "source": [
    "We didn't observe any significant correlation between the flight Fare and the other attributes."
   ]
  },
  {
   "cell_type": "markdown",
   "id": "4a469cc5-d6f7-47a0-82f8-7eacd53ae982",
   "metadata": {},
   "source": [
    "## Baseline Model"
   ]
  },
  {
   "cell_type": "code",
   "execution_count": 34,
   "id": "403caa1a-29bc-4488-854c-369c57e3706b",
   "metadata": {},
   "outputs": [],
   "source": [
    "from sklearn.model_selection import train_test_split\n",
    "from sklearn.linear_model import LinearRegression\n",
    "import xgboost as xgb\n",
    "from sklearn.metrics import mean_squared_error, r2_score\n",
    "from sklearn.metrics import r2_score,mean_squared_error, mean_absolute_percentage_error,mean_absolute_error"
   ]
  },
  {
   "cell_type": "code",
   "execution_count": 35,
   "id": "a7147348-19b7-41f0-b4d0-10c73aa8aa3c",
   "metadata": {},
   "outputs": [],
   "source": [
    "# We will split the dataset into features and target variables. The target variable is the fare, and all the others are the features.\n",
    "# Our predictors\n",
    "X = dtf.drop(columns = 'Fare')\n",
    "\n",
    "# Our outcome variable\n",
    "y = dtf.Fare"
   ]
  },
  {
   "cell_type": "markdown",
   "id": "d5865f09-ae0e-4a90-81f2-2b1fc3a063ba",
   "metadata": {},
   "source": [
    "We will split the data to test and training sets with stratified method based on the daily variation of flights with shaffle before split."
   ]
  },
  {
   "cell_type": "code",
   "execution_count": 36,
   "id": "5af4e6a2-08fc-46fc-9700-a57ac08103a1",
   "metadata": {},
   "outputs": [],
   "source": [
    "# Split the dataset into training and testing sets\n",
    "X_train, X_test, y_train, y_test = train_test_split(X,y, test_size=0.2, stratify=dtf[\"Journey_day_numeric\"], random_state=42, shuffle = True)"
   ]
  },
  {
   "cell_type": "code",
   "execution_count": 37,
   "id": "ce5f2bb4-a158-424b-a5d1-d88db98ea58f",
   "metadata": {},
   "outputs": [
    {
     "data": {
      "text/html": [
       "<style>#sk-container-id-1 {\n",
       "  /* Definition of color scheme common for light and dark mode */\n",
       "  --sklearn-color-text: black;\n",
       "  --sklearn-color-line: gray;\n",
       "  /* Definition of color scheme for unfitted estimators */\n",
       "  --sklearn-color-unfitted-level-0: #fff5e6;\n",
       "  --sklearn-color-unfitted-level-1: #f6e4d2;\n",
       "  --sklearn-color-unfitted-level-2: #ffe0b3;\n",
       "  --sklearn-color-unfitted-level-3: chocolate;\n",
       "  /* Definition of color scheme for fitted estimators */\n",
       "  --sklearn-color-fitted-level-0: #f0f8ff;\n",
       "  --sklearn-color-fitted-level-1: #d4ebff;\n",
       "  --sklearn-color-fitted-level-2: #b3dbfd;\n",
       "  --sklearn-color-fitted-level-3: cornflowerblue;\n",
       "\n",
       "  /* Specific color for light theme */\n",
       "  --sklearn-color-text-on-default-background: var(--sg-text-color, var(--theme-code-foreground, var(--jp-content-font-color1, black)));\n",
       "  --sklearn-color-background: var(--sg-background-color, var(--theme-background, var(--jp-layout-color0, white)));\n",
       "  --sklearn-color-border-box: var(--sg-text-color, var(--theme-code-foreground, var(--jp-content-font-color1, black)));\n",
       "  --sklearn-color-icon: #696969;\n",
       "\n",
       "  @media (prefers-color-scheme: dark) {\n",
       "    /* Redefinition of color scheme for dark theme */\n",
       "    --sklearn-color-text-on-default-background: var(--sg-text-color, var(--theme-code-foreground, var(--jp-content-font-color1, white)));\n",
       "    --sklearn-color-background: var(--sg-background-color, var(--theme-background, var(--jp-layout-color0, #111)));\n",
       "    --sklearn-color-border-box: var(--sg-text-color, var(--theme-code-foreground, var(--jp-content-font-color1, white)));\n",
       "    --sklearn-color-icon: #878787;\n",
       "  }\n",
       "}\n",
       "\n",
       "#sk-container-id-1 {\n",
       "  color: var(--sklearn-color-text);\n",
       "}\n",
       "\n",
       "#sk-container-id-1 pre {\n",
       "  padding: 0;\n",
       "}\n",
       "\n",
       "#sk-container-id-1 input.sk-hidden--visually {\n",
       "  border: 0;\n",
       "  clip: rect(1px 1px 1px 1px);\n",
       "  clip: rect(1px, 1px, 1px, 1px);\n",
       "  height: 1px;\n",
       "  margin: -1px;\n",
       "  overflow: hidden;\n",
       "  padding: 0;\n",
       "  position: absolute;\n",
       "  width: 1px;\n",
       "}\n",
       "\n",
       "#sk-container-id-1 div.sk-dashed-wrapped {\n",
       "  border: 1px dashed var(--sklearn-color-line);\n",
       "  margin: 0 0.4em 0.5em 0.4em;\n",
       "  box-sizing: border-box;\n",
       "  padding-bottom: 0.4em;\n",
       "  background-color: var(--sklearn-color-background);\n",
       "}\n",
       "\n",
       "#sk-container-id-1 div.sk-container {\n",
       "  /* jupyter's `normalize.less` sets `[hidden] { display: none; }`\n",
       "     but bootstrap.min.css set `[hidden] { display: none !important; }`\n",
       "     so we also need the `!important` here to be able to override the\n",
       "     default hidden behavior on the sphinx rendered scikit-learn.org.\n",
       "     See: https://github.com/scikit-learn/scikit-learn/issues/21755 */\n",
       "  display: inline-block !important;\n",
       "  position: relative;\n",
       "}\n",
       "\n",
       "#sk-container-id-1 div.sk-text-repr-fallback {\n",
       "  display: none;\n",
       "}\n",
       "\n",
       "div.sk-parallel-item,\n",
       "div.sk-serial,\n",
       "div.sk-item {\n",
       "  /* draw centered vertical line to link estimators */\n",
       "  background-image: linear-gradient(var(--sklearn-color-text-on-default-background), var(--sklearn-color-text-on-default-background));\n",
       "  background-size: 2px 100%;\n",
       "  background-repeat: no-repeat;\n",
       "  background-position: center center;\n",
       "}\n",
       "\n",
       "/* Parallel-specific style estimator block */\n",
       "\n",
       "#sk-container-id-1 div.sk-parallel-item::after {\n",
       "  content: \"\";\n",
       "  width: 100%;\n",
       "  border-bottom: 2px solid var(--sklearn-color-text-on-default-background);\n",
       "  flex-grow: 1;\n",
       "}\n",
       "\n",
       "#sk-container-id-1 div.sk-parallel {\n",
       "  display: flex;\n",
       "  align-items: stretch;\n",
       "  justify-content: center;\n",
       "  background-color: var(--sklearn-color-background);\n",
       "  position: relative;\n",
       "}\n",
       "\n",
       "#sk-container-id-1 div.sk-parallel-item {\n",
       "  display: flex;\n",
       "  flex-direction: column;\n",
       "}\n",
       "\n",
       "#sk-container-id-1 div.sk-parallel-item:first-child::after {\n",
       "  align-self: flex-end;\n",
       "  width: 50%;\n",
       "}\n",
       "\n",
       "#sk-container-id-1 div.sk-parallel-item:last-child::after {\n",
       "  align-self: flex-start;\n",
       "  width: 50%;\n",
       "}\n",
       "\n",
       "#sk-container-id-1 div.sk-parallel-item:only-child::after {\n",
       "  width: 0;\n",
       "}\n",
       "\n",
       "/* Serial-specific style estimator block */\n",
       "\n",
       "#sk-container-id-1 div.sk-serial {\n",
       "  display: flex;\n",
       "  flex-direction: column;\n",
       "  align-items: center;\n",
       "  background-color: var(--sklearn-color-background);\n",
       "  padding-right: 1em;\n",
       "  padding-left: 1em;\n",
       "}\n",
       "\n",
       "\n",
       "/* Toggleable style: style used for estimator/Pipeline/ColumnTransformer box that is\n",
       "clickable and can be expanded/collapsed.\n",
       "- Pipeline and ColumnTransformer use this feature and define the default style\n",
       "- Estimators will overwrite some part of the style using the `sk-estimator` class\n",
       "*/\n",
       "\n",
       "/* Pipeline and ColumnTransformer style (default) */\n",
       "\n",
       "#sk-container-id-1 div.sk-toggleable {\n",
       "  /* Default theme specific background. It is overwritten whether we have a\n",
       "  specific estimator or a Pipeline/ColumnTransformer */\n",
       "  background-color: var(--sklearn-color-background);\n",
       "}\n",
       "\n",
       "/* Toggleable label */\n",
       "#sk-container-id-1 label.sk-toggleable__label {\n",
       "  cursor: pointer;\n",
       "  display: block;\n",
       "  width: 100%;\n",
       "  margin-bottom: 0;\n",
       "  padding: 0.5em;\n",
       "  box-sizing: border-box;\n",
       "  text-align: center;\n",
       "}\n",
       "\n",
       "#sk-container-id-1 label.sk-toggleable__label-arrow:before {\n",
       "  /* Arrow on the left of the label */\n",
       "  content: \"▸\";\n",
       "  float: left;\n",
       "  margin-right: 0.25em;\n",
       "  color: var(--sklearn-color-icon);\n",
       "}\n",
       "\n",
       "#sk-container-id-1 label.sk-toggleable__label-arrow:hover:before {\n",
       "  color: var(--sklearn-color-text);\n",
       "}\n",
       "\n",
       "/* Toggleable content - dropdown */\n",
       "\n",
       "#sk-container-id-1 div.sk-toggleable__content {\n",
       "  max-height: 0;\n",
       "  max-width: 0;\n",
       "  overflow: hidden;\n",
       "  text-align: left;\n",
       "  /* unfitted */\n",
       "  background-color: var(--sklearn-color-unfitted-level-0);\n",
       "}\n",
       "\n",
       "#sk-container-id-1 div.sk-toggleable__content.fitted {\n",
       "  /* fitted */\n",
       "  background-color: var(--sklearn-color-fitted-level-0);\n",
       "}\n",
       "\n",
       "#sk-container-id-1 div.sk-toggleable__content pre {\n",
       "  margin: 0.2em;\n",
       "  border-radius: 0.25em;\n",
       "  color: var(--sklearn-color-text);\n",
       "  /* unfitted */\n",
       "  background-color: var(--sklearn-color-unfitted-level-0);\n",
       "}\n",
       "\n",
       "#sk-container-id-1 div.sk-toggleable__content.fitted pre {\n",
       "  /* unfitted */\n",
       "  background-color: var(--sklearn-color-fitted-level-0);\n",
       "}\n",
       "\n",
       "#sk-container-id-1 input.sk-toggleable__control:checked~div.sk-toggleable__content {\n",
       "  /* Expand drop-down */\n",
       "  max-height: 200px;\n",
       "  max-width: 100%;\n",
       "  overflow: auto;\n",
       "}\n",
       "\n",
       "#sk-container-id-1 input.sk-toggleable__control:checked~label.sk-toggleable__label-arrow:before {\n",
       "  content: \"▾\";\n",
       "}\n",
       "\n",
       "/* Pipeline/ColumnTransformer-specific style */\n",
       "\n",
       "#sk-container-id-1 div.sk-label input.sk-toggleable__control:checked~label.sk-toggleable__label {\n",
       "  color: var(--sklearn-color-text);\n",
       "  background-color: var(--sklearn-color-unfitted-level-2);\n",
       "}\n",
       "\n",
       "#sk-container-id-1 div.sk-label.fitted input.sk-toggleable__control:checked~label.sk-toggleable__label {\n",
       "  background-color: var(--sklearn-color-fitted-level-2);\n",
       "}\n",
       "\n",
       "/* Estimator-specific style */\n",
       "\n",
       "/* Colorize estimator box */\n",
       "#sk-container-id-1 div.sk-estimator input.sk-toggleable__control:checked~label.sk-toggleable__label {\n",
       "  /* unfitted */\n",
       "  background-color: var(--sklearn-color-unfitted-level-2);\n",
       "}\n",
       "\n",
       "#sk-container-id-1 div.sk-estimator.fitted input.sk-toggleable__control:checked~label.sk-toggleable__label {\n",
       "  /* fitted */\n",
       "  background-color: var(--sklearn-color-fitted-level-2);\n",
       "}\n",
       "\n",
       "#sk-container-id-1 div.sk-label label.sk-toggleable__label,\n",
       "#sk-container-id-1 div.sk-label label {\n",
       "  /* The background is the default theme color */\n",
       "  color: var(--sklearn-color-text-on-default-background);\n",
       "}\n",
       "\n",
       "/* On hover, darken the color of the background */\n",
       "#sk-container-id-1 div.sk-label:hover label.sk-toggleable__label {\n",
       "  color: var(--sklearn-color-text);\n",
       "  background-color: var(--sklearn-color-unfitted-level-2);\n",
       "}\n",
       "\n",
       "/* Label box, darken color on hover, fitted */\n",
       "#sk-container-id-1 div.sk-label.fitted:hover label.sk-toggleable__label.fitted {\n",
       "  color: var(--sklearn-color-text);\n",
       "  background-color: var(--sklearn-color-fitted-level-2);\n",
       "}\n",
       "\n",
       "/* Estimator label */\n",
       "\n",
       "#sk-container-id-1 div.sk-label label {\n",
       "  font-family: monospace;\n",
       "  font-weight: bold;\n",
       "  display: inline-block;\n",
       "  line-height: 1.2em;\n",
       "}\n",
       "\n",
       "#sk-container-id-1 div.sk-label-container {\n",
       "  text-align: center;\n",
       "}\n",
       "\n",
       "/* Estimator-specific */\n",
       "#sk-container-id-1 div.sk-estimator {\n",
       "  font-family: monospace;\n",
       "  border: 1px dotted var(--sklearn-color-border-box);\n",
       "  border-radius: 0.25em;\n",
       "  box-sizing: border-box;\n",
       "  margin-bottom: 0.5em;\n",
       "  /* unfitted */\n",
       "  background-color: var(--sklearn-color-unfitted-level-0);\n",
       "}\n",
       "\n",
       "#sk-container-id-1 div.sk-estimator.fitted {\n",
       "  /* fitted */\n",
       "  background-color: var(--sklearn-color-fitted-level-0);\n",
       "}\n",
       "\n",
       "/* on hover */\n",
       "#sk-container-id-1 div.sk-estimator:hover {\n",
       "  /* unfitted */\n",
       "  background-color: var(--sklearn-color-unfitted-level-2);\n",
       "}\n",
       "\n",
       "#sk-container-id-1 div.sk-estimator.fitted:hover {\n",
       "  /* fitted */\n",
       "  background-color: var(--sklearn-color-fitted-level-2);\n",
       "}\n",
       "\n",
       "/* Specification for estimator info (e.g. \"i\" and \"?\") */\n",
       "\n",
       "/* Common style for \"i\" and \"?\" */\n",
       "\n",
       ".sk-estimator-doc-link,\n",
       "a:link.sk-estimator-doc-link,\n",
       "a:visited.sk-estimator-doc-link {\n",
       "  float: right;\n",
       "  font-size: smaller;\n",
       "  line-height: 1em;\n",
       "  font-family: monospace;\n",
       "  background-color: var(--sklearn-color-background);\n",
       "  border-radius: 1em;\n",
       "  height: 1em;\n",
       "  width: 1em;\n",
       "  text-decoration: none !important;\n",
       "  margin-left: 1ex;\n",
       "  /* unfitted */\n",
       "  border: var(--sklearn-color-unfitted-level-1) 1pt solid;\n",
       "  color: var(--sklearn-color-unfitted-level-1);\n",
       "}\n",
       "\n",
       ".sk-estimator-doc-link.fitted,\n",
       "a:link.sk-estimator-doc-link.fitted,\n",
       "a:visited.sk-estimator-doc-link.fitted {\n",
       "  /* fitted */\n",
       "  border: var(--sklearn-color-fitted-level-1) 1pt solid;\n",
       "  color: var(--sklearn-color-fitted-level-1);\n",
       "}\n",
       "\n",
       "/* On hover */\n",
       "div.sk-estimator:hover .sk-estimator-doc-link:hover,\n",
       ".sk-estimator-doc-link:hover,\n",
       "div.sk-label-container:hover .sk-estimator-doc-link:hover,\n",
       ".sk-estimator-doc-link:hover {\n",
       "  /* unfitted */\n",
       "  background-color: var(--sklearn-color-unfitted-level-3);\n",
       "  color: var(--sklearn-color-background);\n",
       "  text-decoration: none;\n",
       "}\n",
       "\n",
       "div.sk-estimator.fitted:hover .sk-estimator-doc-link.fitted:hover,\n",
       ".sk-estimator-doc-link.fitted:hover,\n",
       "div.sk-label-container:hover .sk-estimator-doc-link.fitted:hover,\n",
       ".sk-estimator-doc-link.fitted:hover {\n",
       "  /* fitted */\n",
       "  background-color: var(--sklearn-color-fitted-level-3);\n",
       "  color: var(--sklearn-color-background);\n",
       "  text-decoration: none;\n",
       "}\n",
       "\n",
       "/* Span, style for the box shown on hovering the info icon */\n",
       ".sk-estimator-doc-link span {\n",
       "  display: none;\n",
       "  z-index: 9999;\n",
       "  position: relative;\n",
       "  font-weight: normal;\n",
       "  right: .2ex;\n",
       "  padding: .5ex;\n",
       "  margin: .5ex;\n",
       "  width: min-content;\n",
       "  min-width: 20ex;\n",
       "  max-width: 50ex;\n",
       "  color: var(--sklearn-color-text);\n",
       "  box-shadow: 2pt 2pt 4pt #999;\n",
       "  /* unfitted */\n",
       "  background: var(--sklearn-color-unfitted-level-0);\n",
       "  border: .5pt solid var(--sklearn-color-unfitted-level-3);\n",
       "}\n",
       "\n",
       ".sk-estimator-doc-link.fitted span {\n",
       "  /* fitted */\n",
       "  background: var(--sklearn-color-fitted-level-0);\n",
       "  border: var(--sklearn-color-fitted-level-3);\n",
       "}\n",
       "\n",
       ".sk-estimator-doc-link:hover span {\n",
       "  display: block;\n",
       "}\n",
       "\n",
       "/* \"?\"-specific style due to the `<a>` HTML tag */\n",
       "\n",
       "#sk-container-id-1 a.estimator_doc_link {\n",
       "  float: right;\n",
       "  font-size: 1rem;\n",
       "  line-height: 1em;\n",
       "  font-family: monospace;\n",
       "  background-color: var(--sklearn-color-background);\n",
       "  border-radius: 1rem;\n",
       "  height: 1rem;\n",
       "  width: 1rem;\n",
       "  text-decoration: none;\n",
       "  /* unfitted */\n",
       "  color: var(--sklearn-color-unfitted-level-1);\n",
       "  border: var(--sklearn-color-unfitted-level-1) 1pt solid;\n",
       "}\n",
       "\n",
       "#sk-container-id-1 a.estimator_doc_link.fitted {\n",
       "  /* fitted */\n",
       "  border: var(--sklearn-color-fitted-level-1) 1pt solid;\n",
       "  color: var(--sklearn-color-fitted-level-1);\n",
       "}\n",
       "\n",
       "/* On hover */\n",
       "#sk-container-id-1 a.estimator_doc_link:hover {\n",
       "  /* unfitted */\n",
       "  background-color: var(--sklearn-color-unfitted-level-3);\n",
       "  color: var(--sklearn-color-background);\n",
       "  text-decoration: none;\n",
       "}\n",
       "\n",
       "#sk-container-id-1 a.estimator_doc_link.fitted:hover {\n",
       "  /* fitted */\n",
       "  background-color: var(--sklearn-color-fitted-level-3);\n",
       "}\n",
       "</style><div id=\"sk-container-id-1\" class=\"sk-top-container\"><div class=\"sk-text-repr-fallback\"><pre>XGBRegressor(base_score=None, booster=None, callbacks=None,\n",
       "             colsample_bylevel=None, colsample_bynode=None,\n",
       "             colsample_bytree=None, device=None, early_stopping_rounds=None,\n",
       "             enable_categorical=False, eval_metric=None, feature_types=None,\n",
       "             gamma=None, grow_policy=None, importance_type=None,\n",
       "             interaction_constraints=None, learning_rate=None, max_bin=None,\n",
       "             max_cat_threshold=None, max_cat_to_onehot=None,\n",
       "             max_delta_step=None, max_depth=None, max_leaves=None,\n",
       "             min_child_weight=None, missing=nan, monotone_constraints=None,\n",
       "             multi_strategy=None, n_estimators=None, n_jobs=None,\n",
       "             num_parallel_tree=None, random_state=None, ...)</pre><b>In a Jupyter environment, please rerun this cell to show the HTML representation or trust the notebook. <br />On GitHub, the HTML representation is unable to render, please try loading this page with nbviewer.org.</b></div><div class=\"sk-container\" hidden><div class=\"sk-item\"><div class=\"sk-estimator fitted sk-toggleable\"><input class=\"sk-toggleable__control sk-hidden--visually\" id=\"sk-estimator-id-1\" type=\"checkbox\" checked><label for=\"sk-estimator-id-1\" class=\"sk-toggleable__label fitted sk-toggleable__label-arrow fitted\">&nbsp;XGBRegressor<span class=\"sk-estimator-doc-link fitted\">i<span>Fitted</span></span></label><div class=\"sk-toggleable__content fitted\"><pre>XGBRegressor(base_score=None, booster=None, callbacks=None,\n",
       "             colsample_bylevel=None, colsample_bynode=None,\n",
       "             colsample_bytree=None, device=None, early_stopping_rounds=None,\n",
       "             enable_categorical=False, eval_metric=None, feature_types=None,\n",
       "             gamma=None, grow_policy=None, importance_type=None,\n",
       "             interaction_constraints=None, learning_rate=None, max_bin=None,\n",
       "             max_cat_threshold=None, max_cat_to_onehot=None,\n",
       "             max_delta_step=None, max_depth=None, max_leaves=None,\n",
       "             min_child_weight=None, missing=nan, monotone_constraints=None,\n",
       "             multi_strategy=None, n_estimators=None, n_jobs=None,\n",
       "             num_parallel_tree=None, random_state=None, ...)</pre></div> </div></div></div></div>"
      ],
      "text/plain": [
       "XGBRegressor(base_score=None, booster=None, callbacks=None,\n",
       "             colsample_bylevel=None, colsample_bynode=None,\n",
       "             colsample_bytree=None, device=None, early_stopping_rounds=None,\n",
       "             enable_categorical=False, eval_metric=None, feature_types=None,\n",
       "             gamma=None, grow_policy=None, importance_type=None,\n",
       "             interaction_constraints=None, learning_rate=None, max_bin=None,\n",
       "             max_cat_threshold=None, max_cat_to_onehot=None,\n",
       "             max_delta_step=None, max_depth=None, max_leaves=None,\n",
       "             min_child_weight=None, missing=nan, monotone_constraints=None,\n",
       "             multi_strategy=None, n_estimators=None, n_jobs=None,\n",
       "             num_parallel_tree=None, random_state=None, ...)"
      ]
     },
     "execution_count": 37,
     "metadata": {},
     "output_type": "execute_result"
    }
   ],
   "source": [
    "# Train XGBoost as a baseline model for our pipeline\n",
    "baseline_model = xgb.XGBRegressor(objective=\"reg:squarederror\")\n",
    "baseline_model.fit(X_train, y_train)"
   ]
  },
  {
   "cell_type": "code",
   "execution_count": 38,
   "id": "56b4de65-0101-47e7-a039-b061a0b61d4f",
   "metadata": {},
   "outputs": [
    {
     "name": "stdout",
     "output_type": "stream",
     "text": [
      "R2 Score: 0.948909138636579\n"
     ]
    }
   ],
   "source": [
    "y_pred = baseline_model.predict(X_test)\n",
    "print(\"R2 Score:\", r2_score(y_test, y_pred))"
   ]
  },
  {
   "cell_type": "markdown",
   "id": "b0c64c94-4298-4a7e-b842-b364d029d2a9",
   "metadata": {},
   "source": [
    "A R-squared (R²) score of 0.9497 indicates that approximately 94.97% of the variance in the dependent variable (target variable) is explained by the independent variables (predictors) in your regression model."
   ]
  },
  {
   "cell_type": "code",
   "execution_count": 39,
   "id": "ba06afc8-f256-471b-bd88-01db2872fad5",
   "metadata": {},
   "outputs": [
    {
     "name": "stdout",
     "output_type": "stream",
     "text": [
      "Mean Absolute Perc Error: 0.141\n",
      "Mean Absolute Error: 2,697\n",
      "Root Mean Squared Error: 4,608\n",
      "Max Error: 49,397\n"
     ]
    }
   ],
   "source": [
    "print(\"Mean Absolute Perc Error:\",\"{:,.3f}\".format(mean_absolute_percentage_error(y_test,y_pred)))\n",
    "print(\"Mean Absolute Error:\", \"{:,.0f}\".format(mean_absolute_error(y_test, y_pred)))\n",
    "print(\"Root Mean Squared Error:\", \"{:,.0f}\".format(np.sqrt(mean_squared_error(y_test, y_pred))))\n",
    "\n",
    "## residuals\n",
    "residuals = y_test - y_pred\n",
    "max_error = residuals.abs().max()\n",
    "max_idx = residuals[residuals==max_error].index[0]\n",
    "#max_true, max_pred = y_test.loc[max_idx], prediction[max_idx]\n",
    "print(\"Max Error:\", \"{:,.0f}\".format(max_error))"
   ]
  },
  {
   "cell_type": "markdown",
   "id": "5c3f824c-5bfa-4dfd-9a38-55945e30c23b",
   "metadata": {},
   "source": [
    "We now plot the true values against the predicted values."
   ]
  },
  {
   "cell_type": "code",
   "execution_count": 40,
   "id": "533536e2-282a-4b27-afef-aaaada4f536c",
   "metadata": {},
   "outputs": [
    {
     "ename": "KeyboardInterrupt",
     "evalue": "",
     "output_type": "error",
     "traceback": [
      "\u001b[1;31m---------------------------------------------------------------------------\u001b[0m",
      "\u001b[1;31mKeyboardInterrupt\u001b[0m                         Traceback (most recent call last)",
      "Cell \u001b[1;32mIn[40], line 4\u001b[0m\n\u001b[0;32m      2\u001b[0m fig, ax \u001b[38;5;241m=\u001b[39m plt\u001b[38;5;241m.\u001b[39msubplots(figsize\u001b[38;5;241m=\u001b[39m(\u001b[38;5;241m8\u001b[39m,\u001b[38;5;241m5\u001b[39m))\n\u001b[0;32m      3\u001b[0m sns\u001b[38;5;241m.\u001b[39mscatterplot(x\u001b[38;5;241m=\u001b[39my_pred,y\u001b[38;5;241m=\u001b[39my_test,ax\u001b[38;5;241m=\u001b[39max, label\u001b[38;5;241m=\u001b[39m\u001b[38;5;124m'\u001b[39m\u001b[38;5;124mActual vs. Predicted\u001b[39m\u001b[38;5;124m'\u001b[39m)\n\u001b[1;32m----> 4\u001b[0m \u001b[43msns\u001b[49m\u001b[38;5;241;43m.\u001b[39;49m\u001b[43mlineplot\u001b[49m\u001b[43m(\u001b[49m\u001b[43mx\u001b[49m\u001b[38;5;241;43m=\u001b[39;49m\u001b[43my_pred\u001b[49m\u001b[43m,\u001b[49m\u001b[43my\u001b[49m\u001b[38;5;241;43m=\u001b[39;49m\u001b[43my_pred\u001b[49m\u001b[43m,\u001b[49m\u001b[43max\u001b[49m\u001b[38;5;241;43m=\u001b[39;49m\u001b[43max\u001b[49m\u001b[43m,\u001b[49m\u001b[43mcolor\u001b[49m\u001b[38;5;241;43m=\u001b[39;49m\u001b[38;5;124;43m'\u001b[39;49m\u001b[38;5;124;43mred\u001b[39;49m\u001b[38;5;124;43m'\u001b[39;49m\u001b[43m,\u001b[49m\u001b[43m \u001b[49m\u001b[43mlabel\u001b[49m\u001b[38;5;241;43m=\u001b[39;49m\u001b[38;5;124;43m'\u001b[39;49m\u001b[38;5;124;43mIdeal Fit\u001b[39;49m\u001b[38;5;124;43m'\u001b[39;49m\u001b[43m)\u001b[49m\n\u001b[0;32m      5\u001b[0m ax\u001b[38;5;241m.\u001b[39mset_xlabel(\u001b[38;5;124m'\u001b[39m\u001b[38;5;124mPredicted Fares\u001b[39m\u001b[38;5;124m'\u001b[39m)\n\u001b[0;32m      6\u001b[0m ax\u001b[38;5;241m.\u001b[39mset_ylabel(\u001b[38;5;124m'\u001b[39m\u001b[38;5;124mActual Fares\u001b[39m\u001b[38;5;124m'\u001b[39m)\n",
      "File \u001b[1;32m~\\AppData\\Local\\Programs\\Python\\Python39\\lib\\site-packages\\seaborn\\relational.py:515\u001b[0m, in \u001b[0;36mlineplot\u001b[1;34m(data, x, y, hue, size, style, units, weights, palette, hue_order, hue_norm, sizes, size_order, size_norm, dashes, markers, style_order, estimator, errorbar, n_boot, seed, orient, sort, err_style, err_kws, legend, ci, ax, **kwargs)\u001b[0m\n\u001b[0;32m    512\u001b[0m color \u001b[38;5;241m=\u001b[39m kwargs\u001b[38;5;241m.\u001b[39mpop(\u001b[38;5;124m\"\u001b[39m\u001b[38;5;124mcolor\u001b[39m\u001b[38;5;124m\"\u001b[39m, kwargs\u001b[38;5;241m.\u001b[39mpop(\u001b[38;5;124m\"\u001b[39m\u001b[38;5;124mc\u001b[39m\u001b[38;5;124m\"\u001b[39m, \u001b[38;5;28;01mNone\u001b[39;00m))\n\u001b[0;32m    513\u001b[0m kwargs[\u001b[38;5;124m\"\u001b[39m\u001b[38;5;124mcolor\u001b[39m\u001b[38;5;124m\"\u001b[39m] \u001b[38;5;241m=\u001b[39m _default_color(ax\u001b[38;5;241m.\u001b[39mplot, hue, color, kwargs)\n\u001b[1;32m--> 515\u001b[0m \u001b[43mp\u001b[49m\u001b[38;5;241;43m.\u001b[39;49m\u001b[43mplot\u001b[49m\u001b[43m(\u001b[49m\u001b[43max\u001b[49m\u001b[43m,\u001b[49m\u001b[43m \u001b[49m\u001b[43mkwargs\u001b[49m\u001b[43m)\u001b[49m\n\u001b[0;32m    516\u001b[0m \u001b[38;5;28;01mreturn\u001b[39;00m ax\n",
      "File \u001b[1;32m~\\AppData\\Local\\Programs\\Python\\Python39\\lib\\site-packages\\seaborn\\relational.py:295\u001b[0m, in \u001b[0;36m_LinePlotter.plot\u001b[1;34m(self, ax, kws)\u001b[0m\n\u001b[0;32m    291\u001b[0m     grouped \u001b[38;5;241m=\u001b[39m sub_data\u001b[38;5;241m.\u001b[39mgroupby(orient, sort\u001b[38;5;241m=\u001b[39m\u001b[38;5;28mself\u001b[39m\u001b[38;5;241m.\u001b[39msort)\n\u001b[0;32m    292\u001b[0m     \u001b[38;5;66;03m# Could pass as_index=False instead of reset_index,\u001b[39;00m\n\u001b[0;32m    293\u001b[0m     \u001b[38;5;66;03m# but that fails on a corner case with older pandas.\u001b[39;00m\n\u001b[0;32m    294\u001b[0m     sub_data \u001b[38;5;241m=\u001b[39m (\n\u001b[1;32m--> 295\u001b[0m         grouped\n\u001b[0;32m    296\u001b[0m         \u001b[38;5;241m.\u001b[39mapply(agg, other, \u001b[38;5;241m*\u001b[39m\u001b[38;5;241m*\u001b[39mgroupby_apply_include_groups(\u001b[38;5;28;01mFalse\u001b[39;00m))\n\u001b[0;32m    297\u001b[0m         \u001b[38;5;241m.\u001b[39mreset_index()\n\u001b[0;32m    298\u001b[0m     )\n\u001b[0;32m    299\u001b[0m \u001b[38;5;28;01melse\u001b[39;00m:\n\u001b[0;32m    300\u001b[0m     sub_data[\u001b[38;5;124mf\u001b[39m\u001b[38;5;124m\"\u001b[39m\u001b[38;5;132;01m{\u001b[39;00mother\u001b[38;5;132;01m}\u001b[39;00m\u001b[38;5;124mmin\u001b[39m\u001b[38;5;124m\"\u001b[39m] \u001b[38;5;241m=\u001b[39m np\u001b[38;5;241m.\u001b[39mnan\n",
      "File \u001b[1;32m~\\AppData\\Local\\Programs\\Python\\Python39\\lib\\site-packages\\pandas\\core\\groupby\\groupby.py:1819\u001b[0m, in \u001b[0;36mGroupBy.apply\u001b[1;34m(self, func, include_groups, *args, **kwargs)\u001b[0m\n\u001b[0;32m   1816\u001b[0m     f \u001b[38;5;241m=\u001b[39m func\n\u001b[0;32m   1818\u001b[0m \u001b[38;5;28;01mif\u001b[39;00m \u001b[38;5;129;01mnot\u001b[39;00m include_groups:\n\u001b[1;32m-> 1819\u001b[0m     \u001b[38;5;28;01mreturn\u001b[39;00m \u001b[38;5;28;43mself\u001b[39;49m\u001b[38;5;241;43m.\u001b[39;49m\u001b[43m_python_apply_general\u001b[49m\u001b[43m(\u001b[49m\u001b[43mf\u001b[49m\u001b[43m,\u001b[49m\u001b[43m \u001b[49m\u001b[38;5;28;43mself\u001b[39;49m\u001b[38;5;241;43m.\u001b[39;49m\u001b[43m_obj_with_exclusions\u001b[49m\u001b[43m)\u001b[49m\n\u001b[0;32m   1821\u001b[0m \u001b[38;5;66;03m# ignore SettingWithCopy here in case the user mutates\u001b[39;00m\n\u001b[0;32m   1822\u001b[0m \u001b[38;5;28;01mwith\u001b[39;00m option_context(\u001b[38;5;124m\"\u001b[39m\u001b[38;5;124mmode.chained_assignment\u001b[39m\u001b[38;5;124m\"\u001b[39m, \u001b[38;5;28;01mNone\u001b[39;00m):\n",
      "File \u001b[1;32m~\\AppData\\Local\\Programs\\Python\\Python39\\lib\\site-packages\\pandas\\core\\groupby\\groupby.py:1885\u001b[0m, in \u001b[0;36mGroupBy._python_apply_general\u001b[1;34m(self, f, data, not_indexed_same, is_transform, is_agg)\u001b[0m\n\u001b[0;32m   1850\u001b[0m \u001b[38;5;129m@final\u001b[39m\n\u001b[0;32m   1851\u001b[0m \u001b[38;5;28;01mdef\u001b[39;00m \u001b[38;5;21m_python_apply_general\u001b[39m(\n\u001b[0;32m   1852\u001b[0m     \u001b[38;5;28mself\u001b[39m,\n\u001b[1;32m   (...)\u001b[0m\n\u001b[0;32m   1857\u001b[0m     is_agg: \u001b[38;5;28mbool\u001b[39m \u001b[38;5;241m=\u001b[39m \u001b[38;5;28;01mFalse\u001b[39;00m,\n\u001b[0;32m   1858\u001b[0m ) \u001b[38;5;241m-\u001b[39m\u001b[38;5;241m>\u001b[39m NDFrameT:\n\u001b[0;32m   1859\u001b[0m \u001b[38;5;250m    \u001b[39m\u001b[38;5;124;03m\"\"\"\u001b[39;00m\n\u001b[0;32m   1860\u001b[0m \u001b[38;5;124;03m    Apply function f in python space\u001b[39;00m\n\u001b[0;32m   1861\u001b[0m \n\u001b[1;32m   (...)\u001b[0m\n\u001b[0;32m   1883\u001b[0m \u001b[38;5;124;03m        data after applying f\u001b[39;00m\n\u001b[0;32m   1884\u001b[0m \u001b[38;5;124;03m    \"\"\"\u001b[39;00m\n\u001b[1;32m-> 1885\u001b[0m     values, mutated \u001b[38;5;241m=\u001b[39m \u001b[38;5;28;43mself\u001b[39;49m\u001b[38;5;241;43m.\u001b[39;49m\u001b[43m_grouper\u001b[49m\u001b[38;5;241;43m.\u001b[39;49m\u001b[43mapply_groupwise\u001b[49m\u001b[43m(\u001b[49m\u001b[43mf\u001b[49m\u001b[43m,\u001b[49m\u001b[43m \u001b[49m\u001b[43mdata\u001b[49m\u001b[43m,\u001b[49m\u001b[43m \u001b[49m\u001b[38;5;28;43mself\u001b[39;49m\u001b[38;5;241;43m.\u001b[39;49m\u001b[43maxis\u001b[49m\u001b[43m)\u001b[49m\n\u001b[0;32m   1886\u001b[0m     \u001b[38;5;28;01mif\u001b[39;00m not_indexed_same \u001b[38;5;129;01mis\u001b[39;00m \u001b[38;5;28;01mNone\u001b[39;00m:\n\u001b[0;32m   1887\u001b[0m         not_indexed_same \u001b[38;5;241m=\u001b[39m mutated\n",
      "File \u001b[1;32m~\\AppData\\Local\\Programs\\Python\\Python39\\lib\\site-packages\\pandas\\core\\groupby\\ops.py:919\u001b[0m, in \u001b[0;36mBaseGrouper.apply_groupwise\u001b[1;34m(self, f, data, axis)\u001b[0m\n\u001b[0;32m    917\u001b[0m \u001b[38;5;66;03m# group might be modified\u001b[39;00m\n\u001b[0;32m    918\u001b[0m group_axes \u001b[38;5;241m=\u001b[39m group\u001b[38;5;241m.\u001b[39maxes\n\u001b[1;32m--> 919\u001b[0m res \u001b[38;5;241m=\u001b[39m \u001b[43mf\u001b[49m\u001b[43m(\u001b[49m\u001b[43mgroup\u001b[49m\u001b[43m)\u001b[49m\n\u001b[0;32m    920\u001b[0m \u001b[38;5;28;01mif\u001b[39;00m \u001b[38;5;129;01mnot\u001b[39;00m mutated \u001b[38;5;129;01mand\u001b[39;00m \u001b[38;5;129;01mnot\u001b[39;00m _is_indexed_like(res, group_axes, axis):\n\u001b[0;32m    921\u001b[0m     mutated \u001b[38;5;241m=\u001b[39m \u001b[38;5;28;01mTrue\u001b[39;00m\n",
      "File \u001b[1;32m~\\AppData\\Local\\Programs\\Python\\Python39\\lib\\site-packages\\pandas\\core\\groupby\\groupby.py:1809\u001b[0m, in \u001b[0;36mGroupBy.apply.<locals>.f\u001b[1;34m(g)\u001b[0m\n\u001b[0;32m   1807\u001b[0m \u001b[38;5;129m@wraps\u001b[39m(func)\n\u001b[0;32m   1808\u001b[0m \u001b[38;5;28;01mdef\u001b[39;00m \u001b[38;5;21mf\u001b[39m(g):\n\u001b[1;32m-> 1809\u001b[0m     \u001b[38;5;28;01mreturn\u001b[39;00m func(g, \u001b[38;5;241m*\u001b[39margs, \u001b[38;5;241m*\u001b[39m\u001b[38;5;241m*\u001b[39mkwargs)\n",
      "File \u001b[1;32m~\\AppData\\Local\\Programs\\Python\\Python39\\lib\\site-packages\\seaborn\\_statistics.py:517\u001b[0m, in \u001b[0;36mEstimateAggregator.__call__\u001b[1;34m(self, data, var)\u001b[0m\n\u001b[0;32m    515\u001b[0m \u001b[38;5;28;01melif\u001b[39;00m \u001b[38;5;28mself\u001b[39m\u001b[38;5;241m.\u001b[39merror_method \u001b[38;5;241m==\u001b[39m \u001b[38;5;124m\"\u001b[39m\u001b[38;5;124mci\u001b[39m\u001b[38;5;124m\"\u001b[39m:\n\u001b[0;32m    516\u001b[0m     units \u001b[38;5;241m=\u001b[39m data\u001b[38;5;241m.\u001b[39mget(\u001b[38;5;124m\"\u001b[39m\u001b[38;5;124munits\u001b[39m\u001b[38;5;124m\"\u001b[39m, \u001b[38;5;28;01mNone\u001b[39;00m)\n\u001b[1;32m--> 517\u001b[0m     boots \u001b[38;5;241m=\u001b[39m bootstrap(vals, units\u001b[38;5;241m=\u001b[39munits, func\u001b[38;5;241m=\u001b[39m\u001b[38;5;28mself\u001b[39m\u001b[38;5;241m.\u001b[39mestimator, \u001b[38;5;241m*\u001b[39m\u001b[38;5;241m*\u001b[39m\u001b[38;5;28mself\u001b[39m\u001b[38;5;241m.\u001b[39mboot_kws)\n\u001b[0;32m    518\u001b[0m     err_min, err_max \u001b[38;5;241m=\u001b[39m _percentile_interval(boots, \u001b[38;5;28mself\u001b[39m\u001b[38;5;241m.\u001b[39merror_level)\n\u001b[0;32m    520\u001b[0m \u001b[38;5;28;01mreturn\u001b[39;00m pd\u001b[38;5;241m.\u001b[39mSeries({var: estimate, \u001b[38;5;124mf\u001b[39m\u001b[38;5;124m\"\u001b[39m\u001b[38;5;132;01m{\u001b[39;00mvar\u001b[38;5;132;01m}\u001b[39;00m\u001b[38;5;124mmin\u001b[39m\u001b[38;5;124m\"\u001b[39m: err_min, \u001b[38;5;124mf\u001b[39m\u001b[38;5;124m\"\u001b[39m\u001b[38;5;132;01m{\u001b[39;00mvar\u001b[38;5;132;01m}\u001b[39;00m\u001b[38;5;124mmax\u001b[39m\u001b[38;5;124m\"\u001b[39m: err_max})\n",
      "File \u001b[1;32m~\\AppData\\Local\\Programs\\Python\\Python39\\lib\\site-packages\\seaborn\\algorithms.py:98\u001b[0m, in \u001b[0;36mbootstrap\u001b[1;34m(*args, **kwargs)\u001b[0m\n\u001b[0;32m     96\u001b[0m boot_dist \u001b[38;5;241m=\u001b[39m []\n\u001b[0;32m     97\u001b[0m \u001b[38;5;28;01mfor\u001b[39;00m i \u001b[38;5;129;01min\u001b[39;00m \u001b[38;5;28mrange\u001b[39m(\u001b[38;5;28mint\u001b[39m(n_boot)):\n\u001b[1;32m---> 98\u001b[0m     resampler \u001b[38;5;241m=\u001b[39m \u001b[43mintegers\u001b[49m\u001b[43m(\u001b[49m\u001b[38;5;241;43m0\u001b[39;49m\u001b[43m,\u001b[49m\u001b[43m \u001b[49m\u001b[43mn\u001b[49m\u001b[43m,\u001b[49m\u001b[43m \u001b[49m\u001b[43mn\u001b[49m\u001b[43m,\u001b[49m\u001b[43m \u001b[49m\u001b[43mdtype\u001b[49m\u001b[38;5;241;43m=\u001b[39;49m\u001b[43mnp\u001b[49m\u001b[38;5;241;43m.\u001b[39;49m\u001b[43mintp\u001b[49m\u001b[43m)\u001b[49m  \u001b[38;5;66;03m# intp is indexing dtype\u001b[39;00m\n\u001b[0;32m     99\u001b[0m     sample \u001b[38;5;241m=\u001b[39m [a\u001b[38;5;241m.\u001b[39mtake(resampler, axis\u001b[38;5;241m=\u001b[39m\u001b[38;5;241m0\u001b[39m) \u001b[38;5;28;01mfor\u001b[39;00m a \u001b[38;5;129;01min\u001b[39;00m args]\n\u001b[0;32m    100\u001b[0m     boot_dist\u001b[38;5;241m.\u001b[39mappend(f(\u001b[38;5;241m*\u001b[39msample, \u001b[38;5;241m*\u001b[39m\u001b[38;5;241m*\u001b[39mfunc_kwargs))\n",
      "\u001b[1;31mKeyboardInterrupt\u001b[0m: "
     ]
    },
    {
     "data": {
      "image/png": "[encoded data removed]",
      "text/plain": [
       "<Figure size 800x500 with 1 Axes>"
      ]
     },
     "metadata": {},
     "output_type": "display_data"
    }
   ],
   "source": [
    "# print the predicted fares regression plot\n",
    "fig, ax = plt.subplots(figsize=(8,5))\n",
    "sns.scatterplot(x=y_pred,y=y_test,ax=ax, label='Actual vs. Predicted')\n",
    "sns.lineplot(x=y_pred,y=y_pred,ax=ax,color='red', label='Ideal Fit')\n",
    "ax.set_xlabel('Predicted Fares')\n",
    "ax.set_ylabel('Actual Fares')\n",
    "ax.legend()\n",
    "plt.show()"
   ]
  },
  {
   "cell_type": "code",
   "execution_count": null,
   "id": "ad50f328-6417-4894-813f-d003d1628d6d",
   "metadata": {},
   "outputs": [],
   "source": [
    "residuals.hist(label = 'Number of flights')\n",
    "# Add labels to the x and y axes\n",
    "plt.xlabel('Residuals')\n",
    "plt.ylabel('Number of flights')\n",
    "plt.legend()\n",
    "\n",
    "# Show the plot\n",
    "plt.show()"
   ]
  },
  {
   "cell_type": "code",
   "execution_count": null,
   "id": "3d1ea098-d640-4a21-877f-50a20a763ddf",
   "metadata": {},
   "outputs": [],
   "source": [
    "# Create subplots\n",
    "fig, ax = plt.subplots(1, 2, figsize=(16, 5))\n",
    "\n",
    "# Scatter plot for absolute residuals\n",
    "sns.scatterplot(x=y_pred, y=residuals, ax=ax[0], label='Absolute Residuals')\n",
    "sns.lineplot(x=y_pred, y=0, ax=ax[0], color='black')\n",
    "ax[0].set_title(\"Residuals (Abs)\")\n",
    "ax[0].legend()  # Add legend\n",
    "ax[0].set_xlabel('Predicted Fares')  # Add x-axis label\n",
    "\n",
    "# Scatter plot for percentage residuals\n",
    "sns.scatterplot(x=y_pred, y=residuals/y_test, ax=ax[1], label='Percentage Residuals')\n",
    "sns.lineplot(x=y_pred, y=0, ax=ax[1], color='black')\n",
    "ax[1].set_title(\"Residuals (%)\")\n",
    "ax[1].legend()  # Add legend\n",
    "ax[1].set_xlabel('Predicted Fares')  # Add x-axis label\n",
    "\n",
    "plt.show()"
   ]
  },
  {
   "cell_type": "markdown",
   "id": "c404fca7-cb35-4ba2-8faa-15bd11b6a849",
   "metadata": {},
   "source": [
    "We can see that we have some big mistakes and some small mistakes"
   ]
  },
  {
   "cell_type": "code",
   "execution_count": null,
   "id": "302ca86a-eef8-474a-9c9b-37797e13b342",
   "metadata": {},
   "outputs": [],
   "source": [
    "rel_res=residuals/y_test\n",
    "rel_res=rel_res.abs()"
   ]
  },
  {
   "cell_type": "markdown",
   "id": "e207c67b-3b38-422f-b149-483e59b3dcd5",
   "metadata": {},
   "source": [
    "How many time did our model achieve low estimation error (error less than 5%)?"
   ]
  },
  {
   "cell_type": "code",
   "execution_count": null,
   "id": "77903ff3-e9b6-4d11-99b8-486b8b40c4cd",
   "metadata": {},
   "outputs": [],
   "source": [
    "len(rel_res[rel_res<0.05])/len(rel_res)"
   ]
  },
  {
   "cell_type": "markdown",
   "id": "b929813e-a214-45ee-9dfb-4b99cc70f55a",
   "metadata": {},
   "source": [
    "How many time did our model achieve low estimation error (error more than 20%)?:"
   ]
  },
  {
   "cell_type": "code",
   "execution_count": null,
   "id": "ebec821f-2242-4257-8206-2f75e03bb287",
   "metadata": {},
   "outputs": [],
   "source": [
    "len(rel_res[rel_res>0.2])/len(rel_res)"
   ]
  },
  {
   "cell_type": "markdown",
   "id": "e771582f-3950-48f3-9784-8224f11c854f",
   "metadata": {},
   "source": [
    "## Results"
   ]
  },
  {
   "cell_type": "markdown",
   "id": "81339e70-3b7c-490b-83dd-8b9071fbe586",
   "metadata": {},
   "source": [
    "The baseline model has a Mean Absolute Error of 2,663 and an R2 score of ~0.9497, which looks almost like a perfect fit for our model.  \n",
    "The regression plot shows that the predicted fares are close to the actual fares, and the residuals distribution plot shows that the residuals are normally distributed around 0.\n",
    "We can see that in the residuals histogram most of the residuals are around 0, which means the prediction is pretty accurate.\n",
    "we can see that there are more low estimators than high."
   ]
  },
  {
   "cell_type": "code",
   "execution_count": null,
   "id": "ee712d9d-2fdb-4454-9c5a-381fd72d1834",
   "metadata": {},
   "outputs": [],
   "source": [
    " ## ------------------------------------ PART 3  ------------------------------------"
   ]
  },
  {
   "cell_type": "markdown",
   "id": "d5d9da02-e553-4fed-951f-ef1d87998d0a",
   "metadata": {},
   "source": [
    "Now, we would like to analyze the predictions using the SHAP library, a tool commonly used for interpreting machine learning models. Therefore, we'll sample the top overpredicted and underpredicted instances. By doing so, we aim to discern patterns and underlying factors contributing to these predicted outliers."
   ]
  },
  {
   "cell_type": "code",
   "execution_count": null,
   "id": "89d22bf3-329b-4c27-bd04-8b63a6284663",
   "metadata": {},
   "outputs": [],
   "source": [
    "\n",
    "# Calculate the difference between predicted and actual fares\n",
    "fare_difference = y_pred - y_test\n",
    "\n",
    "# Sorting the fare differences\n",
    "sorted_fare_difference = fare_difference.sort_values(ascending=False)\n",
    "\n",
    "# Get the indices of top 1000 over-predicted and under-predicted samples\n",
    "top_1000_over_predicted_indices = sorted_fare_difference.index[:1000]\n",
    "top_1000_under_predicted_indices = sorted_fare_difference.index[-1000:]\n",
    "\n",
    "# Extract the corresponding samples from the dataset\n",
    "top_1000_over_predicted_samples = dtf.loc[top_1000_over_predicted_indices].drop(columns=['Fare'])\n",
    "top_1000_under_predicted_samples = dtf.loc[top_1000_under_predicted_indices].drop(columns=['Fare'])\n",
    "\n",
    "\n",
    "# Print the top 1000 over-predicted and under-predicted samples\n",
    "print(\"Top 1000 Over-predicted Samples:\")\n",
    "print(top_1000_over_predicted_samples)\n",
    "print(\"\\nTop 1000 Under-predicted Samples:\")\n",
    "print(top_1000_under_predicted_samples)\n",
    "\n",
    "# Extract the corresponding samples from the dataset\n",
    "top_1000_over_predicted_samples_original = original_dtf.loc[top_1000_over_predicted_indices]\n",
    "top_1000_under_predicted_samples_original = original_dtf.loc[top_1000_under_predicted_indices]\n",
    "\n",
    "# Print the top 1000 over-predicted and under-predicted samples\n",
    "print(\"Top 1000 Over-predicted Samples original:\")\n",
    "print(top_1000_over_predicted_samples_original)\n",
    "print(\"\\nTop 1000 Under-predicted Samples original:\")\n",
    "print(top_1000_under_predicted_samples_original)"
   ]
  },
  {
   "cell_type": "code",
   "execution_count": null,
   "id": "e5d786bf-46d7-473e-af6b-061afc971318",
   "metadata": {},
   "outputs": [],
   "source": [
    "# # Count the occurrences of each source in the top 1000 over-predicted samples\n",
    "# over_pred_source_counts = top_1000_over_predicted_samples['Advance_days'].value_counts()\n",
    "# under_pred_source_counts = top_1000_under_predicted_samples['Advance_days'].value_counts()\n",
    "\n",
    "# print(\"Counts of sources in the top 1000 over-predicted samples:\")\n",
    "# print(over_pred_source_counts)\n",
    "\n",
    "# print(\"Counts of sources in the top 1000 under-predicted samples:\")\n",
    "# print(under_pred_source_counts)\n"
   ]
  },
  {
   "cell_type": "markdown",
   "id": "bce4b2fd-f09d-470d-bdf4-ee18f22fcbdd",
   "metadata": {},
   "source": [
    "We are curious to verify if the gap in the 'Source' values, particularly for Delhi, are consistent with the original data."
   ]
  },
  {
   "cell_type": "code",
   "execution_count": null,
   "id": "a67da71c-d185-4b51-8605-d2ee81fd9b19",
   "metadata": {},
   "outputs": [],
   "source": [
    "# Count the occurrences of each source in the entire dataset \n",
    "source_counts = X_test['Source'].value_counts()\n",
    "\n",
    "total_samples = X_test.shape[0]\n",
    "source_percentages = (source_counts / total_samples) * 100\n",
    "\n",
    "print(\"Sources, their counts, and percentages:\")\n",
    "for source, count in source_counts.items():\n",
    "    percentage = source_percentages.get(source, 0)\n",
    "    print(f\"{source}: {count} ({percentage:.2f}%)\")"
   ]
  },
  {
   "cell_type": "markdown",
   "id": "ca3c6ddc-210b-4fec-ac8c-23554625ee3e",
   "metadata": {},
   "source": [
    "We observe that there isn't a significant gap among the source values, particularly for Delhi, Mumbai, and Bangalore, which appear more frequently.\n",
    "We will keep that in mind."
   ]
  },
  {
   "cell_type": "markdown",
   "id": "133e2733-43d2-4394-8850-4a8e6323f460",
   "metadata": {},
   "source": [
    "### SHAP analysis"
   ]
  },
  {
   "cell_type": "code",
   "execution_count": null,
   "id": "927130f9-28f7-4df8-b276-1132518fed22",
   "metadata": {},
   "outputs": [],
   "source": [
    "import shap\n",
    "\n",
    "explainer = shap.TreeExplainer(baseline_model)\n",
    "\n",
    "# Calculate SHAP values for top over-predicted and under-predicted samples\n",
    "shap_values_over_predicted = explainer(top_1000_over_predicted_samples)\n",
    "shap_values_under_predicted = explainer(top_1000_under_predicted_samples)"
   ]
  },
  {
   "cell_type": "markdown",
   "id": "aac1cfcf-3279-4f72-8934-faaeee6b2d37",
   "metadata": {},
   "source": [
    "### Visualize SHAP summary plot for top over-predicted samples"
   ]
  },
  {
   "cell_type": "code",
   "execution_count": null,
   "id": "c533dd1e-a953-4716-b35e-5c28bc85e8d7",
   "metadata": {},
   "outputs": [],
   "source": [
    "shap.summary_plot(shap_values_over_predicted, features=top_1000_over_predicted_samples, title=\"SHAP Summary Plot - Top Over-predicted Samples\")"
   ]
  },
  {
   "cell_type": "markdown",
   "id": "6316f932-c22b-49f3-8567-e53c11f68f55",
   "metadata": {},
   "source": [
    "### Visualize SHAP summary plot for top under-predicted samples"
   ]
  },
  {
   "cell_type": "code",
   "execution_count": null,
   "id": "5e6bbf0d-27cc-4d60-a8b1-7cc28dc4db5d",
   "metadata": {},
   "outputs": [],
   "source": [
    "shap.summary_plot(shap_values_under_predicted, features=top_1000_under_predicted_samples, title=\"SHAP Summary Plot - Top Under-predicted Samples\")"
   ]
  },
  {
   "cell_type": "markdown",
   "id": "35d4dc05-adeb-4929-b4f0-20e059599214",
   "metadata": {},
   "source": [
    "Both plots illustrate the effect of the different features on predictions. Samples further away from the zero line indicate a stronger negative or positive effect on price predictions. For instance, in the 'class' feature, \"low\" blue dots (representing economy class) are associated with lower predicted prices than actual prices, while \"high\" red dots (representing first class) are associated with higher predicted prices than actual prices.\n",
    "We can also see that in the 'Advance_days' feature, we observe an inverse relationship: higher values (indicating booking the flight well in advance) correspond to lower predicted prices, and conversely, lower values correspond to higher predicted prices."
   ]
  },
  {
   "cell_type": "code",
   "execution_count": null,
   "id": "398b1497-d4d8-45e8-9a55-d87ce4ba8b3a",
   "metadata": {},
   "outputs": [],
   "source": [
    "shap.plots.bar(shap_values_over_predicted)"
   ]
  },
  {
   "cell_type": "markdown",
   "id": "1167d70c-e0a0-46c0-9b26-ec273558d9cc",
   "metadata": {},
   "source": [
    "Note: We ran the bar plot also for the underpredicted shap values and got a similar result so we present just the overpredicted plot. "
   ]
  },
  {
   "cell_type": "markdown",
   "id": "f1dca54a-8728-45ab-ba38-b73d6607dba7",
   "metadata": {},
   "source": [
    "### SHAP Conclusions"
   ]
  },
  {
   "cell_type": "markdown",
   "id": "90ebead8-90f4-4cbf-9f8e-4fc1add9f940",
   "metadata": {},
   "source": [
    "Note: We conducted SHAP analysis on the entire dataset as well, although we didn't include it, in order to reduce  the number of plots.\n",
    "However, we'll utilize insights from this analysis to draw conclusions.\n",
    "To summarize briefly, the 'class' feature has the most significant influence on the predictions. Additionally, 'duration_in_hours' and 'advance_days' have a similar effects on the predictions, (smaller gaps between them then the ones shown on the above bar plot).\n",
    "Moreover, there's a difference in the influence of the 'source' feature, where in the above plot a larger effect is shown."
   ]
  },
  {
   "cell_type": "markdown",
   "id": "e49cb9a8-7149-4137-8cdb-d10849c5abae",
   "metadata": {},
   "source": [
    "After running SHAP on the overpredicted and underpredicted instances, we got to a few interesting conclusions:\n",
    "- We can see that the most influence on the over/under predicted instances is the Class feature, but we also noticed that it has the most influence on the predictions of the entire data, so it fits our expectations.\n",
    "- In the source feature we saw a small difference between the influence of it on the entire data predictions, where in the top 1000 over/under predicted instances we saw it had a larger effect, and it suits our suspicions regarding the amount of occurences of delhi in our 1000 over/under predicted instances\n",
    "- In the duration_in_hours feature has influence on the over/under predicted instances. We can see that \"low\" blue dots (representing shorter flight duration) are associated with lower predicted prices than actual prices, as expected."
   ]
  },
  {
   "cell_type": "code",
   "execution_count": null,
   "id": "a95c071a-50f9-4aba-98c5-a01cc1c7a2a1",
   "metadata": {},
   "outputs": [],
   "source": [
    "# # Define bins for advanced_days\n",
    "# bins = [0, 14, 28, float('inf')]\n",
    "# labels = [0, 1, 2]\n",
    "# data= dtf.copy()\n",
    "# # Bin advanced_days\n",
    "# data['Advance_days_bin'] = pd.cut(data['Advance_days'], bins=bins, labels=False, right=True)\n",
    "# data= data.drop(columns=['Advance_days'])\n",
    "# # Convert the bin labels to integers\n",
    "# data['Advance_days_bin'] = data['Advance_days_bin'].astype(int)\n",
    "# print(data)\n"
   ]
  },
  {
   "cell_type": "code",
   "execution_count": null,
   "id": "19cfc428-ebaa-460b-bd97-0e24de0b4f85",
   "metadata": {},
   "outputs": [],
   "source": [
    "# # Extract the corresponding samples from the dataset\n",
    "# top_1000_over_predicted_samples = data.loc[top_1000_over_predicted_indices].drop(columns=['Fare'])\n",
    "# top_1000_under_predicted_samples = data.loc[top_1000_under_predicted_indices].drop(columns=['Fare'])\n",
    "\n",
    "# # Count the occurrences of each source in the top 1000 over-predicted samples\n",
    "# over_pred_source_counts = top_1000_over_predicted_samples['Advance_days_bin'].value_counts()\n",
    "# under_pred_source_counts = top_1000_under_predicted_samples['Advance_days_bin'].value_counts()\n",
    "\n",
    "# print(\"Counts of sources in the top 1000 over-predicted samples:\")\n",
    "# print(over_pred_source_counts)\n",
    "\n",
    "# print(\"Counts of sources in the top 1000 under-predicted samples:\")\n",
    "# print(under_pred_source_counts)"
   ]
  },
  {
   "cell_type": "code",
   "execution_count": null,
   "id": "94bfa803-e18e-4e06-8dad-f47b64104e93",
   "metadata": {},
   "outputs": [],
   "source": [
    "# Split the dataset into training and testing sets\n",
    "# X_test['Advance_days']= data['Advance_days_bin']\n",
    "# X_train['Advance_days']= data['Advance_days_bin']\n",
    "# print(X_test)"
   ]
  },
  {
   "cell_type": "code",
   "execution_count": null,
   "id": "5eb96386-4025-4df7-9a5b-1f5818934e61",
   "metadata": {},
   "outputs": [],
   "source": [
    "# Count the occurrences of each source in the top 1000 over-predicted samples\n",
    "over_pred_source_counts = top_1000_over_predicted_samples['Class'].value_counts()\n",
    "under_pred_source_counts = top_1000_under_predicted_samples['Class'].value_counts()\n",
    "\n",
    "print(\"Counts of sources in the top 1000 over-predicted samples:\")\n",
    "print(over_pred_source_counts)\n",
    "\n",
    "print(\"Counts of sources in the top 1000 under-predicted samples:\")\n",
    "print(under_pred_source_counts)"
   ]
  },
  {
   "cell_type": "code",
   "execution_count": null,
   "id": "3cb2494e-8ec7-45db-9b37-ca273933cf5f",
   "metadata": {},
   "outputs": [],
   "source": [
    "# # Train XGBoost as a baseline model for our pipeline\n",
    "# baseline_model_new = xgb.XGBRegressor(objective=\"reg:squarederror\")\n",
    "# baseline_model_new.fit(X_train, y_train)"
   ]
  },
  {
   "cell_type": "code",
   "execution_count": null,
   "id": "7ef52e9d-dd40-4446-b122-c77dae6a55b5",
   "metadata": {},
   "outputs": [],
   "source": [
    "# y_pred = baseline_model_new.predict(X_test)\n",
    "# print(\"R2 Score:\", r2_score(y_test, y_pred))"
   ]
  },
  {
   "cell_type": "code",
   "execution_count": null,
   "id": "d51581da-d8cb-4340-9bad-c5a6913ee8b7",
   "metadata": {},
   "outputs": [],
   "source": [
    "# # print the predicted fares regression plot\n",
    "# fig, ax = plt.subplots(figsize=(8,5))\n",
    "# sns.scatterplot(x=y_pred,y=y_test,ax=ax, label='Actual vs. Predicted')\n",
    "# sns.lineplot(x=y_pred,y=y_pred,ax=ax,color='red', label='Ideal Fit')\n",
    "# ax.set_xlabel('Predicted Fares')\n",
    "# ax.set_ylabel('Actual Fares')\n",
    "# ax.legend()\n",
    "# plt.show()"
   ]
  },
  {
   "cell_type": "code",
   "execution_count": null,
   "id": "836c09ab-3d34-4b74-9018-ecd477959850",
   "metadata": {},
   "outputs": [],
   "source": [
    "# Drop the top 1000 over-predicted and under-predicted instances from the data\n",
    "# dtf = dtf.drop(index=top_1000_over_predicted_indices)\n",
    "# dft = dtf.drop(index=top_1000_under_predicted_indices)\n",
    "# Get information for a specific index\n",
    "# specific_index_info = dtf.iloc[1038]\n",
    "# print(specific_index_info)\n",
    "# specific_index_info1 = dtf.iloc[60406]\n",
    "# print(specific_index_info1)"
   ]
  },
  {
   "cell_type": "code",
   "execution_count": null,
   "id": "6da17166-d8e9-49b8-9209-10e48072b664",
   "metadata": {},
   "outputs": [],
   "source": [
    "# # Split the dataset into training and testing sets\n",
    "# X = dtf.drop(columns = 'Fare')\n",
    "\n",
    "# # Our outcome variable\n",
    "# y = dtf.Fare\n",
    "# X_train, X_test, y_train, y_test = train_test_split(X,y, test_size=0.2, stratify=dtf[\"Journey_day_numeric\"], random_state=42, shuffle = True)"
   ]
  },
  {
   "cell_type": "code",
   "execution_count": null,
   "id": "801d449d-780b-4c6f-90ab-e88aa5fe67aa",
   "metadata": {},
   "outputs": [],
   "source": [
    "# # Train XGBoost as a baseline model for our pipeline\n",
    "# print(dtf)\n",
    "# baseline_model_rm_outliers = xgb.XGBRegressor(objective=\"reg:squarederror\")\n",
    "# baseline_model_rm_outliers.fit(X_train, y_train)"
   ]
  },
  {
   "cell_type": "code",
   "execution_count": null,
   "id": "3befff37-65d2-4106-95de-69d7d51c4e03",
   "metadata": {},
   "outputs": [],
   "source": [
    "# y_pred = baseline_model_new.predict(X_test)\n",
    "# print(\"R2 Score:\", r2_score(y_test, y_pred))"
   ]
  },
  {
   "cell_type": "code",
   "execution_count": null,
   "id": "4dc29ac2-6d3b-4641-89ee-fb94c0642937",
   "metadata": {},
   "outputs": [],
   "source": [
    "#y_log = np.log(y)\n",
    "y_log = np.cbrt(y)\n",
    "#y_log = np.log10(y)\n",
    "X_train, X_test, y_train, y_test = train_test_split(X,y_log, test_size=0.2, stratify=dtf[\"Journey_day_numeric\"], random_state=42, shuffle = True)\n",
    "\n",
    "# Define punishment weights based on class values\n",
    "class_punishment = {1: 2, 2: 1, 3: 2}  # Punish class 3 more heavily\n",
    "\n",
    "# Create custom weights for each sample based on its class\n",
    "sample_weights_train = np.array([class_punishment.get(c, 1) for c in X_train[\"Class\"]])\n",
    "sample_weights_test = np.array([class_punishment.get(c, 1) for c in X_test[\"Class\"]])\n",
    "\n",
    "# Define the XGBoost regressor\n",
    "baseline_model_log_fare_weighted = xgb.XGBRegressor(objective=\"reg:squarederror\")\n",
    "\n",
    "# Train the model with custom sample weights\n",
    "baseline_model_log_fare_weighted.fit(X_train, y_train, sample_weight=sample_weights_train)\n",
    "\n",
    "# The best hyperparameters\n",
    "best_params = {'learning_rate': 0.2, 'max_depth': 9, 'reg_lambda': 0}\n",
    "\n",
    "# Train the model with the best hyperparameters\n",
    "best_model = xgb.XGBRegressor(objective=\"reg:squarederror\", **best_params)\n",
    "best_model.fit(X_train, y_train, sample_weight=sample_weights_train)"
   ]
  },
  {
   "cell_type": "code",
   "execution_count": null,
   "id": "a08fdeb7-a649-4083-844b-1640e3be2fb7",
   "metadata": {},
   "outputs": [],
   "source": [
    "y_pred = best_model.predict(X_test)\n",
    "print(\"R2 Score:\", r2_score(y_test, y_pred))"
   ]
  },
  {
   "cell_type": "code",
   "execution_count": null,
   "id": "fe3dc637-7421-4ad9-9676-555c829ff29e",
   "metadata": {},
   "outputs": [],
   "source": [
    "print(\"Mean Absolute Perc Error:\",\"{:,.3f}\".format(mean_absolute_percentage_error(y_test,y_pred)))"
   ]
  },
  {
   "cell_type": "code",
   "execution_count": null,
   "id": "53e5e44d-7c1e-4e47-be12-65211022ed00",
   "metadata": {},
   "outputs": [],
   "source": [
    "# Calculate the difference between predicted and actual fares\n",
    "fare_difference = y_pred - y_test\n",
    "\n",
    "# Sorting the fare differences\n",
    "sorted_fare_difference = fare_difference.sort_values(ascending=False)\n",
    "\n",
    "# Get the indices of top 1000 over-predicted and under-predicted samples\n",
    "top_1000_over_predicted_indices = sorted_fare_difference.index[:1000]\n",
    "top_1000_under_predicted_indices = sorted_fare_difference.index[-1000:]\n",
    "\n",
    "# Extract the corresponding samples from the dataset\n",
    "top_1000_over_predicted_samples = dtf.loc[top_1000_over_predicted_indices].drop(columns=['Fare'])\n",
    "top_1000_under_predicted_samples = dtf.loc[top_1000_under_predicted_indices].drop(columns=['Fare'])\n",
    "\n",
    "\n",
    "# Print the top 1000 over-predicted and under-predicted samples\n",
    "print(\"Top 1000 Over-predicted Samples:\")\n",
    "print(top_1000_over_predicted_samples)\n",
    "print(\"\\nTop 1000 Under-predicted Samples:\")\n",
    "print(top_1000_under_predicted_samples)\n",
    "\n",
    "# Extract the corresponding samples from the dataset\n",
    "top_1000_over_predicted_samples_original = original_dtf.loc[top_1000_over_predicted_indices]\n",
    "top_1000_under_predicted_samples_original = original_dtf.loc[top_1000_under_predicted_indices]\n",
    "\n",
    "# Print the top 1000 over-predicted and under-predicted samples\n",
    "print(\"Top 1000 Over-predicted Samples original:\")\n",
    "print(top_1000_over_predicted_samples_original)\n",
    "print(\"\\nTop 1000 Under-predicted Samples original:\")\n",
    "print(top_1000_under_predicted_samples_original)"
   ]
  },
  {
   "cell_type": "code",
   "execution_count": null,
   "id": "70885965-bc60-42fa-88fe-352964346147",
   "metadata": {},
   "outputs": [],
   "source": [
    "explainer = shap.TreeExplainer(best_model)\n",
    "\n",
    "# Calculate SHAP values for top over-predicted and under-predicted samples\n",
    "shap_values_over_predicted = explainer(top_1000_over_predicted_samples)\n",
    "shap_values_under_predicted = explainer(top_1000_under_predicted_samples)"
   ]
  },
  {
   "cell_type": "code",
   "execution_count": null,
   "id": "3d0bd389-1f0e-4596-95f6-1b986e55273c",
   "metadata": {},
   "outputs": [],
   "source": [
    "shap.summary_plot(shap_values_over_predicted, features=top_1000_over_predicted_samples, title=\"SHAP Summary Plot - Top Over-predicted Samples\")"
   ]
  },
  {
   "cell_type": "code",
   "execution_count": null,
   "id": "813a2262-3e54-456c-bc59-2b5c591278f1",
   "metadata": {},
   "outputs": [],
   "source": [
    "shap.plots.bar(shap_values_over_predicted)"
   ]
  },
  {
   "cell_type": "code",
   "execution_count": null,
   "id": "157bdb5c-eb80-43ad-ba72-c5f126917567",
   "metadata": {
    "scrolled": true
   },
   "outputs": [],
   "source": [
    "# Count the occurrences of each source in the top 1000 over-predicted samples\n",
    "over_pred_source_counts = top_1000_over_predicted_samples['Class'].value_counts()\n",
    "under_pred_source_counts = top_1000_under_predicted_samples['Class'].value_counts()\n",
    "\n",
    "print(\"Counts of sources in the top 1000 over-predicted samples:\")\n",
    "print(over_pred_source_counts)\n",
    "\n",
    "print(\"Counts of sources in the top 1000 under-predicted samples:\")\n",
    "print(under_pred_source_counts)"
   ]
  },
  {
   "cell_type": "code",
   "execution_count": null,
   "id": "86bc568b-2254-464c-9d6d-6ff84ec9f46f",
   "metadata": {},
   "outputs": [],
   "source": [
    "#maybe add embadding with vector\n",
    "print(dtf['Duration_in_hours'])\n",
    "print(max(dtf['Duration_in_hours']))"
   ]
  },
  {
   "cell_type": "code",
   "execution_count": 69,
   "id": "807df32a-b9e1-4841-aea6-4f21ada7cb72",
   "metadata": {},
   "outputs": [],
   "source": [
    "import tensorflow as tf\n",
    "import keras\n",
    "from sklearn import metrics, preprocessing\n",
    "from tensorflow.keras import layers, utils, callbacks, optimizers\n",
    "from tensorflow.keras.models import Model, load_model\n",
    "from sklearn.model_selection import StratifiedKFold"
   ]
  },
  {
   "cell_type": "code",
   "execution_count": null,
   "id": "a3b18792-48bd-4b9f-bc5d-d7d39b59915d",
   "metadata": {},
   "outputs": [],
   "source": [
    "# features = [f for f in original_dtf.columns if f not in ['Duration_in_hours','Days_left','Advance_days','Date_of_journey', 'Fare']]\n",
    "# print(features)"
   ]
  },
  {
   "cell_type": "code",
   "execution_count": null,
   "id": "db44a0c0-1b0d-4fe4-9614-1f540c702f55",
   "metadata": {},
   "outputs": [],
   "source": [
    "# original_dtf_copy = original_dtf.copy()\n",
    "\n",
    "# # Convert the dates to numeric values representing elapsed time in days\n",
    "# original_dtf_copy['Date_of_journey_numeric'] = (original_dtf_copy['Date_of_journey'] - min_date).dt.total_seconds() / (24 * 60 * 60)  # Convert seconds to days\n",
    "# original_dtf_copy=original_dtf_copy.drop(columns=['Date_of_journey'])\n",
    "\n",
    "# for f in features:\n",
    "#     lbl_enc= preprocessing.LabelEncoder()\n",
    "#     original_dtf_copy.loc[:,f]=lbl_enc.fit_transform(original_dtf_copy[f].astype(str).fillna(\"-1\").values)"
   ]
  },
  {
   "cell_type": "code",
   "execution_count": null,
   "id": "e52d54c9-f95c-492e-aee9-00a3b4ed9d3f",
   "metadata": {},
   "outputs": [],
   "source": [
    "# X = original_dtf_copy.drop(columns = 'Fare')\n",
    "# # Our outcome variable\n",
    "# y = original_dtf_copy.Fare\n",
    "\n",
    "# X_train, X_test, y_train, y_test = train_test_split(X,y, test_size=0.2, stratify=original_dtf_copy[\"Journey_day\"], random_state=42, shuffle = True)"
   ]
  },
  {
   "cell_type": "code",
   "execution_count": null,
   "id": "d4b85297-ef09-4d7b-886d-a840f884809e",
   "metadata": {},
   "outputs": [],
   "source": [
    "# # train = original_dtf_copy[original_dtf_copy.iloc[:, -1] != -1].reset_index(drop=True)\n",
    "# # test = original_dtf_copy[original_dtf_copy.iloc[:, -1]].reset_index(drop=True)\n",
    "# # test_data = [test.loc[:, features].values[:, k] for k in range(test.loc[:, features].values.shape[1])]\n",
    "# # print(test.shape)\n",
    "# X_train, X_test, y_train, y_test = train_test_split(train[features], train['Fare'], test_size=0.2, stratify=train[\"Journey_day\"], random_state=42, shuffle=True)\n",
    "# print(X_train.shape[0])"
   ]
  },
  {
   "cell_type": "code",
   "execution_count": null,
   "id": "8e83cd60-fa4a-4a76-ad1b-37f2a587cea7",
   "metadata": {},
   "outputs": [],
   "source": [
    "# def create_model(data, categorical_cols):    \n",
    "#     inputs = []\n",
    "#     outputs = []\n",
    "#     for c in categorical_cols:\n",
    "#         num_unique_values = int(data[c].nunique())\n",
    "#         embed_dim = int(min(np.ceil((num_unique_values)/2), 50))\n",
    "#         inp = layers.Input(shape=(1,))\n",
    "#         out = layers.Embedding(num_unique_values + 1, embed_dim, name=c)(inp)\n",
    "#         out = layers.SpatialDropout1D(0.3)(out)\n",
    "#         out = layers.Reshape(target_shape=(embed_dim, ))(out)\n",
    "#         inputs.append(inp)\n",
    "#         outputs.append(out)\n",
    "    \n",
    "#     x = layers.Concatenate()(outputs)\n",
    "#     x = layers.BatchNormalization()(x)\n",
    "    \n",
    "#     x = layers.Dense(300, activation=\"relu\")(x)\n",
    "#     x = layers.Dropout(0.3)(x)\n",
    "#     x = layers.BatchNormalization()(x)\n",
    "    \n",
    "#     x = layers.Dense(300, activation=\"relu\")(x)\n",
    "#     x = layers.Dropout(0.3)(x)\n",
    "#     x = layers.BatchNormalization()(x)\n",
    "    \n",
    "#     y = layers.Dense(2, activation=\"softmax\")(x)\n",
    "\n",
    "#     model = Model(inputs=inputs, outputs=y)\n",
    "#     return model"
   ]
  },
  {
   "cell_type": "code",
   "execution_count": null,
   "id": "cbb7bded-529d-4cca-9070-84253906ff2e",
   "metadata": {},
   "outputs": [],
   "source": [
    "# oof_preds = np.zeros(X_train.shape[0])\n",
    "# test_preds = np.zeros(X_test.shape[0])\n",
    "\n",
    "# skf = StratifiedKFold(n_splits=50)\n",
    "# for train_index, test_index in skf.split(X_train, X_train.target.values):\n",
    "#     X_train, X_test = train.iloc[train_index, :], train.iloc[test_index, :]\n",
    "#     X_train = X_train.reset_index(drop=True)\n",
    "#     X_test = X_test.reset_index(drop=True)\n",
    "#     y_train, y_test = X_train.iloc[:, -1], X_test.iloc[:, -1]\n",
    "#     model = create_model(X_train,features)\n",
    "#     model.compile(loss='binary_crossentropy', optimizer='adam', metrics=[auc])\n",
    "#     X_train = [X_train.loc[:, features].values[:, k] for k in range(X_train.loc[:, features].values.shape[1])]\n",
    "#     X_test = [X_test.loc[:, features].values[:, k] for k in range(X_test.loc[:, features].values.shape[1])]\n",
    "    \n",
    "#     es = callbacks.EarlyStopping(monitor='val_auc', min_delta=0.001, patience=5,\n",
    "#                                  verbose=1, mode='max', baseline=None, restore_best_weights=True)\n",
    "\n",
    "#     rlr = callbacks.ReduceLROnPlateau(monitor='val_auc', factor=0.5,\n",
    "#                                       patience=3, min_lr=1e-6, mode='max', verbose=1)\n",
    "    \n",
    "#     model.fit(X_train,\n",
    "#               utils.to_categorical(y_train),\n",
    "#               validation_data=(X_test, utils.to_categorical(y_test)),\n",
    "#               verbose=1,\n",
    "#               batch_size=1024,\n",
    "#               callbacks=[es, rlr],\n",
    "#               epochs=100\n",
    "#              )\n",
    "#     valid_fold_preds = model.predict(X_test)[:, 1]\n",
    "#     test_fold_preds = model.predict(test_data)[:, 1]\n",
    "#     oof_preds[test_index] = valid_fold_preds.ravel()\n",
    "#     test_preds += test_fold_preds.ravel()\n",
    "#     print(metrics.roc_auc_score(y_test, valid_fold_preds))\n",
    "#     K.clear_session()"
   ]
  },
  {
   "cell_type": "code",
   "execution_count": null,
   "id": "d6f5b759-326f-40d7-9741-88addb0f17fa",
   "metadata": {},
   "outputs": [],
   "source": [
    "# model = create_model(X_train,features)\n",
    "# model.summary()"
   ]
  },
  {
   "cell_type": "code",
   "execution_count": null,
   "id": "011c111c-27fc-4845-8f09-de040ae5c94e",
   "metadata": {},
   "outputs": [],
   "source": [
    "# model.compile(loss='binary_crossentropy', optimizer='adam')\n",
    "# X_train = [X_train.loc[:, features].values[:, k] for k in range(X_train.loc[:, features].values.shape[1])]\n",
    "# X_test = [X_test.loc[:, features].values[:, k] for k in range(X_test.loc[:, features].values.shape[1])]"
   ]
  },
  {
   "cell_type": "code",
   "execution_count": null,
   "id": "470377a2-534c-4648-8546-a00826b5af1f",
   "metadata": {
    "scrolled": true
   },
   "outputs": [],
   "source": [
    "# model.fit([X_train.loc[:, f].values for f in features], utils.to_categorical(y_train))"
   ]
  },
  {
   "cell_type": "markdown",
   "id": "65c091e1-c81b-4a55-890e-08a979732273",
   "metadata": {},
   "source": [
    "# new try!"
   ]
  },
  {
   "cell_type": "code",
   "execution_count": 70,
   "id": "6acf1218-db6b-4bd0-af13-1ef0e765095f",
   "metadata": {},
   "outputs": [],
   "source": [
    "# # Data processing\n",
    "import pandas as pd\n",
    "import numpy as np\n",
    "from tensorflow.keras.layers import Input, Embedding, Reshape\n",
    "from tensorflow.keras.layers import Concatenate\n",
    "\n",
    "# # Train test split\n",
    "from sklearn.model_selection import train_test_split\n",
    "\n",
    "# Model\n",
    "from sklearn.ensemble import RandomForestRegressor\n",
    "\n",
    "# Visualization\n",
    "import seaborn as sns\n",
    "sns.set(rc={'figure.figsize':(12,8)}) # Set figure size\n",
    "import matplotlib.pyplot as plt\n",
    "\n",
    "# Visualize neural network model structure\n",
    "from keras.utils import plot_model\n",
    "from IPython.display import Image\n",
    "\n",
    "# Deep learning model\n",
    "from tensorflow.keras.layers import Input, Dense, Reshape, Concatenate, Embedding\n",
    "from tensorflow.keras.models import Model, load_model\n",
    "from keras.callbacks import EarlyStopping"
   ]
  },
  {
   "cell_type": "code",
   "execution_count": null,
   "id": "d073be95-36e0-4c75-870b-1abdf2706dc7",
   "metadata": {},
   "outputs": [],
   "source": [
    "original_dtf_copy = original_dtf.copy()\n",
    "original_dtf_copy = original_dtf_copy.drop(['Date_of_journey','Journey_day','Airline','Flight_code','Class','Source','Departure','Total_stops'], axis = 1)\n",
    "original_dtf_copy.head()"
   ]
  },
  {
   "cell_type": "code",
   "execution_count": null,
   "id": "77ab7f29-abab-488c-9bd6-71ff770e68ee",
   "metadata": {},
   "outputs": [],
   "source": [
    "X = original_dtf_copy.drop(['Fare'], axis = 1)\n",
    "y = original_dtf_copy['Fare']"
   ]
  },
  {
   "cell_type": "code",
   "execution_count": null,
   "id": "88e05eff-37d0-4e43-9234-63014961db13",
   "metadata": {},
   "outputs": [],
   "source": [
    "cols_to_keep = ['Destination', \n",
    "                'Class',\n",
    "                'Source','Airline']\n"
   ]
  },
  {
   "cell_type": "code",
   "execution_count": null,
   "id": "576809b4-f863-43b4-9933-216a9fee202b",
   "metadata": {},
   "outputs": [],
   "source": [
    "\n",
    "# Features\n",
    "X = original_dtf_copy.iloc[:, 1:].copy().drop('Fare', axis=1)\n",
    "\n",
    "# Target\n",
    "y = original_dtf_copy['Fare']\n",
    "\n",
    "# Train test split\n",
    "X_train, X_test, y_train, y_test = train_test_split(X, y, test_size = 0.2, random_state=42)\n",
    "print(X_train.columns)\n",
    "\n",
    "# Check the number of records in training and testing dataset.\n",
    "print(f'The training dataset has {X_train.shape[0]} records and {X_train.shape[1]} columns.')\n",
    "print(f'The testing dataset has {len(X_test)} records.')"
   ]
  },
  {
   "cell_type": "code",
   "execution_count": null,
   "id": "bd74fc70-83a7-4ec8-bcde-610cc2bc740d",
   "metadata": {},
   "outputs": [],
   "source": [
    "# Input list for the training data\n",
    "input_list_train = []\n",
    "\n",
    "# Input list for the testing data\n",
    "input_list_test = []\n",
    "\n",
    "# Categorical encoder is in dictionary format\n",
    "cat_encoder = {}\n",
    "\n",
    "# Unique values for the categorical variable\n",
    "unique_cat = np.unique(X_train['Destination'])\n",
    "\n",
    "# Print out the number of unique values in the categorical variable\n",
    "print(f'There are {len(unique_cat)} unique Destination in the training dataset.\\n')\n",
    "\n",
    "# Encode the categorical variable\n",
    "for i in range(len(unique_cat)):\n",
    "  cat_encoder[unique_cat[i]] = i\n",
    "\n",
    "# Take a look at the encoder\n",
    "cat_encoder"
   ]
  },
  {
   "cell_type": "code",
   "execution_count": null,
   "id": "86f4b53f-0584-40cc-a7d1-40f13c4f758a",
   "metadata": {},
   "outputs": [],
   "source": [
    "# Append the values to the input list\n",
    "input_list_train.append(X_train['Destination'].map(cat_encoder).values)\n",
    "input_list_test.append(X_test['Destination'].map(cat_encoder).values)\n",
    "\n",
    "# Take a look at the data\n",
    "print('input_list_train:', input_list_train)\n",
    "print('input_list_test:', input_list_test)"
   ]
  },
  {
   "cell_type": "code",
   "execution_count": null,
   "id": "7e1ab033-dae8-4bdc-9485-eb8049a1c07c",
   "metadata": {},
   "outputs": [],
   "source": [
    "# Number of unique values in the categorical col\n",
    "n_unique_cat = len(unique_cat)\n",
    "\n",
    "# Input dimension of the categorical variable\n",
    "input_cat = Input(shape=(1,))\n",
    "\n",
    "# Output dimension of the categorical entity embedding\n",
    "cat_emb_dim = 5\n",
    "\n",
    "# Embedding layer\n",
    "emb_cat = Embedding(input_dim=n_unique_cat, output_dim=cat_emb_dim, name=\"embedding_cat\")(input_cat)\n",
    "# Check the output shape\n",
    "print(emb_cat)\n",
    "\n",
    "# Reshape\n",
    "emb_cat = Reshape(target_shape=(cat_emb_dim, ))(emb_cat)\n",
    "# Check the output shape\n",
    "print(emb_cat)"
   ]
  },
  {
   "cell_type": "code",
   "execution_count": null,
   "id": "e05df101-7e10-4eca-968a-2e136f297ee7",
   "metadata": {},
   "outputs": [],
   "source": [
    "# Feature columns\n",
    "X_train.columns"
   ]
  },
  {
   "cell_type": "code",
   "execution_count": null,
   "id": "eccd34c3-8a0c-4223-8b67-61b43d382ec4",
   "metadata": {},
   "outputs": [],
   "source": [
    "# List of numerical columns\n",
    "numeric_cols = ['Duration_in_hours', 'Advance_days',\n",
    "       'Month']\n",
    "\n",
    "# Append numerical values to the training and testing list\n",
    "input_list_train.append(X_train[numeric_cols].values)\n",
    "input_list_test.append(X_test[numeric_cols].values)\n",
    "\n",
    "#n Take a look at the data\n",
    "print('input_list_train:', input_list_train)\n",
    "print('input_list_test:', input_list_test)"
   ]
  },
  {
   "cell_type": "code",
   "execution_count": null,
   "id": "b5b32a84-ebb6-4f87-b633-7ff13a8614e2",
   "metadata": {},
   "outputs": [],
   "source": [
    "# Input dimension of the numeric variables\n",
    "input_numeric = Input(shape=(len(numeric_cols),))\n",
    "\n",
    "# Output dimension of the numeric variables\n",
    "emb_numeric = input_numeric\n",
    "\n",
    "# Take a look at the output dimension\n",
    "emb_numeric"
   ]
  },
  {
   "cell_type": "code",
   "execution_count": null,
   "id": "1f98f4a0-820b-4578-a23c-e3edec736c69",
   "metadata": {},
   "outputs": [],
   "source": [
    "# Input data dimensions\n",
    "input_data = [input_cat, input_numeric]\n",
    "\n",
    "# Take a look at the data\n",
    "input_data"
   ]
  },
  {
   "cell_type": "code",
   "execution_count": null,
   "id": "53713d06-7c36-42a4-a249-833f19dc6f34",
   "metadata": {},
   "outputs": [],
   "source": [
    "# Embedding dimensions\n",
    "emb_data = [emb_cat, emb_numeric]\n",
    "\n",
    "# Take a look at the data\n",
    "emb_data"
   ]
  },
  {
   "cell_type": "code",
   "execution_count": null,
   "id": "a9d58996-3197-4685-a49f-ba14a977fb12",
   "metadata": {},
   "outputs": [],
   "source": [
    "# Concatenate layer concatenates a list of inputs\n",
    "model_data = Concatenate()(emb_data)\n",
    "model_data"
   ]
  },
  {
   "cell_type": "code",
   "execution_count": null,
   "id": "71fd65fc-2595-4924-857e-57878bc5980e",
   "metadata": {},
   "outputs": [],
   "source": [
    "# Dense layer with 10 neurons and relu activation function\n",
    "model = Dense(10, activation = 'relu')(model_data)\n",
    "# Dense layer with 5 neurons and relu activation function\n",
    "model = Dense(5, activation = 'relu')(model)\n",
    "# Dense layer with 2 neurons and relu activation function\n",
    "model = Dense(2, activation = 'relu')(model)\n",
    "# Output is linear\n",
    "outputs = Dense(1, activation = 'linear')(model)\n",
    "\n",
    "# Use Model to group layers into an object with training and inference features\n",
    "nn = Model(inputs=input_data, outputs=outputs, name ='Entity_embedding_model_keras')\n",
    "\n",
    "# Print out the model summary\n",
    "nn.summary()"
   ]
  },
  {
   "cell_type": "code",
   "execution_count": null,
   "id": "9b7b1af7-4289-4ebf-a8a9-47b65a8781d9",
   "metadata": {},
   "outputs": [],
   "source": [
    "# Compile model\n",
    "nn.compile(loss='mean_squared_error', optimizer='adam', metrics=['mae'])\n",
    "\n",
    "# Set up early stopping\n",
    "es = EarlyStopping(monitor='val_loss', \n",
    "                   mode='min', \n",
    "                   verbose=1, \n",
    "                   patience=50,\n",
    "                   restore_best_weights=True)\n",
    "\n",
    "# Fit the model\n",
    "history  =  nn.fit(input_list_train,\n",
    "                   y_train, \n",
    "                   validation_data=(input_list_test, y_test), \n",
    "                   epochs=5, \n",
    "                   batch_size=64, \n",
    "                   verbose=1, \n",
    "                   callbacks=[es])"
   ]
  },
  {
   "cell_type": "code",
   "execution_count": null,
   "id": "eabe009c-1fda-4aaf-a015-77f7795d3383",
   "metadata": {},
   "outputs": [],
   "source": [
    "# summarize history for loss\n",
    "plt.plot(history.history['loss'])\n",
    "plt.plot(history.history['val_loss'])\n",
    "plt.title('loss')\n",
    "plt.ylabel('loss')\n",
    "plt.xlabel('epoch')\n",
    "plt.legend(['train', 'val'], loc='upper right')"
   ]
  },
  {
   "cell_type": "code",
   "execution_count": null,
   "id": "21d4e33c-50aa-425f-88b2-dac02f769092",
   "metadata": {},
   "outputs": [],
   "source": [
    "# summarize history for mae\n",
    "plt.plot(history.history['mae'])\n",
    "plt.plot(history.history['val_mae'])\n",
    "plt.title('Mean Absolute Error (MAE)')\n",
    "plt.ylabel('Mean Absolute Error (MAE)')\n",
    "plt.xlabel('epoch')\n",
    "plt.legend(['train', 'val'], loc='lower right')\n",
    "plt.show()"
   ]
  },
  {
   "cell_type": "code",
   "execution_count": null,
   "id": "3abfa4a3-c7d3-4e5a-8b44-5e2f5908cea2",
   "metadata": {},
   "outputs": [],
   "source": [
    "# Make prediction\n",
    "y_test_predict = nn.predict(input_list_test)\n",
    "\n",
    "# Change the predictions from 2-d to 1-d\n",
    "y_test_predict = y_test_predict.flatten()\n",
    "\n",
    "# Visualization\n",
    "ax = sns.scatterplot(y_test, y_test_predict)"
   ]
  },
  {
   "cell_type": "code",
   "execution_count": null,
   "id": "daa4f832-46c3-4aa8-bcbe-a1f8bbd7ac4d",
   "metadata": {},
   "outputs": [],
   "source": [
    "# Calculate model error\n",
    "model_error = y_test - y_test_predict\n",
    "\n",
    "# Mean squared error\n",
    "MSE = np.mean(model_error**2)\n",
    "# Root mean squared error\n",
    "RMSE = np.sqrt(MSE)\n",
    "# Mean absolute error\n",
    "MAE = np.mean(abs(model_error))\n",
    "# R squared\n",
    "R2 = 1- sum(model_error**2)/sum((y_test-np.mean(y_test))**2)\n",
    "# Mean absolute percentage error\n",
    "MAPE = np.mean(abs(model_error/y_test))\n",
    "\n",
    "print(f'The MSE for the model is {MSE:.2f}')\n",
    "print(f'The RMSE for the model is {RMSE:.2f}.')\n",
    "print(f'The MAE for the model is {MAE:.2f}.')\n",
    "print(f'The R-squared for the model is {R2:.2f}.')\n",
    "print(f'The MAPE for the model is {MAPE:.2f}.')"
   ]
  },
  {
   "cell_type": "code",
   "execution_count": null,
   "id": "49e4de8d-95d8-4cc4-b2cc-dcea87ed8d6c",
   "metadata": {},
   "outputs": [],
   "source": [
    "# Import library\n",
    "from sklearn.metrics import r2_score, mean_absolute_error, mean_squared_error, mean_absolute_percentage_error \n",
    "\n",
    "# Mean squared error\n",
    "MSE = mean_squared_error(y_test, y_test_predict)\n",
    "# Root mean squared error\n",
    "RMSE = np.sqrt(MSE)\n",
    "# Mean absolute error\n",
    "MAE = mean_absolute_error(y_test, y_test_predict)\n",
    "\n",
    "R2 = r2_score(y_test, y_test_predict)\n",
    "MAPE = mean_absolute_percentage_error(y_test, y_test_predict)\n",
    "\n",
    "print(f'The MSE for the model is {MSE:.2f}')\n",
    "print(f'The RMSE for the model is {RMSE:.2f}.')\n",
    "print(f'The MAE for the model is {MAE:.2f}.')\n",
    "print(f'The R-squared for the model is {R2:.2f}.')\n",
    "print(f'The MAPE for the model is {MAPE:.2f}.')"
   ]
  },
  {
   "cell_type": "markdown",
   "id": "0a390249-26c6-4cdf-a5bb-06ea69f22fcc",
   "metadata": {},
   "source": [
    "# Another try"
   ]
  },
  {
   "cell_type": "code",
   "execution_count": 71,
   "id": "2d929f66-bbef-44ad-a489-b134fc6d73ee",
   "metadata": {},
   "outputs": [
    {
     "name": "stdout",
     "output_type": "stream",
     "text": [
      "['Duration_in_hours', 'Advance_days', 'Date_of_journey', 'Journey_day', 'Airline', 'Flight_code', 'Class', 'Source', 'Departure', 'Total_stops', 'Arrival', 'Destination', 'Month']\n",
      "        Date_of_journey Journey_day Airline Flight_code Class Source  \\\n",
      "0                   0.0           1       6        1209     1      3   \n",
      "1                   0.0           1       5         164     1      3   \n",
      "2                   0.0           1       4         942     1      3   \n",
      "3                   0.0           1       6        1224     1      3   \n",
      "4                   0.0           1       0         852     1      3   \n",
      "...                 ...         ...     ...         ...   ...    ...   \n",
      "452081             49.0           1       8        1358     0      0   \n",
      "452082             49.0           1       8        1374     0      0   \n",
      "452083             49.0           1       8        1360     0      0   \n",
      "452084             49.0           1       8        1358     0      0   \n",
      "452086             49.0           1       8        1374     0      0   \n",
      "\n",
      "       Departure Total_stops Arrival Destination  Duration_in_hours  \\\n",
      "0              2           2       2           6             2.0833   \n",
      "1              2           2       0           6             2.3333   \n",
      "2              2           2       0           6             2.1667   \n",
      "3              2           2       2           6             2.0833   \n",
      "4              2           2       2           6             2.1667   \n",
      "...          ...         ...     ...         ...                ...   \n",
      "452081         0           0       3           2            11.2500   \n",
      "452082         1           0       2           2            11.1667   \n",
      "452083         1           0       2           2            13.0833   \n",
      "452084         0           0       3           2            11.2500   \n",
      "452086         1           0       2           2            11.1667   \n",
      "\n",
      "        Advance_days   Fare  Month  \n",
      "0                  1   5335      0  \n",
      "1                  1   5899      0  \n",
      "2                  1   5801      0  \n",
      "3                  1   5794      0  \n",
      "4                  1   5955      0  \n",
      "...              ...    ...    ...  \n",
      "452081            50  61302      2  \n",
      "452082            50  65028      2  \n",
      "452083            50  65028      2  \n",
      "452084            50  69254      2  \n",
      "452086            50  72980      2  \n",
      "\n",
      "[445366 rows x 14 columns]\n"
     ]
    }
   ],
   "source": [
    "original_dtf_copy = original_dtf.copy()\n",
    "\n",
    "# Calculate the number of days since the minimum date\n",
    "min_date = original_dtf_copy['Date_of_journey'].min()\n",
    "original_dtf_copy['Date_of_journey'] = (original_dtf_copy['Date_of_journey'] - min_date).dt.total_seconds() / (24 * 60 * 60)  # Convert seconds to days\n",
    "\n",
    "numeric_features = ['Duration_in_hours','Advance_days','Date_of_journey', 'Fare']\n",
    "categorical_features = [f for f in original_dtf.columns if f not in numeric_features]\n",
    "\n",
    "features = [feature for feature in numeric_features + categorical_features if feature != 'Fare']\n",
    "print(features)\n",
    "\n",
    "for f in categorical_features:\n",
    "    lbl_enc= preprocessing.LabelEncoder()\n",
    "    original_dtf_copy.loc[:,f]=lbl_enc.fit_transform(original_dtf_copy[f].astype(str).fillna(\"-1\").values)\n",
    "\n",
    "print(original_dtf_copy)\n",
    "\n"
   ]
  },
  {
   "cell_type": "code",
   "execution_count": 72,
   "id": "dacb6182-fd5e-4cce-b0b2-057bc480122e",
   "metadata": {},
   "outputs": [],
   "source": [
    "X = original_dtf_copy.iloc[:, 0:].copy().drop('Fare', axis=1)\n",
    "y = original_dtf_copy['Fare']\n",
    "\n",
    "# Split to tarin and test\n",
    "X_train, X_test, y_train, y_test = train_test_split(X, y, test_size=0.2, stratify=original_dtf_copy[\"Journey_day\"], random_state=42, shuffle=True)\n",
    "\n",
    "# Input list for the training data\n",
    "input_list_train = []\n",
    "for c in categorical_features:\n",
    "    input_list_train.append(X_train[c].values)\n",
    "\n",
    "\n",
    "\n",
    "# Input list for the testing data\n",
    "input_list_test = []\n",
    "for c in categorical_features:\n",
    "    input_list_test.append(X_test[c].values)\n",
    "\n",
    "# Append numerical values to the training and testing list\n",
    "numeric_cols = ['Duration_in_hours','Advance_days','Date_of_journey']\n",
    "\n",
    "input_list_train.append(X_train[numeric_cols].values)\n",
    "input_list_test.append(X_test[numeric_cols].values)\n",
    "\n",
    "#from sklearn.preprocessing import StandardScaler\n",
    "# sc = StandardScaler()\n",
    "# X_train = sc.fit_transform(X_train)\n",
    "# X_test = sc.transform(X_test)\n",
    "# X_train \n",
    "\n",
    "# # Check the number of records in training and testing dataset.\n",
    "# print(f'The training dataset has {X_train.shape[0]} records and {X_train.shape[1]} columns.')\n",
    "# print(f'The testing dataset has {len(X_test)} records.')"
   ]
  },
  {
   "cell_type": "code",
   "execution_count": 80,
   "id": "da9e8b7e-23a1-4a45-9960-1f934c98f443",
   "metadata": {},
   "outputs": [
    {
     "data": {
      "text/plain": [
       "[<KerasTensor shape=(None, 1), dtype=float32, sparse=None, name=Journey_day>,\n",
       " <KerasTensor shape=(None, 1), dtype=float32, sparse=None, name=Airline>,\n",
       " <KerasTensor shape=(None, 1), dtype=float32, sparse=None, name=Flight_code>,\n",
       " <KerasTensor shape=(None, 1), dtype=float32, sparse=None, name=Class>,\n",
       " <KerasTensor shape=(None, 1), dtype=float32, sparse=None, name=Source>,\n",
       " <KerasTensor shape=(None, 1), dtype=float32, sparse=None, name=Departure>,\n",
       " <KerasTensor shape=(None, 1), dtype=float32, sparse=None, name=Total_stops>,\n",
       " <KerasTensor shape=(None, 1), dtype=float32, sparse=None, name=Arrival>,\n",
       " <KerasTensor shape=(None, 1), dtype=float32, sparse=None, name=Destination>,\n",
       " <KerasTensor shape=(None, 1), dtype=float32, sparse=None, name=Month>,\n",
       " <KerasTensor shape=(None, 4), dtype=float32, sparse=None, name=numeric_input>]"
      ]
     },
     "execution_count": 80,
     "metadata": {},
     "output_type": "execute_result"
    }
   ],
   "source": [
    "from tensorflow.keras.layers import Input, Embedding, Reshape, Concatenate\n",
    " \n",
    "# Define the categorical columns and their corresponding embedding dimensions\n",
    "categorical_cols = categorical_features\n",
    "cat_emb_dims = [5, 5, 5, 5, 5, 5, 5, 5, 5, 5]  # Assuming all have the same embedding dimension\n",
    " \n",
    "# Define the input layers for categorical columns\n",
    "input_cat = [Input(shape=(1,), name=col) for col in categorical_cols]\n",
    "\n",
    "n_unique_cat = [X_train[col].nunique() for col in categorical_cols]\n",
    "\n",
    "# Create embedding layers for each categorical column\n",
    "emb_cat = [Embedding(input_dim=len(n_unique_cat), output_dim=cat_emb_dim, name=f\"embedding_{col}\")(input_cat[i]) for i, (col, cat_emb_dim) in enumerate(zip(categorical_cols, cat_emb_dims))]\n",
    " \n",
    "# Reshape the embedding layers\n",
    "emb_cat_reshaped = [Reshape(target_shape=(cat_emb_dims[i],))(emb_cat[i]) for i in range(len(categorical_cols))]\n",
    " \n",
    "# Concatenate the reshaped embedding layers\n",
    "concatenated_emb_cat = Concatenate()(emb_cat_reshaped)\n",
    " \n",
    "# List of numerical columns\n",
    "numeric_cols = numeric_features\n",
    " \n",
    "# Define the input layer for numerical columns\n",
    "input_numeric = Input(shape=(len(numeric_cols),), name='numeric_input')\n",
    " \n",
    "# Concatenate the numerical input with concatenated embedding layers\n",
    "concatenated_input = Concatenate()([concatenated_emb_cat, input_numeric])\n",
    " \n",
    "# Now you have the concatenated input for the model\n",
    "#model_input = [input_cat, input_numeric]\n",
    "model_data = concatenated_input\n",
    "\n",
    "model_input = input_cat + [input_numeric]\n",
    "model_input"
   ]
  },
  {
   "cell_type": "code",
   "execution_count": 81,
   "id": "c975ab57-7307-45fe-9c69-3d9af45bc146",
   "metadata": {},
   "outputs": [
    {
     "data": {
      "text/html": [
       "<pre style=\"white-space:pre;overflow-x:auto;line-height:normal;font-family:Menlo,'DejaVu Sans Mono',consolas,'Courier New',monospace\"><span style=\"font-weight: bold\">Model: \"Entity_embedding_model_keras\"</span>\n",
       "</pre>\n"
      ],
      "text/plain": [
       "\u001b[1mModel: \"Entity_embedding_model_keras\"\u001b[0m\n"
      ]
     },
     "metadata": {},
     "output_type": "display_data"
    },
    {
     "data": {
      "text/html": [
       "<pre style=\"white-space:pre;overflow-x:auto;line-height:normal;font-family:Menlo,'DejaVu Sans Mono',consolas,'Courier New',monospace\">┏━━━━━━━━━━━━━━━━━━━━━━━━━━━━━━━┳━━━━━━━━━━━━━━━━━━━━━━━━━━━┳━━━━━━━━━━━━━━━━━┳━━━━━━━━━━━━━━━━━━━━━━━━━━━━┓\n",
       "┃<span style=\"font-weight: bold\"> Layer (type)                  </span>┃<span style=\"font-weight: bold\"> Output Shape              </span>┃<span style=\"font-weight: bold\">         Param # </span>┃<span style=\"font-weight: bold\"> Connected to               </span>┃\n",
       "┡━━━━━━━━━━━━━━━━━━━━━━━━━━━━━━━╇━━━━━━━━━━━━━━━━━━━━━━━━━━━╇━━━━━━━━━━━━━━━━━╇━━━━━━━━━━━━━━━━━━━━━━━━━━━━┩\n",
       "│ Journey_day (<span style=\"color: #0087ff; text-decoration-color: #0087ff\">InputLayer</span>)      │ (<span style=\"color: #00d7ff; text-decoration-color: #00d7ff\">None</span>, <span style=\"color: #00af00; text-decoration-color: #00af00\">1</span>)                 │               <span style=\"color: #00af00; text-decoration-color: #00af00\">0</span> │ -                          │\n",
       "├───────────────────────────────┼───────────────────────────┼─────────────────┼────────────────────────────┤\n",
       "│ Airline (<span style=\"color: #0087ff; text-decoration-color: #0087ff\">InputLayer</span>)          │ (<span style=\"color: #00d7ff; text-decoration-color: #00d7ff\">None</span>, <span style=\"color: #00af00; text-decoration-color: #00af00\">1</span>)                 │               <span style=\"color: #00af00; text-decoration-color: #00af00\">0</span> │ -                          │\n",
       "├───────────────────────────────┼───────────────────────────┼─────────────────┼────────────────────────────┤\n",
       "│ Flight_code (<span style=\"color: #0087ff; text-decoration-color: #0087ff\">InputLayer</span>)      │ (<span style=\"color: #00d7ff; text-decoration-color: #00d7ff\">None</span>, <span style=\"color: #00af00; text-decoration-color: #00af00\">1</span>)                 │               <span style=\"color: #00af00; text-decoration-color: #00af00\">0</span> │ -                          │\n",
       "├───────────────────────────────┼───────────────────────────┼─────────────────┼────────────────────────────┤\n",
       "│ Class (<span style=\"color: #0087ff; text-decoration-color: #0087ff\">InputLayer</span>)            │ (<span style=\"color: #00d7ff; text-decoration-color: #00d7ff\">None</span>, <span style=\"color: #00af00; text-decoration-color: #00af00\">1</span>)                 │               <span style=\"color: #00af00; text-decoration-color: #00af00\">0</span> │ -                          │\n",
       "├───────────────────────────────┼───────────────────────────┼─────────────────┼────────────────────────────┤\n",
       "│ Source (<span style=\"color: #0087ff; text-decoration-color: #0087ff\">InputLayer</span>)           │ (<span style=\"color: #00d7ff; text-decoration-color: #00d7ff\">None</span>, <span style=\"color: #00af00; text-decoration-color: #00af00\">1</span>)                 │               <span style=\"color: #00af00; text-decoration-color: #00af00\">0</span> │ -                          │\n",
       "├───────────────────────────────┼───────────────────────────┼─────────────────┼────────────────────────────┤\n",
       "│ Departure (<span style=\"color: #0087ff; text-decoration-color: #0087ff\">InputLayer</span>)        │ (<span style=\"color: #00d7ff; text-decoration-color: #00d7ff\">None</span>, <span style=\"color: #00af00; text-decoration-color: #00af00\">1</span>)                 │               <span style=\"color: #00af00; text-decoration-color: #00af00\">0</span> │ -                          │\n",
       "├───────────────────────────────┼───────────────────────────┼─────────────────┼────────────────────────────┤\n",
       "│ Total_stops (<span style=\"color: #0087ff; text-decoration-color: #0087ff\">InputLayer</span>)      │ (<span style=\"color: #00d7ff; text-decoration-color: #00d7ff\">None</span>, <span style=\"color: #00af00; text-decoration-color: #00af00\">1</span>)                 │               <span style=\"color: #00af00; text-decoration-color: #00af00\">0</span> │ -                          │\n",
       "├───────────────────────────────┼───────────────────────────┼─────────────────┼────────────────────────────┤\n",
       "│ Arrival (<span style=\"color: #0087ff; text-decoration-color: #0087ff\">InputLayer</span>)          │ (<span style=\"color: #00d7ff; text-decoration-color: #00d7ff\">None</span>, <span style=\"color: #00af00; text-decoration-color: #00af00\">1</span>)                 │               <span style=\"color: #00af00; text-decoration-color: #00af00\">0</span> │ -                          │\n",
       "├───────────────────────────────┼───────────────────────────┼─────────────────┼────────────────────────────┤\n",
       "│ Destination (<span style=\"color: #0087ff; text-decoration-color: #0087ff\">InputLayer</span>)      │ (<span style=\"color: #00d7ff; text-decoration-color: #00d7ff\">None</span>, <span style=\"color: #00af00; text-decoration-color: #00af00\">1</span>)                 │               <span style=\"color: #00af00; text-decoration-color: #00af00\">0</span> │ -                          │\n",
       "├───────────────────────────────┼───────────────────────────┼─────────────────┼────────────────────────────┤\n",
       "│ Month (<span style=\"color: #0087ff; text-decoration-color: #0087ff\">InputLayer</span>)            │ (<span style=\"color: #00d7ff; text-decoration-color: #00d7ff\">None</span>, <span style=\"color: #00af00; text-decoration-color: #00af00\">1</span>)                 │               <span style=\"color: #00af00; text-decoration-color: #00af00\">0</span> │ -                          │\n",
       "├───────────────────────────────┼───────────────────────────┼─────────────────┼────────────────────────────┤\n",
       "│ embedding_Journey_day         │ (<span style=\"color: #00d7ff; text-decoration-color: #00d7ff\">None</span>, <span style=\"color: #00af00; text-decoration-color: #00af00\">1</span>, <span style=\"color: #00af00; text-decoration-color: #00af00\">5</span>)              │              <span style=\"color: #00af00; text-decoration-color: #00af00\">50</span> │ Journey_day[<span style=\"color: #00af00; text-decoration-color: #00af00\">0</span>][<span style=\"color: #00af00; text-decoration-color: #00af00\">0</span>]          │\n",
       "│ (<span style=\"color: #0087ff; text-decoration-color: #0087ff\">Embedding</span>)                   │                           │                 │                            │\n",
       "├───────────────────────────────┼───────────────────────────┼─────────────────┼────────────────────────────┤\n",
       "│ embedding_Airline (<span style=\"color: #0087ff; text-decoration-color: #0087ff\">Embedding</span>) │ (<span style=\"color: #00d7ff; text-decoration-color: #00d7ff\">None</span>, <span style=\"color: #00af00; text-decoration-color: #00af00\">1</span>, <span style=\"color: #00af00; text-decoration-color: #00af00\">5</span>)              │              <span style=\"color: #00af00; text-decoration-color: #00af00\">50</span> │ Airline[<span style=\"color: #00af00; text-decoration-color: #00af00\">0</span>][<span style=\"color: #00af00; text-decoration-color: #00af00\">0</span>]              │\n",
       "├───────────────────────────────┼───────────────────────────┼─────────────────┼────────────────────────────┤\n",
       "│ embedding_Flight_code         │ (<span style=\"color: #00d7ff; text-decoration-color: #00d7ff\">None</span>, <span style=\"color: #00af00; text-decoration-color: #00af00\">1</span>, <span style=\"color: #00af00; text-decoration-color: #00af00\">5</span>)              │              <span style=\"color: #00af00; text-decoration-color: #00af00\">50</span> │ Flight_code[<span style=\"color: #00af00; text-decoration-color: #00af00\">0</span>][<span style=\"color: #00af00; text-decoration-color: #00af00\">0</span>]          │\n",
       "│ (<span style=\"color: #0087ff; text-decoration-color: #0087ff\">Embedding</span>)                   │                           │                 │                            │\n",
       "├───────────────────────────────┼───────────────────────────┼─────────────────┼────────────────────────────┤\n",
       "│ embedding_Class (<span style=\"color: #0087ff; text-decoration-color: #0087ff\">Embedding</span>)   │ (<span style=\"color: #00d7ff; text-decoration-color: #00d7ff\">None</span>, <span style=\"color: #00af00; text-decoration-color: #00af00\">1</span>, <span style=\"color: #00af00; text-decoration-color: #00af00\">5</span>)              │              <span style=\"color: #00af00; text-decoration-color: #00af00\">50</span> │ Class[<span style=\"color: #00af00; text-decoration-color: #00af00\">0</span>][<span style=\"color: #00af00; text-decoration-color: #00af00\">0</span>]                │\n",
       "├───────────────────────────────┼───────────────────────────┼─────────────────┼────────────────────────────┤\n",
       "│ embedding_Source (<span style=\"color: #0087ff; text-decoration-color: #0087ff\">Embedding</span>)  │ (<span style=\"color: #00d7ff; text-decoration-color: #00d7ff\">None</span>, <span style=\"color: #00af00; text-decoration-color: #00af00\">1</span>, <span style=\"color: #00af00; text-decoration-color: #00af00\">5</span>)              │              <span style=\"color: #00af00; text-decoration-color: #00af00\">50</span> │ Source[<span style=\"color: #00af00; text-decoration-color: #00af00\">0</span>][<span style=\"color: #00af00; text-decoration-color: #00af00\">0</span>]               │\n",
       "├───────────────────────────────┼───────────────────────────┼─────────────────┼────────────────────────────┤\n",
       "│ embedding_Departure           │ (<span style=\"color: #00d7ff; text-decoration-color: #00d7ff\">None</span>, <span style=\"color: #00af00; text-decoration-color: #00af00\">1</span>, <span style=\"color: #00af00; text-decoration-color: #00af00\">5</span>)              │              <span style=\"color: #00af00; text-decoration-color: #00af00\">50</span> │ Departure[<span style=\"color: #00af00; text-decoration-color: #00af00\">0</span>][<span style=\"color: #00af00; text-decoration-color: #00af00\">0</span>]            │\n",
       "│ (<span style=\"color: #0087ff; text-decoration-color: #0087ff\">Embedding</span>)                   │                           │                 │                            │\n",
       "├───────────────────────────────┼───────────────────────────┼─────────────────┼────────────────────────────┤\n",
       "│ embedding_Total_stops         │ (<span style=\"color: #00d7ff; text-decoration-color: #00d7ff\">None</span>, <span style=\"color: #00af00; text-decoration-color: #00af00\">1</span>, <span style=\"color: #00af00; text-decoration-color: #00af00\">5</span>)              │              <span style=\"color: #00af00; text-decoration-color: #00af00\">50</span> │ Total_stops[<span style=\"color: #00af00; text-decoration-color: #00af00\">0</span>][<span style=\"color: #00af00; text-decoration-color: #00af00\">0</span>]          │\n",
       "│ (<span style=\"color: #0087ff; text-decoration-color: #0087ff\">Embedding</span>)                   │                           │                 │                            │\n",
       "├───────────────────────────────┼───────────────────────────┼─────────────────┼────────────────────────────┤\n",
       "│ embedding_Arrival (<span style=\"color: #0087ff; text-decoration-color: #0087ff\">Embedding</span>) │ (<span style=\"color: #00d7ff; text-decoration-color: #00d7ff\">None</span>, <span style=\"color: #00af00; text-decoration-color: #00af00\">1</span>, <span style=\"color: #00af00; text-decoration-color: #00af00\">5</span>)              │              <span style=\"color: #00af00; text-decoration-color: #00af00\">50</span> │ Arrival[<span style=\"color: #00af00; text-decoration-color: #00af00\">0</span>][<span style=\"color: #00af00; text-decoration-color: #00af00\">0</span>]              │\n",
       "├───────────────────────────────┼───────────────────────────┼─────────────────┼────────────────────────────┤\n",
       "│ embedding_Destination         │ (<span style=\"color: #00d7ff; text-decoration-color: #00d7ff\">None</span>, <span style=\"color: #00af00; text-decoration-color: #00af00\">1</span>, <span style=\"color: #00af00; text-decoration-color: #00af00\">5</span>)              │              <span style=\"color: #00af00; text-decoration-color: #00af00\">50</span> │ Destination[<span style=\"color: #00af00; text-decoration-color: #00af00\">0</span>][<span style=\"color: #00af00; text-decoration-color: #00af00\">0</span>]          │\n",
       "│ (<span style=\"color: #0087ff; text-decoration-color: #0087ff\">Embedding</span>)                   │                           │                 │                            │\n",
       "├───────────────────────────────┼───────────────────────────┼─────────────────┼────────────────────────────┤\n",
       "│ embedding_Month (<span style=\"color: #0087ff; text-decoration-color: #0087ff\">Embedding</span>)   │ (<span style=\"color: #00d7ff; text-decoration-color: #00d7ff\">None</span>, <span style=\"color: #00af00; text-decoration-color: #00af00\">1</span>, <span style=\"color: #00af00; text-decoration-color: #00af00\">5</span>)              │              <span style=\"color: #00af00; text-decoration-color: #00af00\">50</span> │ Month[<span style=\"color: #00af00; text-decoration-color: #00af00\">0</span>][<span style=\"color: #00af00; text-decoration-color: #00af00\">0</span>]                │\n",
       "├───────────────────────────────┼───────────────────────────┼─────────────────┼────────────────────────────┤\n",
       "│ reshape_20 (<span style=\"color: #0087ff; text-decoration-color: #0087ff\">Reshape</span>)          │ (<span style=\"color: #00d7ff; text-decoration-color: #00d7ff\">None</span>, <span style=\"color: #00af00; text-decoration-color: #00af00\">5</span>)                 │               <span style=\"color: #00af00; text-decoration-color: #00af00\">0</span> │ embedding_Journey_day[<span style=\"color: #00af00; text-decoration-color: #00af00\">0</span>][<span style=\"color: #00af00; text-decoration-color: #00af00\">…</span> │\n",
       "├───────────────────────────────┼───────────────────────────┼─────────────────┼────────────────────────────┤\n",
       "│ reshape_21 (<span style=\"color: #0087ff; text-decoration-color: #0087ff\">Reshape</span>)          │ (<span style=\"color: #00d7ff; text-decoration-color: #00d7ff\">None</span>, <span style=\"color: #00af00; text-decoration-color: #00af00\">5</span>)                 │               <span style=\"color: #00af00; text-decoration-color: #00af00\">0</span> │ embedding_Airline[<span style=\"color: #00af00; text-decoration-color: #00af00\">0</span>][<span style=\"color: #00af00; text-decoration-color: #00af00\">0</span>]    │\n",
       "├───────────────────────────────┼───────────────────────────┼─────────────────┼────────────────────────────┤\n",
       "│ reshape_22 (<span style=\"color: #0087ff; text-decoration-color: #0087ff\">Reshape</span>)          │ (<span style=\"color: #00d7ff; text-decoration-color: #00d7ff\">None</span>, <span style=\"color: #00af00; text-decoration-color: #00af00\">5</span>)                 │               <span style=\"color: #00af00; text-decoration-color: #00af00\">0</span> │ embedding_Flight_code[<span style=\"color: #00af00; text-decoration-color: #00af00\">0</span>][<span style=\"color: #00af00; text-decoration-color: #00af00\">…</span> │\n",
       "├───────────────────────────────┼───────────────────────────┼─────────────────┼────────────────────────────┤\n",
       "│ reshape_23 (<span style=\"color: #0087ff; text-decoration-color: #0087ff\">Reshape</span>)          │ (<span style=\"color: #00d7ff; text-decoration-color: #00d7ff\">None</span>, <span style=\"color: #00af00; text-decoration-color: #00af00\">5</span>)                 │               <span style=\"color: #00af00; text-decoration-color: #00af00\">0</span> │ embedding_Class[<span style=\"color: #00af00; text-decoration-color: #00af00\">0</span>][<span style=\"color: #00af00; text-decoration-color: #00af00\">0</span>]      │\n",
       "├───────────────────────────────┼───────────────────────────┼─────────────────┼────────────────────────────┤\n",
       "│ reshape_24 (<span style=\"color: #0087ff; text-decoration-color: #0087ff\">Reshape</span>)          │ (<span style=\"color: #00d7ff; text-decoration-color: #00d7ff\">None</span>, <span style=\"color: #00af00; text-decoration-color: #00af00\">5</span>)                 │               <span style=\"color: #00af00; text-decoration-color: #00af00\">0</span> │ embedding_Source[<span style=\"color: #00af00; text-decoration-color: #00af00\">0</span>][<span style=\"color: #00af00; text-decoration-color: #00af00\">0</span>]     │\n",
       "├───────────────────────────────┼───────────────────────────┼─────────────────┼────────────────────────────┤\n",
       "│ reshape_25 (<span style=\"color: #0087ff; text-decoration-color: #0087ff\">Reshape</span>)          │ (<span style=\"color: #00d7ff; text-decoration-color: #00d7ff\">None</span>, <span style=\"color: #00af00; text-decoration-color: #00af00\">5</span>)                 │               <span style=\"color: #00af00; text-decoration-color: #00af00\">0</span> │ embedding_Departure[<span style=\"color: #00af00; text-decoration-color: #00af00\">0</span>][<span style=\"color: #00af00; text-decoration-color: #00af00\">0</span>]  │\n",
       "├───────────────────────────────┼───────────────────────────┼─────────────────┼────────────────────────────┤\n",
       "│ reshape_26 (<span style=\"color: #0087ff; text-decoration-color: #0087ff\">Reshape</span>)          │ (<span style=\"color: #00d7ff; text-decoration-color: #00d7ff\">None</span>, <span style=\"color: #00af00; text-decoration-color: #00af00\">5</span>)                 │               <span style=\"color: #00af00; text-decoration-color: #00af00\">0</span> │ embedding_Total_stops[<span style=\"color: #00af00; text-decoration-color: #00af00\">0</span>][<span style=\"color: #00af00; text-decoration-color: #00af00\">…</span> │\n",
       "├───────────────────────────────┼───────────────────────────┼─────────────────┼────────────────────────────┤\n",
       "│ reshape_27 (<span style=\"color: #0087ff; text-decoration-color: #0087ff\">Reshape</span>)          │ (<span style=\"color: #00d7ff; text-decoration-color: #00d7ff\">None</span>, <span style=\"color: #00af00; text-decoration-color: #00af00\">5</span>)                 │               <span style=\"color: #00af00; text-decoration-color: #00af00\">0</span> │ embedding_Arrival[<span style=\"color: #00af00; text-decoration-color: #00af00\">0</span>][<span style=\"color: #00af00; text-decoration-color: #00af00\">0</span>]    │\n",
       "├───────────────────────────────┼───────────────────────────┼─────────────────┼────────────────────────────┤\n",
       "│ reshape_28 (<span style=\"color: #0087ff; text-decoration-color: #0087ff\">Reshape</span>)          │ (<span style=\"color: #00d7ff; text-decoration-color: #00d7ff\">None</span>, <span style=\"color: #00af00; text-decoration-color: #00af00\">5</span>)                 │               <span style=\"color: #00af00; text-decoration-color: #00af00\">0</span> │ embedding_Destination[<span style=\"color: #00af00; text-decoration-color: #00af00\">0</span>][<span style=\"color: #00af00; text-decoration-color: #00af00\">…</span> │\n",
       "├───────────────────────────────┼───────────────────────────┼─────────────────┼────────────────────────────┤\n",
       "│ reshape_29 (<span style=\"color: #0087ff; text-decoration-color: #0087ff\">Reshape</span>)          │ (<span style=\"color: #00d7ff; text-decoration-color: #00d7ff\">None</span>, <span style=\"color: #00af00; text-decoration-color: #00af00\">5</span>)                 │               <span style=\"color: #00af00; text-decoration-color: #00af00\">0</span> │ embedding_Month[<span style=\"color: #00af00; text-decoration-color: #00af00\">0</span>][<span style=\"color: #00af00; text-decoration-color: #00af00\">0</span>]      │\n",
       "├───────────────────────────────┼───────────────────────────┼─────────────────┼────────────────────────────┤\n",
       "│ concatenate_4 (<span style=\"color: #0087ff; text-decoration-color: #0087ff\">Concatenate</span>)   │ (<span style=\"color: #00d7ff; text-decoration-color: #00d7ff\">None</span>, <span style=\"color: #00af00; text-decoration-color: #00af00\">50</span>)                │               <span style=\"color: #00af00; text-decoration-color: #00af00\">0</span> │ reshape_20[<span style=\"color: #00af00; text-decoration-color: #00af00\">0</span>][<span style=\"color: #00af00; text-decoration-color: #00af00\">0</span>],          │\n",
       "│                               │                           │                 │ reshape_21[<span style=\"color: #00af00; text-decoration-color: #00af00\">0</span>][<span style=\"color: #00af00; text-decoration-color: #00af00\">0</span>],          │\n",
       "│                               │                           │                 │ reshape_22[<span style=\"color: #00af00; text-decoration-color: #00af00\">0</span>][<span style=\"color: #00af00; text-decoration-color: #00af00\">0</span>],          │\n",
       "│                               │                           │                 │ reshape_23[<span style=\"color: #00af00; text-decoration-color: #00af00\">0</span>][<span style=\"color: #00af00; text-decoration-color: #00af00\">0</span>],          │\n",
       "│                               │                           │                 │ reshape_24[<span style=\"color: #00af00; text-decoration-color: #00af00\">0</span>][<span style=\"color: #00af00; text-decoration-color: #00af00\">0</span>],          │\n",
       "│                               │                           │                 │ reshape_25[<span style=\"color: #00af00; text-decoration-color: #00af00\">0</span>][<span style=\"color: #00af00; text-decoration-color: #00af00\">0</span>],          │\n",
       "│                               │                           │                 │ reshape_26[<span style=\"color: #00af00; text-decoration-color: #00af00\">0</span>][<span style=\"color: #00af00; text-decoration-color: #00af00\">0</span>],          │\n",
       "│                               │                           │                 │ reshape_27[<span style=\"color: #00af00; text-decoration-color: #00af00\">0</span>][<span style=\"color: #00af00; text-decoration-color: #00af00\">0</span>],          │\n",
       "│                               │                           │                 │ reshape_28[<span style=\"color: #00af00; text-decoration-color: #00af00\">0</span>][<span style=\"color: #00af00; text-decoration-color: #00af00\">0</span>],          │\n",
       "│                               │                           │                 │ reshape_29[<span style=\"color: #00af00; text-decoration-color: #00af00\">0</span>][<span style=\"color: #00af00; text-decoration-color: #00af00\">0</span>]           │\n",
       "├───────────────────────────────┼───────────────────────────┼─────────────────┼────────────────────────────┤\n",
       "│ numeric_input (<span style=\"color: #0087ff; text-decoration-color: #0087ff\">InputLayer</span>)    │ (<span style=\"color: #00d7ff; text-decoration-color: #00d7ff\">None</span>, <span style=\"color: #00af00; text-decoration-color: #00af00\">4</span>)                 │               <span style=\"color: #00af00; text-decoration-color: #00af00\">0</span> │ -                          │\n",
       "├───────────────────────────────┼───────────────────────────┼─────────────────┼────────────────────────────┤\n",
       "│ concatenate_5 (<span style=\"color: #0087ff; text-decoration-color: #0087ff\">Concatenate</span>)   │ (<span style=\"color: #00d7ff; text-decoration-color: #00d7ff\">None</span>, <span style=\"color: #00af00; text-decoration-color: #00af00\">54</span>)                │               <span style=\"color: #00af00; text-decoration-color: #00af00\">0</span> │ concatenate_4[<span style=\"color: #00af00; text-decoration-color: #00af00\">0</span>][<span style=\"color: #00af00; text-decoration-color: #00af00\">0</span>],       │\n",
       "│                               │                           │                 │ numeric_input[<span style=\"color: #00af00; text-decoration-color: #00af00\">0</span>][<span style=\"color: #00af00; text-decoration-color: #00af00\">0</span>]        │\n",
       "├───────────────────────────────┼───────────────────────────┼─────────────────┼────────────────────────────┤\n",
       "│ dense_12 (<span style=\"color: #0087ff; text-decoration-color: #0087ff\">Dense</span>)              │ (<span style=\"color: #00d7ff; text-decoration-color: #00d7ff\">None</span>, <span style=\"color: #00af00; text-decoration-color: #00af00\">15</span>)                │             <span style=\"color: #00af00; text-decoration-color: #00af00\">825</span> │ concatenate_5[<span style=\"color: #00af00; text-decoration-color: #00af00\">0</span>][<span style=\"color: #00af00; text-decoration-color: #00af00\">0</span>]        │\n",
       "├───────────────────────────────┼───────────────────────────┼─────────────────┼────────────────────────────┤\n",
       "│ dense_13 (<span style=\"color: #0087ff; text-decoration-color: #0087ff\">Dense</span>)              │ (<span style=\"color: #00d7ff; text-decoration-color: #00d7ff\">None</span>, <span style=\"color: #00af00; text-decoration-color: #00af00\">8</span>)                 │             <span style=\"color: #00af00; text-decoration-color: #00af00\">128</span> │ dense_12[<span style=\"color: #00af00; text-decoration-color: #00af00\">0</span>][<span style=\"color: #00af00; text-decoration-color: #00af00\">0</span>]             │\n",
       "├───────────────────────────────┼───────────────────────────┼─────────────────┼────────────────────────────┤\n",
       "│ dense_14 (<span style=\"color: #0087ff; text-decoration-color: #0087ff\">Dense</span>)              │ (<span style=\"color: #00d7ff; text-decoration-color: #00d7ff\">None</span>, <span style=\"color: #00af00; text-decoration-color: #00af00\">4</span>)                 │              <span style=\"color: #00af00; text-decoration-color: #00af00\">36</span> │ dense_13[<span style=\"color: #00af00; text-decoration-color: #00af00\">0</span>][<span style=\"color: #00af00; text-decoration-color: #00af00\">0</span>]             │\n",
       "├───────────────────────────────┼───────────────────────────┼─────────────────┼────────────────────────────┤\n",
       "│ dense_15 (<span style=\"color: #0087ff; text-decoration-color: #0087ff\">Dense</span>)              │ (<span style=\"color: #00d7ff; text-decoration-color: #00d7ff\">None</span>, <span style=\"color: #00af00; text-decoration-color: #00af00\">2</span>)                 │              <span style=\"color: #00af00; text-decoration-color: #00af00\">10</span> │ dense_14[<span style=\"color: #00af00; text-decoration-color: #00af00\">0</span>][<span style=\"color: #00af00; text-decoration-color: #00af00\">0</span>]             │\n",
       "└───────────────────────────────┴───────────────────────────┴─────────────────┴────────────────────────────┘\n",
       "</pre>\n"
      ],
      "text/plain": [
       "┏━━━━━━━━━━━━━━━━━━━━━━━━━━━━━━━┳━━━━━━━━━━━━━━━━━━━━━━━━━━━┳━━━━━━━━━━━━━━━━━┳━━━━━━━━━━━━━━━━━━━━━━━━━━━━┓\n",
       "┃\u001b[1m \u001b[0m\u001b[1mLayer (type)                 \u001b[0m\u001b[1m \u001b[0m┃\u001b[1m \u001b[0m\u001b[1mOutput Shape             \u001b[0m\u001b[1m \u001b[0m┃\u001b[1m \u001b[0m\u001b[1m        Param #\u001b[0m\u001b[1m \u001b[0m┃\u001b[1m \u001b[0m\u001b[1mConnected to              \u001b[0m\u001b[1m \u001b[0m┃\n",
       "┡━━━━━━━━━━━━━━━━━━━━━━━━━━━━━━━╇━━━━━━━━━━━━━━━━━━━━━━━━━━━╇━━━━━━━━━━━━━━━━━╇━━━━━━━━━━━━━━━━━━━━━━━━━━━━┩\n",
       "│ Journey_day (\u001b[38;5;33mInputLayer\u001b[0m)      │ (\u001b[38;5;45mNone\u001b[0m, \u001b[38;5;34m1\u001b[0m)                 │               \u001b[38;5;34m0\u001b[0m │ -                          │\n",
       "├───────────────────────────────┼───────────────────────────┼─────────────────┼────────────────────────────┤\n",
       "│ Airline (\u001b[38;5;33mInputLayer\u001b[0m)          │ (\u001b[38;5;45mNone\u001b[0m, \u001b[38;5;34m1\u001b[0m)                 │               \u001b[38;5;34m0\u001b[0m │ -                          │\n",
       "├───────────────────────────────┼───────────────────────────┼─────────────────┼────────────────────────────┤\n",
       "│ Flight_code (\u001b[38;5;33mInputLayer\u001b[0m)      │ (\u001b[38;5;45mNone\u001b[0m, \u001b[38;5;34m1\u001b[0m)                 │               \u001b[38;5;34m0\u001b[0m │ -                          │\n",
       "├───────────────────────────────┼───────────────────────────┼─────────────────┼────────────────────────────┤\n",
       "│ Class (\u001b[38;5;33mInputLayer\u001b[0m)            │ (\u001b[38;5;45mNone\u001b[0m, \u001b[38;5;34m1\u001b[0m)                 │               \u001b[38;5;34m0\u001b[0m │ -                          │\n",
       "├───────────────────────────────┼───────────────────────────┼─────────────────┼────────────────────────────┤\n",
       "│ Source (\u001b[38;5;33mInputLayer\u001b[0m)           │ (\u001b[38;5;45mNone\u001b[0m, \u001b[38;5;34m1\u001b[0m)                 │               \u001b[38;5;34m0\u001b[0m │ -                          │\n",
       "├───────────────────────────────┼───────────────────────────┼─────────────────┼────────────────────────────┤\n",
       "│ Departure (\u001b[38;5;33mInputLayer\u001b[0m)        │ (\u001b[38;5;45mNone\u001b[0m, \u001b[38;5;34m1\u001b[0m)                 │               \u001b[38;5;34m0\u001b[0m │ -                          │\n",
       "├───────────────────────────────┼───────────────────────────┼─────────────────┼────────────────────────────┤\n",
       "│ Total_stops (\u001b[38;5;33mInputLayer\u001b[0m)      │ (\u001b[38;5;45mNone\u001b[0m, \u001b[38;5;34m1\u001b[0m)                 │               \u001b[38;5;34m0\u001b[0m │ -                          │\n",
       "├───────────────────────────────┼───────────────────────────┼─────────────────┼────────────────────────────┤\n",
       "│ Arrival (\u001b[38;5;33mInputLayer\u001b[0m)          │ (\u001b[38;5;45mNone\u001b[0m, \u001b[38;5;34m1\u001b[0m)                 │               \u001b[38;5;34m0\u001b[0m │ -                          │\n",
       "├───────────────────────────────┼───────────────────────────┼─────────────────┼────────────────────────────┤\n",
       "│ Destination (\u001b[38;5;33mInputLayer\u001b[0m)      │ (\u001b[38;5;45mNone\u001b[0m, \u001b[38;5;34m1\u001b[0m)                 │               \u001b[38;5;34m0\u001b[0m │ -                          │\n",
       "├───────────────────────────────┼───────────────────────────┼─────────────────┼────────────────────────────┤\n",
       "│ Month (\u001b[38;5;33mInputLayer\u001b[0m)            │ (\u001b[38;5;45mNone\u001b[0m, \u001b[38;5;34m1\u001b[0m)                 │               \u001b[38;5;34m0\u001b[0m │ -                          │\n",
       "├───────────────────────────────┼───────────────────────────┼─────────────────┼────────────────────────────┤\n",
       "│ embedding_Journey_day         │ (\u001b[38;5;45mNone\u001b[0m, \u001b[38;5;34m1\u001b[0m, \u001b[38;5;34m5\u001b[0m)              │              \u001b[38;5;34m50\u001b[0m │ Journey_day[\u001b[38;5;34m0\u001b[0m][\u001b[38;5;34m0\u001b[0m]          │\n",
       "│ (\u001b[38;5;33mEmbedding\u001b[0m)                   │                           │                 │                            │\n",
       "├───────────────────────────────┼───────────────────────────┼─────────────────┼────────────────────────────┤\n",
       "│ embedding_Airline (\u001b[38;5;33mEmbedding\u001b[0m) │ (\u001b[38;5;45mNone\u001b[0m, \u001b[38;5;34m1\u001b[0m, \u001b[38;5;34m5\u001b[0m)              │              \u001b[38;5;34m50\u001b[0m │ Airline[\u001b[38;5;34m0\u001b[0m][\u001b[38;5;34m0\u001b[0m]              │\n",
       "├───────────────────────────────┼───────────────────────────┼─────────────────┼────────────────────────────┤\n",
       "│ embedding_Flight_code         │ (\u001b[38;5;45mNone\u001b[0m, \u001b[38;5;34m1\u001b[0m, \u001b[38;5;34m5\u001b[0m)              │              \u001b[38;5;34m50\u001b[0m │ Flight_code[\u001b[38;5;34m0\u001b[0m][\u001b[38;5;34m0\u001b[0m]          │\n",
       "│ (\u001b[38;5;33mEmbedding\u001b[0m)                   │                           │                 │                            │\n",
       "├───────────────────────────────┼───────────────────────────┼─────────────────┼────────────────────────────┤\n",
       "│ embedding_Class (\u001b[38;5;33mEmbedding\u001b[0m)   │ (\u001b[38;5;45mNone\u001b[0m, \u001b[38;5;34m1\u001b[0m, \u001b[38;5;34m5\u001b[0m)              │              \u001b[38;5;34m50\u001b[0m │ Class[\u001b[38;5;34m0\u001b[0m][\u001b[38;5;34m0\u001b[0m]                │\n",
       "├───────────────────────────────┼───────────────────────────┼─────────────────┼────────────────────────────┤\n",
       "│ embedding_Source (\u001b[38;5;33mEmbedding\u001b[0m)  │ (\u001b[38;5;45mNone\u001b[0m, \u001b[38;5;34m1\u001b[0m, \u001b[38;5;34m5\u001b[0m)              │              \u001b[38;5;34m50\u001b[0m │ Source[\u001b[38;5;34m0\u001b[0m][\u001b[38;5;34m0\u001b[0m]               │\n",
       "├───────────────────────────────┼───────────────────────────┼─────────────────┼────────────────────────────┤\n",
       "│ embedding_Departure           │ (\u001b[38;5;45mNone\u001b[0m, \u001b[38;5;34m1\u001b[0m, \u001b[38;5;34m5\u001b[0m)              │              \u001b[38;5;34m50\u001b[0m │ Departure[\u001b[38;5;34m0\u001b[0m][\u001b[38;5;34m0\u001b[0m]            │\n",
       "│ (\u001b[38;5;33mEmbedding\u001b[0m)                   │                           │                 │                            │\n",
       "├───────────────────────────────┼───────────────────────────┼─────────────────┼────────────────────────────┤\n",
       "│ embedding_Total_stops         │ (\u001b[38;5;45mNone\u001b[0m, \u001b[38;5;34m1\u001b[0m, \u001b[38;5;34m5\u001b[0m)              │              \u001b[38;5;34m50\u001b[0m │ Total_stops[\u001b[38;5;34m0\u001b[0m][\u001b[38;5;34m0\u001b[0m]          │\n",
       "│ (\u001b[38;5;33mEmbedding\u001b[0m)                   │                           │                 │                            │\n",
       "├───────────────────────────────┼───────────────────────────┼─────────────────┼────────────────────────────┤\n",
       "│ embedding_Arrival (\u001b[38;5;33mEmbedding\u001b[0m) │ (\u001b[38;5;45mNone\u001b[0m, \u001b[38;5;34m1\u001b[0m, \u001b[38;5;34m5\u001b[0m)              │              \u001b[38;5;34m50\u001b[0m │ Arrival[\u001b[38;5;34m0\u001b[0m][\u001b[38;5;34m0\u001b[0m]              │\n",
       "├───────────────────────────────┼───────────────────────────┼─────────────────┼────────────────────────────┤\n",
       "│ embedding_Destination         │ (\u001b[38;5;45mNone\u001b[0m, \u001b[38;5;34m1\u001b[0m, \u001b[38;5;34m5\u001b[0m)              │              \u001b[38;5;34m50\u001b[0m │ Destination[\u001b[38;5;34m0\u001b[0m][\u001b[38;5;34m0\u001b[0m]          │\n",
       "│ (\u001b[38;5;33mEmbedding\u001b[0m)                   │                           │                 │                            │\n",
       "├───────────────────────────────┼───────────────────────────┼─────────────────┼────────────────────────────┤\n",
       "│ embedding_Month (\u001b[38;5;33mEmbedding\u001b[0m)   │ (\u001b[38;5;45mNone\u001b[0m, \u001b[38;5;34m1\u001b[0m, \u001b[38;5;34m5\u001b[0m)              │              \u001b[38;5;34m50\u001b[0m │ Month[\u001b[38;5;34m0\u001b[0m][\u001b[38;5;34m0\u001b[0m]                │\n",
       "├───────────────────────────────┼───────────────────────────┼─────────────────┼────────────────────────────┤\n",
       "│ reshape_20 (\u001b[38;5;33mReshape\u001b[0m)          │ (\u001b[38;5;45mNone\u001b[0m, \u001b[38;5;34m5\u001b[0m)                 │               \u001b[38;5;34m0\u001b[0m │ embedding_Journey_day[\u001b[38;5;34m0\u001b[0m][\u001b[38;5;34m…\u001b[0m │\n",
       "├───────────────────────────────┼───────────────────────────┼─────────────────┼────────────────────────────┤\n",
       "│ reshape_21 (\u001b[38;5;33mReshape\u001b[0m)          │ (\u001b[38;5;45mNone\u001b[0m, \u001b[38;5;34m5\u001b[0m)                 │               \u001b[38;5;34m0\u001b[0m │ embedding_Airline[\u001b[38;5;34m0\u001b[0m][\u001b[38;5;34m0\u001b[0m]    │\n",
       "├───────────────────────────────┼───────────────────────────┼─────────────────┼────────────────────────────┤\n",
       "│ reshape_22 (\u001b[38;5;33mReshape\u001b[0m)          │ (\u001b[38;5;45mNone\u001b[0m, \u001b[38;5;34m5\u001b[0m)                 │               \u001b[38;5;34m0\u001b[0m │ embedding_Flight_code[\u001b[38;5;34m0\u001b[0m][\u001b[38;5;34m…\u001b[0m │\n",
       "├───────────────────────────────┼───────────────────────────┼─────────────────┼────────────────────────────┤\n",
       "│ reshape_23 (\u001b[38;5;33mReshape\u001b[0m)          │ (\u001b[38;5;45mNone\u001b[0m, \u001b[38;5;34m5\u001b[0m)                 │               \u001b[38;5;34m0\u001b[0m │ embedding_Class[\u001b[38;5;34m0\u001b[0m][\u001b[38;5;34m0\u001b[0m]      │\n",
       "├───────────────────────────────┼───────────────────────────┼─────────────────┼────────────────────────────┤\n",
       "│ reshape_24 (\u001b[38;5;33mReshape\u001b[0m)          │ (\u001b[38;5;45mNone\u001b[0m, \u001b[38;5;34m5\u001b[0m)                 │               \u001b[38;5;34m0\u001b[0m │ embedding_Source[\u001b[38;5;34m0\u001b[0m][\u001b[38;5;34m0\u001b[0m]     │\n",
       "├───────────────────────────────┼───────────────────────────┼─────────────────┼────────────────────────────┤\n",
       "│ reshape_25 (\u001b[38;5;33mReshape\u001b[0m)          │ (\u001b[38;5;45mNone\u001b[0m, \u001b[38;5;34m5\u001b[0m)                 │               \u001b[38;5;34m0\u001b[0m │ embedding_Departure[\u001b[38;5;34m0\u001b[0m][\u001b[38;5;34m0\u001b[0m]  │\n",
       "├───────────────────────────────┼───────────────────────────┼─────────────────┼────────────────────────────┤\n",
       "│ reshape_26 (\u001b[38;5;33mReshape\u001b[0m)          │ (\u001b[38;5;45mNone\u001b[0m, \u001b[38;5;34m5\u001b[0m)                 │               \u001b[38;5;34m0\u001b[0m │ embedding_Total_stops[\u001b[38;5;34m0\u001b[0m][\u001b[38;5;34m…\u001b[0m │\n",
       "├───────────────────────────────┼───────────────────────────┼─────────────────┼────────────────────────────┤\n",
       "│ reshape_27 (\u001b[38;5;33mReshape\u001b[0m)          │ (\u001b[38;5;45mNone\u001b[0m, \u001b[38;5;34m5\u001b[0m)                 │               \u001b[38;5;34m0\u001b[0m │ embedding_Arrival[\u001b[38;5;34m0\u001b[0m][\u001b[38;5;34m0\u001b[0m]    │\n",
       "├───────────────────────────────┼───────────────────────────┼─────────────────┼────────────────────────────┤\n",
       "│ reshape_28 (\u001b[38;5;33mReshape\u001b[0m)          │ (\u001b[38;5;45mNone\u001b[0m, \u001b[38;5;34m5\u001b[0m)                 │               \u001b[38;5;34m0\u001b[0m │ embedding_Destination[\u001b[38;5;34m0\u001b[0m][\u001b[38;5;34m…\u001b[0m │\n",
       "├───────────────────────────────┼───────────────────────────┼─────────────────┼────────────────────────────┤\n",
       "│ reshape_29 (\u001b[38;5;33mReshape\u001b[0m)          │ (\u001b[38;5;45mNone\u001b[0m, \u001b[38;5;34m5\u001b[0m)                 │               \u001b[38;5;34m0\u001b[0m │ embedding_Month[\u001b[38;5;34m0\u001b[0m][\u001b[38;5;34m0\u001b[0m]      │\n",
       "├───────────────────────────────┼───────────────────────────┼─────────────────┼────────────────────────────┤\n",
       "│ concatenate_4 (\u001b[38;5;33mConcatenate\u001b[0m)   │ (\u001b[38;5;45mNone\u001b[0m, \u001b[38;5;34m50\u001b[0m)                │               \u001b[38;5;34m0\u001b[0m │ reshape_20[\u001b[38;5;34m0\u001b[0m][\u001b[38;5;34m0\u001b[0m],          │\n",
       "│                               │                           │                 │ reshape_21[\u001b[38;5;34m0\u001b[0m][\u001b[38;5;34m0\u001b[0m],          │\n",
       "│                               │                           │                 │ reshape_22[\u001b[38;5;34m0\u001b[0m][\u001b[38;5;34m0\u001b[0m],          │\n",
       "│                               │                           │                 │ reshape_23[\u001b[38;5;34m0\u001b[0m][\u001b[38;5;34m0\u001b[0m],          │\n",
       "│                               │                           │                 │ reshape_24[\u001b[38;5;34m0\u001b[0m][\u001b[38;5;34m0\u001b[0m],          │\n",
       "│                               │                           │                 │ reshape_25[\u001b[38;5;34m0\u001b[0m][\u001b[38;5;34m0\u001b[0m],          │\n",
       "│                               │                           │                 │ reshape_26[\u001b[38;5;34m0\u001b[0m][\u001b[38;5;34m0\u001b[0m],          │\n",
       "│                               │                           │                 │ reshape_27[\u001b[38;5;34m0\u001b[0m][\u001b[38;5;34m0\u001b[0m],          │\n",
       "│                               │                           │                 │ reshape_28[\u001b[38;5;34m0\u001b[0m][\u001b[38;5;34m0\u001b[0m],          │\n",
       "│                               │                           │                 │ reshape_29[\u001b[38;5;34m0\u001b[0m][\u001b[38;5;34m0\u001b[0m]           │\n",
       "├───────────────────────────────┼───────────────────────────┼─────────────────┼────────────────────────────┤\n",
       "│ numeric_input (\u001b[38;5;33mInputLayer\u001b[0m)    │ (\u001b[38;5;45mNone\u001b[0m, \u001b[38;5;34m4\u001b[0m)                 │               \u001b[38;5;34m0\u001b[0m │ -                          │\n",
       "├───────────────────────────────┼───────────────────────────┼─────────────────┼────────────────────────────┤\n",
       "│ concatenate_5 (\u001b[38;5;33mConcatenate\u001b[0m)   │ (\u001b[38;5;45mNone\u001b[0m, \u001b[38;5;34m54\u001b[0m)                │               \u001b[38;5;34m0\u001b[0m │ concatenate_4[\u001b[38;5;34m0\u001b[0m][\u001b[38;5;34m0\u001b[0m],       │\n",
       "│                               │                           │                 │ numeric_input[\u001b[38;5;34m0\u001b[0m][\u001b[38;5;34m0\u001b[0m]        │\n",
       "├───────────────────────────────┼───────────────────────────┼─────────────────┼────────────────────────────┤\n",
       "│ dense_12 (\u001b[38;5;33mDense\u001b[0m)              │ (\u001b[38;5;45mNone\u001b[0m, \u001b[38;5;34m15\u001b[0m)                │             \u001b[38;5;34m825\u001b[0m │ concatenate_5[\u001b[38;5;34m0\u001b[0m][\u001b[38;5;34m0\u001b[0m]        │\n",
       "├───────────────────────────────┼───────────────────────────┼─────────────────┼────────────────────────────┤\n",
       "│ dense_13 (\u001b[38;5;33mDense\u001b[0m)              │ (\u001b[38;5;45mNone\u001b[0m, \u001b[38;5;34m8\u001b[0m)                 │             \u001b[38;5;34m128\u001b[0m │ dense_12[\u001b[38;5;34m0\u001b[0m][\u001b[38;5;34m0\u001b[0m]             │\n",
       "├───────────────────────────────┼───────────────────────────┼─────────────────┼────────────────────────────┤\n",
       "│ dense_14 (\u001b[38;5;33mDense\u001b[0m)              │ (\u001b[38;5;45mNone\u001b[0m, \u001b[38;5;34m4\u001b[0m)                 │              \u001b[38;5;34m36\u001b[0m │ dense_13[\u001b[38;5;34m0\u001b[0m][\u001b[38;5;34m0\u001b[0m]             │\n",
       "├───────────────────────────────┼───────────────────────────┼─────────────────┼────────────────────────────┤\n",
       "│ dense_15 (\u001b[38;5;33mDense\u001b[0m)              │ (\u001b[38;5;45mNone\u001b[0m, \u001b[38;5;34m2\u001b[0m)                 │              \u001b[38;5;34m10\u001b[0m │ dense_14[\u001b[38;5;34m0\u001b[0m][\u001b[38;5;34m0\u001b[0m]             │\n",
       "└───────────────────────────────┴───────────────────────────┴─────────────────┴────────────────────────────┘\n"
      ]
     },
     "metadata": {},
     "output_type": "display_data"
    },
    {
     "data": {
      "text/html": [
       "<pre style=\"white-space:pre;overflow-x:auto;line-height:normal;font-family:Menlo,'DejaVu Sans Mono',consolas,'Courier New',monospace\"><span style=\"font-weight: bold\"> Total params: </span><span style=\"color: #00af00; text-decoration-color: #00af00\">1,499</span> (5.86 KB)\n",
       "</pre>\n"
      ],
      "text/plain": [
       "\u001b[1m Total params: \u001b[0m\u001b[38;5;34m1,499\u001b[0m (5.86 KB)\n"
      ]
     },
     "metadata": {},
     "output_type": "display_data"
    },
    {
     "data": {
      "text/html": [
       "<pre style=\"white-space:pre;overflow-x:auto;line-height:normal;font-family:Menlo,'DejaVu Sans Mono',consolas,'Courier New',monospace\"><span style=\"font-weight: bold\"> Trainable params: </span><span style=\"color: #00af00; text-decoration-color: #00af00\">1,499</span> (5.86 KB)\n",
       "</pre>\n"
      ],
      "text/plain": [
       "\u001b[1m Trainable params: \u001b[0m\u001b[38;5;34m1,499\u001b[0m (5.86 KB)\n"
      ]
     },
     "metadata": {},
     "output_type": "display_data"
    },
    {
     "data": {
      "text/html": [
       "<pre style=\"white-space:pre;overflow-x:auto;line-height:normal;font-family:Menlo,'DejaVu Sans Mono',consolas,'Courier New',monospace\"><span style=\"font-weight: bold\"> Non-trainable params: </span><span style=\"color: #00af00; text-decoration-color: #00af00\">0</span> (0.00 B)\n",
       "</pre>\n"
      ],
      "text/plain": [
       "\u001b[1m Non-trainable params: \u001b[0m\u001b[38;5;34m0\u001b[0m (0.00 B)\n"
      ]
     },
     "metadata": {},
     "output_type": "display_data"
    }
   ],
   "source": [
    "from tensorflow.keras.layers import Dense\n",
    " \n",
    "# Dense layer with 15 neurons and relu activation function\n",
    "model = Dense(15, activation='relu')(model_data)\n",
    "# Dense layer with 8 neurons and relu activation function\n",
    "model = Dense(8, activation='relu')(model)\n",
    "# Dense layer with 4 neurons and relu activation function\n",
    "model = Dense(4, activation='relu')(model)\n",
    "# Output layer with one neuron and linear activation function\n",
    "outputs = Dense(2, activation='softmax')(model)\n",
    " \n",
    "# Use Model to group layers into an object with training and inference features\n",
    "nn = Model(inputs=model_input, outputs=outputs, name='Entity_embedding_model_keras')\n",
    " \n",
    "# Print out the model summary\n",
    "nn.summary()"
   ]
  },
  {
   "cell_type": "code",
   "execution_count": 88,
   "id": "20011583-d77c-4a79-b425-679aca915178",
   "metadata": {},
   "outputs": [
    {
     "name": "stdout",
     "output_type": "stream",
     "text": [
      "Epoch 1/5\n"
     ]
    },
    {
     "ename": "ValueError",
     "evalue": "Input 10 of layer \"Entity_embedding_model_keras\" is incompatible with the layer: expected shape=(None, 4), found shape=(None, 3)",
     "output_type": "error",
     "traceback": [
      "\u001b[1;31m---------------------------------------------------------------------------\u001b[0m",
      "\u001b[1;31mValueError\u001b[0m                                Traceback (most recent call last)",
      "Cell \u001b[1;32mIn[88], line 15\u001b[0m\n\u001b[0;32m      8\u001b[0m es \u001b[38;5;241m=\u001b[39m EarlyStopping(monitor\u001b[38;5;241m=\u001b[39m\u001b[38;5;124m'\u001b[39m\u001b[38;5;124mval_loss\u001b[39m\u001b[38;5;124m'\u001b[39m, \n\u001b[0;32m      9\u001b[0m                    mode\u001b[38;5;241m=\u001b[39m\u001b[38;5;124m'\u001b[39m\u001b[38;5;124mmin\u001b[39m\u001b[38;5;124m'\u001b[39m, \n\u001b[0;32m     10\u001b[0m                    verbose\u001b[38;5;241m=\u001b[39m\u001b[38;5;241m1\u001b[39m, \n\u001b[0;32m     11\u001b[0m                    patience\u001b[38;5;241m=\u001b[39m\u001b[38;5;241m50\u001b[39m,\n\u001b[0;32m     12\u001b[0m                    restore_best_weights\u001b[38;5;241m=\u001b[39m\u001b[38;5;28;01mTrue\u001b[39;00m)\n\u001b[0;32m     14\u001b[0m \u001b[38;5;66;03m# Fit the model\u001b[39;00m\n\u001b[1;32m---> 15\u001b[0m history  \u001b[38;5;241m=\u001b[39m  \u001b[43mnn\u001b[49m\u001b[38;5;241;43m.\u001b[39;49m\u001b[43mfit\u001b[49m\u001b[43m(\u001b[49m\u001b[43minput_list_trainx\u001b[49m\u001b[43m,\u001b[49m\n\u001b[0;32m     16\u001b[0m \u001b[43m                   \u001b[49m\u001b[43my_train\u001b[49m\u001b[43m,\u001b[49m\u001b[43m \u001b[49m\n\u001b[0;32m     17\u001b[0m \u001b[43m                   \u001b[49m\u001b[43mvalidation_data\u001b[49m\u001b[38;5;241;43m=\u001b[39;49m\u001b[43m(\u001b[49m\u001b[43minput_list_testx\u001b[49m\u001b[43m,\u001b[49m\u001b[43m \u001b[49m\u001b[43my_test\u001b[49m\u001b[43m)\u001b[49m\u001b[43m,\u001b[49m\u001b[43m \u001b[49m\n\u001b[0;32m     18\u001b[0m \u001b[43m                   \u001b[49m\u001b[43mepochs\u001b[49m\u001b[38;5;241;43m=\u001b[39;49m\u001b[38;5;241;43m5\u001b[39;49m\u001b[43m,\u001b[49m\u001b[43m \u001b[49m\n\u001b[0;32m     19\u001b[0m \u001b[43m                   \u001b[49m\u001b[43mbatch_size\u001b[49m\u001b[38;5;241;43m=\u001b[39;49m\u001b[38;5;241;43m64\u001b[39;49m\u001b[43m,\u001b[49m\u001b[43m \u001b[49m\n\u001b[0;32m     20\u001b[0m \u001b[43m                   \u001b[49m\u001b[43mverbose\u001b[49m\u001b[38;5;241;43m=\u001b[39;49m\u001b[38;5;241;43m1\u001b[39;49m\u001b[43m)\u001b[49m\n",
      "File \u001b[1;32m~\\AppData\\Local\\Programs\\Python\\Python39\\lib\\site-packages\\keras\\src\\utils\\traceback_utils.py:122\u001b[0m, in \u001b[0;36mfilter_traceback.<locals>.error_handler\u001b[1;34m(*args, **kwargs)\u001b[0m\n\u001b[0;32m    119\u001b[0m     filtered_tb \u001b[38;5;241m=\u001b[39m _process_traceback_frames(e\u001b[38;5;241m.\u001b[39m__traceback__)\n\u001b[0;32m    120\u001b[0m     \u001b[38;5;66;03m# To get the full stack trace, call:\u001b[39;00m\n\u001b[0;32m    121\u001b[0m     \u001b[38;5;66;03m# `keras.config.disable_traceback_filtering()`\u001b[39;00m\n\u001b[1;32m--> 122\u001b[0m     \u001b[38;5;28;01mraise\u001b[39;00m e\u001b[38;5;241m.\u001b[39mwith_traceback(filtered_tb) \u001b[38;5;28;01mfrom\u001b[39;00m \u001b[38;5;28;01mNone\u001b[39;00m\n\u001b[0;32m    123\u001b[0m \u001b[38;5;28;01mfinally\u001b[39;00m:\n\u001b[0;32m    124\u001b[0m     \u001b[38;5;28;01mdel\u001b[39;00m filtered_tb\n",
      "File \u001b[1;32m~\\AppData\\Local\\Programs\\Python\\Python39\\lib\\site-packages\\keras\\src\\layers\\input_spec.py:245\u001b[0m, in \u001b[0;36massert_input_compatibility\u001b[1;34m(input_spec, inputs, layer_name)\u001b[0m\n\u001b[0;32m    243\u001b[0m \u001b[38;5;28;01mif\u001b[39;00m spec_dim \u001b[38;5;129;01mis\u001b[39;00m \u001b[38;5;129;01mnot\u001b[39;00m \u001b[38;5;28;01mNone\u001b[39;00m \u001b[38;5;129;01mand\u001b[39;00m dim \u001b[38;5;129;01mis\u001b[39;00m \u001b[38;5;129;01mnot\u001b[39;00m \u001b[38;5;28;01mNone\u001b[39;00m:\n\u001b[0;32m    244\u001b[0m     \u001b[38;5;28;01mif\u001b[39;00m spec_dim \u001b[38;5;241m!=\u001b[39m dim:\n\u001b[1;32m--> 245\u001b[0m         \u001b[38;5;28;01mraise\u001b[39;00m \u001b[38;5;167;01mValueError\u001b[39;00m(\n\u001b[0;32m    246\u001b[0m             \u001b[38;5;124mf\u001b[39m\u001b[38;5;124m'\u001b[39m\u001b[38;5;124mInput \u001b[39m\u001b[38;5;132;01m{\u001b[39;00minput_index\u001b[38;5;132;01m}\u001b[39;00m\u001b[38;5;124m of layer \u001b[39m\u001b[38;5;124m\"\u001b[39m\u001b[38;5;132;01m{\u001b[39;00mlayer_name\u001b[38;5;132;01m}\u001b[39;00m\u001b[38;5;124m\"\u001b[39m\u001b[38;5;124m is \u001b[39m\u001b[38;5;124m'\u001b[39m\n\u001b[0;32m    247\u001b[0m             \u001b[38;5;124m\"\u001b[39m\u001b[38;5;124mincompatible with the layer: \u001b[39m\u001b[38;5;124m\"\u001b[39m\n\u001b[0;32m    248\u001b[0m             \u001b[38;5;124mf\u001b[39m\u001b[38;5;124m\"\u001b[39m\u001b[38;5;124mexpected shape=\u001b[39m\u001b[38;5;132;01m{\u001b[39;00mspec\u001b[38;5;241m.\u001b[39mshape\u001b[38;5;132;01m}\u001b[39;00m\u001b[38;5;124m, \u001b[39m\u001b[38;5;124m\"\u001b[39m\n\u001b[0;32m    249\u001b[0m             \u001b[38;5;124mf\u001b[39m\u001b[38;5;124m\"\u001b[39m\u001b[38;5;124mfound shape=\u001b[39m\u001b[38;5;132;01m{\u001b[39;00mshape\u001b[38;5;132;01m}\u001b[39;00m\u001b[38;5;124m\"\u001b[39m\n\u001b[0;32m    250\u001b[0m         )\n",
      "\u001b[1;31mValueError\u001b[0m: Input 10 of layer \"Entity_embedding_model_keras\" is incompatible with the layer: expected shape=(None, 4), found shape=(None, 3)"
     ]
    }
   ],
   "source": [
    "# Convert input arrays to the appropriate data type\n",
    "input_list_trainx = [np.array(arr, dtype=np.float32) for arr in input_list_train]\n",
    "input_list_testx = [np.array(arr, dtype=np.float32) for arr in input_list_test]\n",
    "# Compile model\n",
    "nn.compile(loss='mean_squared_error', optimizer='adam', metrics=['mae'])\n",
    "\n",
    "# Set up early stopping\n",
    "es = EarlyStopping(monitor='val_loss', \n",
    "                   mode='min', \n",
    "                   verbose=1, \n",
    "                   patience=50,\n",
    "                   restore_best_weights=True)\n",
    "\n",
    "# Fit the model\n",
    "history  =  nn.fit(input_list_trainx,\n",
    "                   y_train, \n",
    "                   validation_data=(input_list_testx, y_test), \n",
    "                   epochs=5, \n",
    "                   batch_size=64, \n",
    "                   verbose=1)"
   ]
  },
  {
   "cell_type": "code",
   "execution_count": null,
   "id": "fcb9239d-178c-4a77-a6fe-e118ecd795b9",
   "metadata": {},
   "outputs": [],
   "source": [
    "# array_data = original_dtf_copy.values\n",
    "# print(array_data)"
   ]
  },
  {
   "cell_type": "code",
   "execution_count": null,
   "id": "e133d153-2c42-4457-a8ea-9f0196131be1",
   "metadata": {},
   "outputs": [],
   "source": [
    "# X_train_arr = X_train.values\n",
    "# print(X_train_arr)\n",
    "# # y_train_arr = y_train.values\n",
    "# # print(y_train_arr)\n",
    "# X_test_arr = X_test.values\n",
    "# print(X_test_arr)\n",
    "# # y_test_arr = y_test.values\n",
    "# # print(y_test_arr)"
   ]
  },
  {
   "cell_type": "code",
   "execution_count": null,
   "id": "ac47f528-4386-479e-a3f6-2ffbfd78f010",
   "metadata": {},
   "outputs": [],
   "source": [
    "# oof_preds = np.zeros((len(X_train_arr)))\n",
    "# test_preds = np.zeros((len(X_test_arr)))"
   ]
  },
  {
   "cell_type": "code",
   "execution_count": null,
   "id": "040fa7b8-ccd0-49db-adc4-8d2e240e50b5",
   "metadata": {},
   "outputs": [],
   "source": [
    "# def create_model(data, catcols):    \n",
    "#     inputs = []\n",
    "#     outputs = []\n",
    "#     for c in catcols:\n",
    "#         num_unique_values = int(data[c].nunique())\n",
    "#         embed_dim = int(min(np.ceil((num_unique_values)/2), 50))\n",
    "#         inp = layers.Input(shape=(1,))\n",
    "#         out = layers.Embedding(num_unique_values + 1, embed_dim, name=c)(inp)\n",
    "#         out = layers.SpatialDropout1D(0.3)(out)\n",
    "#         out = layers.Reshape(target_shape=(embed_dim, ))(out)\n",
    "#         inputs.append(inp)\n",
    "#         outputs.append(out)\n",
    "    \n",
    "#     x = layers.Concatenate()(outputs)\n",
    "#     x = layers.BatchNormalization()(x)\n",
    "    \n",
    "#     x = layers.Dense(300, activation=\"relu\")(x)\n",
    "#     x = layers.Dropout(0.3)(x)\n",
    "#     x = layers.BatchNormalization()(x)\n",
    "    \n",
    "#     x = layers.Dense(300, activation=\"relu\")(x)\n",
    "#     x = layers.Dropout(0.3)(x)\n",
    "#     x = layers.BatchNormalization()(x)\n",
    "    \n",
    "#     y = layers.Dense(2, activation=\"softmax\")(x)\n",
    "\n",
    "#     model = Model(inputs=inputs, outputs=y)\n",
    "#     return model"
   ]
  },
  {
   "cell_type": "code",
   "execution_count": null,
   "id": "ec40dfe8-6f98-45e0-aad4-65fdf61c24c3",
   "metadata": {},
   "outputs": [],
   "source": [
    "# model = create_model(original_dtf_copy, features)\n",
    "# model.summary()"
   ]
  },
  {
   "cell_type": "code",
   "execution_count": null,
   "id": "d03831cc-0c16-4b38-9101-05be6787649e",
   "metadata": {},
   "outputs": [],
   "source": [
    "# Append numerical values to the training and testing list\n",
    "# numeric_cols = ['Duration_in_hours','Advance_days','Date_of_journey']\n",
    "\n",
    "# input_list_train.append(X_train[numeric_cols].values)\n",
    "# input_list_test.append(X_test[numeric_cols].values)\n",
    "\n",
    "\n",
    "# model.compile(loss='mean_squared_error', optimizer='adam', metrics=['mae'])\n",
    "\n",
    "# # print(X_train_arr)\n",
    "# # # Convert the NumPy array to a supported data type if necessary\n",
    "# # X_train_arr = X_train_arr.astype(np.float64)  # Convert to float32\n",
    "# # # Convert the NumPy array to a TensorFlow tensor\n",
    "# # arr_tensor = tf.convert_to_tensor(X_train_arr)\n",
    "# # print(arr_tensor)\n",
    "# X_train_s = [X_train.loc[:, features].values[:, k] for k in range(X_train.loc[:, features].values.shape[1])]\n",
    "# X_test_s = [X_test.loc[:, features].values[:, k] for k in range(X_test.loc[:, features].values.shape[1])]\n",
    "\n",
    "\n",
    "# # Convert the NumPy array to a TensorFlow tensor\n",
    "# arr_tensor_train = tf.convert_to_tensor(X_train_s)\n",
    "# arr_tensor_test = tf.convert_to_tensor(X_test_s)\n",
    "\n",
    "# Set up early stopping\n",
    "# es = EarlyStopping(monitor='val_loss', \n",
    "#                    mode='min', \n",
    "#                    verbose=1, \n",
    "#                    patience=50,\n",
    "#                    restore_best_weights=True)\n",
    "\n",
    "# rlr = callbacks.ReduceLROnPlateau(monitor='val_auc', factor=0.5,\n",
    "#                                       patience=3, min_lr=1e-6, mode='max', verbose=1)\n",
    "\n",
    "# model.fit(arr_tensor_train,\n",
    "#               y_train,\n",
    "#               validation_data=(arr_tensor_test, y_test),\n",
    "#               verbose=1,\n",
    "#               batch_size=1024,\n",
    "#               callbacks=[es, rlr],\n",
    "#               epochs=100\n",
    "#              )\n",
    "\n",
    "# # Fit the model\n",
    "# history  = model.fit(X_train_s,\n",
    "#                    y_train, \n",
    "#                    validation_data=(X_test_s, y_test), \n",
    "#                    epochs=5, \n",
    "#                    batch_size=64, \n",
    "#                    verbose=1, \n",
    "#                    callbacks=[es])"
   ]
  },
  {
   "cell_type": "code",
   "execution_count": null,
   "id": "446a2309-a42d-41df-ad68-819bb7cdd204",
   "metadata": {},
   "outputs": [],
   "source": []
  }
 ],
 "metadata": {
  "kernelspec": {
   "display_name": "Python 3 (ipykernel)",
   "language": "python",
   "name": "python3"
  },
  "language_info": {
   "codemirror_mode": {
    "name": "ipython",
    "version": 3
   },
   "file_extension": ".py",
   "mimetype": "text/x-python",
   "name": "python",
   "nbconvert_exporter": "python",
   "pygments_lexer": "ipython3",
   "version": "3.9.9"
  }
 },
 "nbformat": 4,
 "nbformat_minor": 5
}
